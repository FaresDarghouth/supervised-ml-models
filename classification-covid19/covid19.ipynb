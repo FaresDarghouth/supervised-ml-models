{
 "cells": [
  {
   "cell_type": "markdown",
   "metadata": {},
   "source": [
    "# Importing libraries"
   ]
  },
  {
   "cell_type": "code",
   "execution_count": 318,
   "metadata": {},
   "outputs": [],
   "source": [
    "import numpy as np\n",
    "import pandas as pd\n",
    "import matplotlib.pyplot as plt\n",
    "import seaborn as sns\n",
    "from sklearn.preprocessing import StandardScaler,LabelEncoder\n",
    "from sklearn.model_selection import train_test_split,GridSearchCV\n",
    "from sklearn.neighbors import KNeighborsClassifier\n",
    "from sklearn.metrics import accuracy_score, precision_score, recall_score, f1_score, classification_report, confusion_matrix"
   ]
  },
  {
   "cell_type": "markdown",
   "metadata": {},
   "source": [
    "# Death prediction in Colombia due to covid-19."
   ]
  },
  {
   "cell_type": "code",
   "execution_count": null,
   "metadata": {},
   "outputs": [],
   "source": [
    "df = pd.read_csv('Casos_positivos_de_COVID-19_en_Colombia._20241128.csv')"
   ]
  },
  {
   "cell_type": "markdown",
   "metadata": {},
   "source": [
    "## 1. Data Collection"
   ]
  },
  {
   "cell_type": "markdown",
   "metadata": {},
   "source": [
    "The dataset that we found is too big (more than 6.3M of records) and the features are written in spanish, which doesn't help us for cleaning it.\n",
    "\n",
    "We will then rename columns, and use a small sample (more precisely 1% of the original dataset) to export it to another file.\n",
    "\n",
    "Doing so, we will have readable input variables in english, and a file that will allow us to use less computing ressources."
   ]
  },
  {
   "cell_type": "markdown",
   "metadata": {},
   "source": [
    "### Renaming columns"
   ]
  },
  {
   "cell_type": "code",
   "execution_count": null,
   "metadata": {},
   "outputs": [],
   "source": [
    "column_mapping = {\n",
    "    \"fecha reporte web\": \"report_date\",\n",
    "    \"ID de caso\": \"case_id\",\n",
    "    \"Fecha de notificación\": \"notification_date\",\n",
    "    \"Código DIVIPOLA departamento\": \"department_code\",\n",
    "    \"Nombre departamento\": \"department_name\",\n",
    "    \"Código DIVIPOLA municipio\": \"municipality_code\",\n",
    "    \"Nombre municipio\": \"municipality_name\",\n",
    "    \"Edad\": \"age\",\n",
    "    \"Unidad de medida de edad\": \"age_unit\",\n",
    "    \"Sexo\": \"gender\",\n",
    "    \"Tipo de contagio\": \"contagion_type\",\n",
    "    \"Ubicación del caso\": \"case_location\",\n",
    "    \"Estado\": \"status\",\n",
    "    \"Código ISO del país\": \"country_iso_code\",\n",
    "    \"Nombre del país\": \"country_name\",\n",
    "    \"Recuperado\": \"recovered\",\n",
    "    \"Fecha de inicio de síntomas\": \"symptom_start_date\",\n",
    "    \"Fecha de muerte\": \"death_date\",\n",
    "    \"Fecha de diagnóstico\": \"diagnosis_date\",\n",
    "    \"Fecha de recuperación\": \"recovery_date\",\n",
    "    \"Tipo de recuperación\": \"recovery_type\",\n",
    "    \"Pertenencia étnica\": \"ethnic_affiliation\",\n",
    "    \"Nombre del grupo étnico\": \"ethnic_group_name\",\n",
    "}\n",
    "df.rename(columns=column_mapping, inplace=True)"
   ]
  },
  {
   "cell_type": "markdown",
   "metadata": {},
   "source": [
    "### Keeping 1% of dataset using Random Sampling Technique (from pandas library), and exporting it to another file"
   ]
  },
  {
   "cell_type": "code",
   "execution_count": 29,
   "metadata": {},
   "outputs": [],
   "source": [
    "df_sample = df.sample(frac=0.01, random_state=42)"
   ]
  },
  {
   "cell_type": "code",
   "execution_count": null,
   "metadata": {},
   "outputs": [],
   "source": [
    "print(f\"Percentage of deaths: {int(df_sample[df_sample['death_date'].notna()]['death_date'].count()) / int(df_sample['case_id'].count()) * 100} %\")"
   ]
  },
  {
   "cell_type": "markdown",
   "metadata": {},
   "source": [
    "#### We notice that, we have a lot of class unbalancing, and then this sample doesn't suit us to build a model, so we are going to re-collect our data from the big dataset, in order to have as much records with death_date as without."
   ]
  },
  {
   "cell_type": "markdown",
   "metadata": {},
   "source": [
    "### Sampling the dataset in 2 sub-samples (no-death, & death), and combining them"
   ]
  },
  {
   "cell_type": "code",
   "execution_count": 122,
   "metadata": {},
   "outputs": [],
   "source": [
    "df_no_death = df[df['death_date'].isna()]\n",
    "df_no_death_sample = df_no_death.sample(frac=0.004, random_state=42)"
   ]
  },
  {
   "cell_type": "code",
   "execution_count": 123,
   "metadata": {},
   "outputs": [],
   "source": [
    "df_death = df[df['death_date'].notna()]\n",
    "df_death_sample = df_death.sample(frac=0.13, random_state=42)"
   ]
  },
  {
   "cell_type": "code",
   "execution_count": 124,
   "metadata": {},
   "outputs": [],
   "source": [
    "df_final_sample = pd.concat([df_no_death_sample, df_death_sample])\n",
    "df_final_sample = df_final_sample.sample(frac=1, random_state=42).reset_index(drop=True)"
   ]
  },
  {
   "cell_type": "code",
   "execution_count": 125,
   "metadata": {},
   "outputs": [],
   "source": [
    "df_final_sample.to_csv('covid19_sample.csv', index=False)"
   ]
  },
  {
   "cell_type": "code",
   "execution_count": null,
   "metadata": {},
   "outputs": [],
   "source": [
    "print(f\"Percentage of deaths: {int(df_final_sample[df_final_sample['death_date'].notna()]['death_date'].count()) / int(df_final_sample['case_id'].count()) * 100} %\")"
   ]
  },
  {
   "cell_type": "markdown",
   "metadata": {},
   "source": [
    "## 2. Data Understanding"
   ]
  },
  {
   "cell_type": "markdown",
   "metadata": {},
   "source": [
    "### Loading the sample that we exported previously"
   ]
  },
  {
   "cell_type": "code",
   "execution_count": 330,
   "metadata": {},
   "outputs": [],
   "source": [
    "df = pd.read_csv('covid19_sample.csv')"
   ]
  },
  {
   "cell_type": "markdown",
   "metadata": {},
   "source": [
    "### Displaying the dataframe with additional info"
   ]
  },
  {
   "cell_type": "code",
   "execution_count": 331,
   "metadata": {},
   "outputs": [
    {
     "data": {
      "text/plain": [
       "(48797, 23)"
      ]
     },
     "execution_count": 331,
     "metadata": {},
     "output_type": "execute_result"
    }
   ],
   "source": [
    "df.shape"
   ]
  },
  {
   "cell_type": "code",
   "execution_count": 332,
   "metadata": {},
   "outputs": [
    {
     "data": {
      "text/html": [
       "<div>\n",
       "<style scoped>\n",
       "    .dataframe tbody tr th:only-of-type {\n",
       "        vertical-align: middle;\n",
       "    }\n",
       "\n",
       "    .dataframe tbody tr th {\n",
       "        vertical-align: top;\n",
       "    }\n",
       "\n",
       "    .dataframe thead th {\n",
       "        text-align: right;\n",
       "    }\n",
       "</style>\n",
       "<table border=\"1\" class=\"dataframe\">\n",
       "  <thead>\n",
       "    <tr style=\"text-align: right;\">\n",
       "      <th></th>\n",
       "      <th>report_date</th>\n",
       "      <th>case_id</th>\n",
       "      <th>notification_date</th>\n",
       "      <th>department_code</th>\n",
       "      <th>department_name</th>\n",
       "      <th>municipality_code</th>\n",
       "      <th>municipality_name</th>\n",
       "      <th>age</th>\n",
       "      <th>age_unit</th>\n",
       "      <th>gender</th>\n",
       "      <th>...</th>\n",
       "      <th>country_iso_code</th>\n",
       "      <th>country_name</th>\n",
       "      <th>recovered</th>\n",
       "      <th>symptom_start_date</th>\n",
       "      <th>death_date</th>\n",
       "      <th>diagnosis_date</th>\n",
       "      <th>recovery_date</th>\n",
       "      <th>recovery_type</th>\n",
       "      <th>ethnic_affiliation</th>\n",
       "      <th>ethnic_group_name</th>\n",
       "    </tr>\n",
       "  </thead>\n",
       "  <tbody>\n",
       "    <tr>\n",
       "      <th>0</th>\n",
       "      <td>2021-05-27 00:00:00</td>\n",
       "      <td>3303012</td>\n",
       "      <td>2021-05-25 00:00:00</td>\n",
       "      <td>76</td>\n",
       "      <td>VALLE</td>\n",
       "      <td>76318</td>\n",
       "      <td>GUACARI</td>\n",
       "      <td>60</td>\n",
       "      <td>1</td>\n",
       "      <td>F</td>\n",
       "      <td>...</td>\n",
       "      <td>NaN</td>\n",
       "      <td>NaN</td>\n",
       "      <td>Recuperado</td>\n",
       "      <td>2021-05-17 00:00:00</td>\n",
       "      <td>NaN</td>\n",
       "      <td>2021-05-26 00:00:00</td>\n",
       "      <td>2021-06-01 00:00:00</td>\n",
       "      <td>Tiempo</td>\n",
       "      <td>6.0</td>\n",
       "      <td>NaN</td>\n",
       "    </tr>\n",
       "    <tr>\n",
       "      <th>1</th>\n",
       "      <td>2020-10-12 00:00:00</td>\n",
       "      <td>912103</td>\n",
       "      <td>2020-10-05 00:00:00</td>\n",
       "      <td>68</td>\n",
       "      <td>SANTANDER</td>\n",
       "      <td>68081</td>\n",
       "      <td>BARRANCABERMEJA</td>\n",
       "      <td>86</td>\n",
       "      <td>1</td>\n",
       "      <td>M</td>\n",
       "      <td>...</td>\n",
       "      <td>NaN</td>\n",
       "      <td>NaN</td>\n",
       "      <td>NaN</td>\n",
       "      <td>2020-09-29 00:00:00</td>\n",
       "      <td>2021-02-12 00:00:00</td>\n",
       "      <td>2020-10-11 00:00:00</td>\n",
       "      <td>NaN</td>\n",
       "      <td>NaN</td>\n",
       "      <td>6.0</td>\n",
       "      <td>NaN</td>\n",
       "    </tr>\n",
       "    <tr>\n",
       "      <th>2</th>\n",
       "      <td>2021-03-31 00:00:00</td>\n",
       "      <td>2397852</td>\n",
       "      <td>2021-03-18 00:00:00</td>\n",
       "      <td>8</td>\n",
       "      <td>ATLANTICO</td>\n",
       "      <td>8758</td>\n",
       "      <td>SOLEDAD</td>\n",
       "      <td>40</td>\n",
       "      <td>1</td>\n",
       "      <td>F</td>\n",
       "      <td>...</td>\n",
       "      <td>NaN</td>\n",
       "      <td>NaN</td>\n",
       "      <td>Recuperado</td>\n",
       "      <td>2021-03-16 00:00:00</td>\n",
       "      <td>NaN</td>\n",
       "      <td>2021-03-29 00:00:00</td>\n",
       "      <td>2021-04-01 00:00:00</td>\n",
       "      <td>Tiempo</td>\n",
       "      <td>6.0</td>\n",
       "      <td>NaN</td>\n",
       "    </tr>\n",
       "    <tr>\n",
       "      <th>3</th>\n",
       "      <td>2021-05-25 00:00:00</td>\n",
       "      <td>3264190</td>\n",
       "      <td>2021-05-21 00:00:00</td>\n",
       "      <td>11</td>\n",
       "      <td>BOGOTA</td>\n",
       "      <td>11001</td>\n",
       "      <td>BOGOTA</td>\n",
       "      <td>35</td>\n",
       "      <td>1</td>\n",
       "      <td>M</td>\n",
       "      <td>...</td>\n",
       "      <td>NaN</td>\n",
       "      <td>NaN</td>\n",
       "      <td>Recuperado</td>\n",
       "      <td>NaN</td>\n",
       "      <td>NaN</td>\n",
       "      <td>2021-05-22 00:00:00</td>\n",
       "      <td>2021-06-04 00:00:00</td>\n",
       "      <td>Tiempo</td>\n",
       "      <td>6.0</td>\n",
       "      <td>NaN</td>\n",
       "    </tr>\n",
       "    <tr>\n",
       "      <th>4</th>\n",
       "      <td>2022-02-07 00:00:00</td>\n",
       "      <td>5974914</td>\n",
       "      <td>2022-01-23 00:00:00</td>\n",
       "      <td>44</td>\n",
       "      <td>GUAJIRA</td>\n",
       "      <td>44001</td>\n",
       "      <td>RIOHACHA</td>\n",
       "      <td>18</td>\n",
       "      <td>1</td>\n",
       "      <td>F</td>\n",
       "      <td>...</td>\n",
       "      <td>NaN</td>\n",
       "      <td>NaN</td>\n",
       "      <td>Recuperado</td>\n",
       "      <td>2022-01-19 00:00:00</td>\n",
       "      <td>NaN</td>\n",
       "      <td>2022-02-03 00:00:00</td>\n",
       "      <td>2022-02-08 00:00:00</td>\n",
       "      <td>Tiempo</td>\n",
       "      <td>6.0</td>\n",
       "      <td>NaN</td>\n",
       "    </tr>\n",
       "    <tr>\n",
       "      <th>...</th>\n",
       "      <td>...</td>\n",
       "      <td>...</td>\n",
       "      <td>...</td>\n",
       "      <td>...</td>\n",
       "      <td>...</td>\n",
       "      <td>...</td>\n",
       "      <td>...</td>\n",
       "      <td>...</td>\n",
       "      <td>...</td>\n",
       "      <td>...</td>\n",
       "      <td>...</td>\n",
       "      <td>...</td>\n",
       "      <td>...</td>\n",
       "      <td>...</td>\n",
       "      <td>...</td>\n",
       "      <td>...</td>\n",
       "      <td>...</td>\n",
       "      <td>...</td>\n",
       "      <td>...</td>\n",
       "      <td>...</td>\n",
       "      <td>...</td>\n",
       "    </tr>\n",
       "    <tr>\n",
       "      <th>48792</th>\n",
       "      <td>2021-05-26 00:00:00</td>\n",
       "      <td>3282457</td>\n",
       "      <td>2021-05-23 00:00:00</td>\n",
       "      <td>76</td>\n",
       "      <td>VALLE</td>\n",
       "      <td>76001</td>\n",
       "      <td>CALI</td>\n",
       "      <td>66</td>\n",
       "      <td>1</td>\n",
       "      <td>F</td>\n",
       "      <td>...</td>\n",
       "      <td>NaN</td>\n",
       "      <td>NaN</td>\n",
       "      <td>Recuperado</td>\n",
       "      <td>2021-05-14 00:00:00</td>\n",
       "      <td>NaN</td>\n",
       "      <td>2021-05-26 00:00:00</td>\n",
       "      <td>2021-05-28 00:00:00</td>\n",
       "      <td>Tiempo</td>\n",
       "      <td>6.0</td>\n",
       "      <td>NaN</td>\n",
       "    </tr>\n",
       "    <tr>\n",
       "      <th>48793</th>\n",
       "      <td>2020-09-25 00:00:00</td>\n",
       "      <td>791713</td>\n",
       "      <td>2020-09-23 00:00:00</td>\n",
       "      <td>76</td>\n",
       "      <td>VALLE</td>\n",
       "      <td>76520</td>\n",
       "      <td>PALMIRA</td>\n",
       "      <td>67</td>\n",
       "      <td>1</td>\n",
       "      <td>M</td>\n",
       "      <td>...</td>\n",
       "      <td>NaN</td>\n",
       "      <td>NaN</td>\n",
       "      <td>Fallecido</td>\n",
       "      <td>2020-09-21 00:00:00</td>\n",
       "      <td>2020-09-28 00:00:00</td>\n",
       "      <td>2020-09-23 00:00:00</td>\n",
       "      <td>NaN</td>\n",
       "      <td>NaN</td>\n",
       "      <td>6.0</td>\n",
       "      <td>NaN</td>\n",
       "    </tr>\n",
       "    <tr>\n",
       "      <th>48794</th>\n",
       "      <td>2021-07-13 00:00:00</td>\n",
       "      <td>4542060</td>\n",
       "      <td>2021-07-08 00:00:00</td>\n",
       "      <td>11</td>\n",
       "      <td>BOGOTA</td>\n",
       "      <td>11001</td>\n",
       "      <td>BOGOTA</td>\n",
       "      <td>23</td>\n",
       "      <td>1</td>\n",
       "      <td>M</td>\n",
       "      <td>...</td>\n",
       "      <td>NaN</td>\n",
       "      <td>NaN</td>\n",
       "      <td>NaN</td>\n",
       "      <td>2021-07-04 00:00:00</td>\n",
       "      <td>2021-10-14 00:00:00</td>\n",
       "      <td>2021-07-12 00:00:00</td>\n",
       "      <td>NaN</td>\n",
       "      <td>NaN</td>\n",
       "      <td>6.0</td>\n",
       "      <td>NaN</td>\n",
       "    </tr>\n",
       "    <tr>\n",
       "      <th>48795</th>\n",
       "      <td>2021-06-12 00:00:00</td>\n",
       "      <td>3714232</td>\n",
       "      <td>2021-06-03 00:00:00</td>\n",
       "      <td>11</td>\n",
       "      <td>BOGOTA</td>\n",
       "      <td>11001</td>\n",
       "      <td>BOGOTA</td>\n",
       "      <td>19</td>\n",
       "      <td>1</td>\n",
       "      <td>M</td>\n",
       "      <td>...</td>\n",
       "      <td>NaN</td>\n",
       "      <td>NaN</td>\n",
       "      <td>Recuperado</td>\n",
       "      <td>NaN</td>\n",
       "      <td>NaN</td>\n",
       "      <td>2021-06-04 00:00:00</td>\n",
       "      <td>2021-06-17 00:00:00</td>\n",
       "      <td>Tiempo</td>\n",
       "      <td>6.0</td>\n",
       "      <td>NaN</td>\n",
       "    </tr>\n",
       "    <tr>\n",
       "      <th>48796</th>\n",
       "      <td>2021-06-01 00:00:00</td>\n",
       "      <td>3421855</td>\n",
       "      <td>2021-05-27 00:00:00</td>\n",
       "      <td>76</td>\n",
       "      <td>VALLE</td>\n",
       "      <td>76001</td>\n",
       "      <td>CALI</td>\n",
       "      <td>46</td>\n",
       "      <td>1</td>\n",
       "      <td>F</td>\n",
       "      <td>...</td>\n",
       "      <td>NaN</td>\n",
       "      <td>NaN</td>\n",
       "      <td>Recuperado</td>\n",
       "      <td>2021-05-24 00:00:00</td>\n",
       "      <td>NaN</td>\n",
       "      <td>2021-05-27 00:00:00</td>\n",
       "      <td>2021-06-07 00:00:00</td>\n",
       "      <td>Tiempo</td>\n",
       "      <td>6.0</td>\n",
       "      <td>NaN</td>\n",
       "    </tr>\n",
       "  </tbody>\n",
       "</table>\n",
       "<p>48797 rows × 23 columns</p>\n",
       "</div>"
      ],
      "text/plain": [
       "               report_date  case_id    notification_date  department_code  \\\n",
       "0      2021-05-27 00:00:00  3303012  2021-05-25 00:00:00               76   \n",
       "1      2020-10-12 00:00:00   912103  2020-10-05 00:00:00               68   \n",
       "2      2021-03-31 00:00:00  2397852  2021-03-18 00:00:00                8   \n",
       "3      2021-05-25 00:00:00  3264190  2021-05-21 00:00:00               11   \n",
       "4      2022-02-07 00:00:00  5974914  2022-01-23 00:00:00               44   \n",
       "...                    ...      ...                  ...              ...   \n",
       "48792  2021-05-26 00:00:00  3282457  2021-05-23 00:00:00               76   \n",
       "48793  2020-09-25 00:00:00   791713  2020-09-23 00:00:00               76   \n",
       "48794  2021-07-13 00:00:00  4542060  2021-07-08 00:00:00               11   \n",
       "48795  2021-06-12 00:00:00  3714232  2021-06-03 00:00:00               11   \n",
       "48796  2021-06-01 00:00:00  3421855  2021-05-27 00:00:00               76   \n",
       "\n",
       "      department_name  municipality_code municipality_name  age  age_unit  \\\n",
       "0               VALLE              76318           GUACARI   60         1   \n",
       "1           SANTANDER              68081   BARRANCABERMEJA   86         1   \n",
       "2           ATLANTICO               8758           SOLEDAD   40         1   \n",
       "3              BOGOTA              11001            BOGOTA   35         1   \n",
       "4             GUAJIRA              44001          RIOHACHA   18         1   \n",
       "...               ...                ...               ...  ...       ...   \n",
       "48792           VALLE              76001              CALI   66         1   \n",
       "48793           VALLE              76520           PALMIRA   67         1   \n",
       "48794          BOGOTA              11001            BOGOTA   23         1   \n",
       "48795          BOGOTA              11001            BOGOTA   19         1   \n",
       "48796           VALLE              76001              CALI   46         1   \n",
       "\n",
       "      gender  ... country_iso_code country_name   recovered  \\\n",
       "0          F  ...              NaN          NaN  Recuperado   \n",
       "1          M  ...              NaN          NaN         NaN   \n",
       "2          F  ...              NaN          NaN  Recuperado   \n",
       "3          M  ...              NaN          NaN  Recuperado   \n",
       "4          F  ...              NaN          NaN  Recuperado   \n",
       "...      ...  ...              ...          ...         ...   \n",
       "48792      F  ...              NaN          NaN  Recuperado   \n",
       "48793      M  ...              NaN          NaN   Fallecido   \n",
       "48794      M  ...              NaN          NaN         NaN   \n",
       "48795      M  ...              NaN          NaN  Recuperado   \n",
       "48796      F  ...              NaN          NaN  Recuperado   \n",
       "\n",
       "        symptom_start_date           death_date       diagnosis_date  \\\n",
       "0      2021-05-17 00:00:00                  NaN  2021-05-26 00:00:00   \n",
       "1      2020-09-29 00:00:00  2021-02-12 00:00:00  2020-10-11 00:00:00   \n",
       "2      2021-03-16 00:00:00                  NaN  2021-03-29 00:00:00   \n",
       "3                      NaN                  NaN  2021-05-22 00:00:00   \n",
       "4      2022-01-19 00:00:00                  NaN  2022-02-03 00:00:00   \n",
       "...                    ...                  ...                  ...   \n",
       "48792  2021-05-14 00:00:00                  NaN  2021-05-26 00:00:00   \n",
       "48793  2020-09-21 00:00:00  2020-09-28 00:00:00  2020-09-23 00:00:00   \n",
       "48794  2021-07-04 00:00:00  2021-10-14 00:00:00  2021-07-12 00:00:00   \n",
       "48795                  NaN                  NaN  2021-06-04 00:00:00   \n",
       "48796  2021-05-24 00:00:00                  NaN  2021-05-27 00:00:00   \n",
       "\n",
       "             recovery_date recovery_type ethnic_affiliation ethnic_group_name  \n",
       "0      2021-06-01 00:00:00        Tiempo                6.0               NaN  \n",
       "1                      NaN           NaN                6.0               NaN  \n",
       "2      2021-04-01 00:00:00        Tiempo                6.0               NaN  \n",
       "3      2021-06-04 00:00:00        Tiempo                6.0               NaN  \n",
       "4      2022-02-08 00:00:00        Tiempo                6.0               NaN  \n",
       "...                    ...           ...                ...               ...  \n",
       "48792  2021-05-28 00:00:00        Tiempo                6.0               NaN  \n",
       "48793                  NaN           NaN                6.0               NaN  \n",
       "48794                  NaN           NaN                6.0               NaN  \n",
       "48795  2021-06-17 00:00:00        Tiempo                6.0               NaN  \n",
       "48796  2021-06-07 00:00:00        Tiempo                6.0               NaN  \n",
       "\n",
       "[48797 rows x 23 columns]"
      ]
     },
     "execution_count": 332,
     "metadata": {},
     "output_type": "execute_result"
    }
   ],
   "source": [
    "df"
   ]
  },
  {
   "cell_type": "code",
   "execution_count": 333,
   "metadata": {},
   "outputs": [
    {
     "data": {
      "text/html": [
       "<div>\n",
       "<style scoped>\n",
       "    .dataframe tbody tr th:only-of-type {\n",
       "        vertical-align: middle;\n",
       "    }\n",
       "\n",
       "    .dataframe tbody tr th {\n",
       "        vertical-align: top;\n",
       "    }\n",
       "\n",
       "    .dataframe thead th {\n",
       "        text-align: right;\n",
       "    }\n",
       "</style>\n",
       "<table border=\"1\" class=\"dataframe\">\n",
       "  <thead>\n",
       "    <tr style=\"text-align: right;\">\n",
       "      <th></th>\n",
       "      <th>report_date</th>\n",
       "      <th>case_id</th>\n",
       "      <th>notification_date</th>\n",
       "      <th>department_code</th>\n",
       "      <th>department_name</th>\n",
       "      <th>municipality_code</th>\n",
       "      <th>municipality_name</th>\n",
       "      <th>age</th>\n",
       "      <th>age_unit</th>\n",
       "      <th>gender</th>\n",
       "      <th>...</th>\n",
       "      <th>country_iso_code</th>\n",
       "      <th>country_name</th>\n",
       "      <th>recovered</th>\n",
       "      <th>symptom_start_date</th>\n",
       "      <th>death_date</th>\n",
       "      <th>diagnosis_date</th>\n",
       "      <th>recovery_date</th>\n",
       "      <th>recovery_type</th>\n",
       "      <th>ethnic_affiliation</th>\n",
       "      <th>ethnic_group_name</th>\n",
       "    </tr>\n",
       "  </thead>\n",
       "  <tbody>\n",
       "    <tr>\n",
       "      <th>0</th>\n",
       "      <td>2021-05-27 00:00:00</td>\n",
       "      <td>3303012</td>\n",
       "      <td>2021-05-25 00:00:00</td>\n",
       "      <td>76</td>\n",
       "      <td>VALLE</td>\n",
       "      <td>76318</td>\n",
       "      <td>GUACARI</td>\n",
       "      <td>60</td>\n",
       "      <td>1</td>\n",
       "      <td>F</td>\n",
       "      <td>...</td>\n",
       "      <td>NaN</td>\n",
       "      <td>NaN</td>\n",
       "      <td>Recuperado</td>\n",
       "      <td>2021-05-17 00:00:00</td>\n",
       "      <td>NaN</td>\n",
       "      <td>2021-05-26 00:00:00</td>\n",
       "      <td>2021-06-01 00:00:00</td>\n",
       "      <td>Tiempo</td>\n",
       "      <td>6.0</td>\n",
       "      <td>NaN</td>\n",
       "    </tr>\n",
       "    <tr>\n",
       "      <th>1</th>\n",
       "      <td>2020-10-12 00:00:00</td>\n",
       "      <td>912103</td>\n",
       "      <td>2020-10-05 00:00:00</td>\n",
       "      <td>68</td>\n",
       "      <td>SANTANDER</td>\n",
       "      <td>68081</td>\n",
       "      <td>BARRANCABERMEJA</td>\n",
       "      <td>86</td>\n",
       "      <td>1</td>\n",
       "      <td>M</td>\n",
       "      <td>...</td>\n",
       "      <td>NaN</td>\n",
       "      <td>NaN</td>\n",
       "      <td>NaN</td>\n",
       "      <td>2020-09-29 00:00:00</td>\n",
       "      <td>2021-02-12 00:00:00</td>\n",
       "      <td>2020-10-11 00:00:00</td>\n",
       "      <td>NaN</td>\n",
       "      <td>NaN</td>\n",
       "      <td>6.0</td>\n",
       "      <td>NaN</td>\n",
       "    </tr>\n",
       "    <tr>\n",
       "      <th>2</th>\n",
       "      <td>2021-03-31 00:00:00</td>\n",
       "      <td>2397852</td>\n",
       "      <td>2021-03-18 00:00:00</td>\n",
       "      <td>8</td>\n",
       "      <td>ATLANTICO</td>\n",
       "      <td>8758</td>\n",
       "      <td>SOLEDAD</td>\n",
       "      <td>40</td>\n",
       "      <td>1</td>\n",
       "      <td>F</td>\n",
       "      <td>...</td>\n",
       "      <td>NaN</td>\n",
       "      <td>NaN</td>\n",
       "      <td>Recuperado</td>\n",
       "      <td>2021-03-16 00:00:00</td>\n",
       "      <td>NaN</td>\n",
       "      <td>2021-03-29 00:00:00</td>\n",
       "      <td>2021-04-01 00:00:00</td>\n",
       "      <td>Tiempo</td>\n",
       "      <td>6.0</td>\n",
       "      <td>NaN</td>\n",
       "    </tr>\n",
       "    <tr>\n",
       "      <th>3</th>\n",
       "      <td>2021-05-25 00:00:00</td>\n",
       "      <td>3264190</td>\n",
       "      <td>2021-05-21 00:00:00</td>\n",
       "      <td>11</td>\n",
       "      <td>BOGOTA</td>\n",
       "      <td>11001</td>\n",
       "      <td>BOGOTA</td>\n",
       "      <td>35</td>\n",
       "      <td>1</td>\n",
       "      <td>M</td>\n",
       "      <td>...</td>\n",
       "      <td>NaN</td>\n",
       "      <td>NaN</td>\n",
       "      <td>Recuperado</td>\n",
       "      <td>NaN</td>\n",
       "      <td>NaN</td>\n",
       "      <td>2021-05-22 00:00:00</td>\n",
       "      <td>2021-06-04 00:00:00</td>\n",
       "      <td>Tiempo</td>\n",
       "      <td>6.0</td>\n",
       "      <td>NaN</td>\n",
       "    </tr>\n",
       "    <tr>\n",
       "      <th>4</th>\n",
       "      <td>2022-02-07 00:00:00</td>\n",
       "      <td>5974914</td>\n",
       "      <td>2022-01-23 00:00:00</td>\n",
       "      <td>44</td>\n",
       "      <td>GUAJIRA</td>\n",
       "      <td>44001</td>\n",
       "      <td>RIOHACHA</td>\n",
       "      <td>18</td>\n",
       "      <td>1</td>\n",
       "      <td>F</td>\n",
       "      <td>...</td>\n",
       "      <td>NaN</td>\n",
       "      <td>NaN</td>\n",
       "      <td>Recuperado</td>\n",
       "      <td>2022-01-19 00:00:00</td>\n",
       "      <td>NaN</td>\n",
       "      <td>2022-02-03 00:00:00</td>\n",
       "      <td>2022-02-08 00:00:00</td>\n",
       "      <td>Tiempo</td>\n",
       "      <td>6.0</td>\n",
       "      <td>NaN</td>\n",
       "    </tr>\n",
       "  </tbody>\n",
       "</table>\n",
       "<p>5 rows × 23 columns</p>\n",
       "</div>"
      ],
      "text/plain": [
       "           report_date  case_id    notification_date  department_code  \\\n",
       "0  2021-05-27 00:00:00  3303012  2021-05-25 00:00:00               76   \n",
       "1  2020-10-12 00:00:00   912103  2020-10-05 00:00:00               68   \n",
       "2  2021-03-31 00:00:00  2397852  2021-03-18 00:00:00                8   \n",
       "3  2021-05-25 00:00:00  3264190  2021-05-21 00:00:00               11   \n",
       "4  2022-02-07 00:00:00  5974914  2022-01-23 00:00:00               44   \n",
       "\n",
       "  department_name  municipality_code municipality_name  age  age_unit gender  \\\n",
       "0           VALLE              76318           GUACARI   60         1      F   \n",
       "1       SANTANDER              68081   BARRANCABERMEJA   86         1      M   \n",
       "2       ATLANTICO               8758           SOLEDAD   40         1      F   \n",
       "3          BOGOTA              11001            BOGOTA   35         1      M   \n",
       "4         GUAJIRA              44001          RIOHACHA   18         1      F   \n",
       "\n",
       "   ... country_iso_code country_name   recovered   symptom_start_date  \\\n",
       "0  ...              NaN          NaN  Recuperado  2021-05-17 00:00:00   \n",
       "1  ...              NaN          NaN         NaN  2020-09-29 00:00:00   \n",
       "2  ...              NaN          NaN  Recuperado  2021-03-16 00:00:00   \n",
       "3  ...              NaN          NaN  Recuperado                  NaN   \n",
       "4  ...              NaN          NaN  Recuperado  2022-01-19 00:00:00   \n",
       "\n",
       "            death_date       diagnosis_date        recovery_date  \\\n",
       "0                  NaN  2021-05-26 00:00:00  2021-06-01 00:00:00   \n",
       "1  2021-02-12 00:00:00  2020-10-11 00:00:00                  NaN   \n",
       "2                  NaN  2021-03-29 00:00:00  2021-04-01 00:00:00   \n",
       "3                  NaN  2021-05-22 00:00:00  2021-06-04 00:00:00   \n",
       "4                  NaN  2022-02-03 00:00:00  2022-02-08 00:00:00   \n",
       "\n",
       "  recovery_type ethnic_affiliation ethnic_group_name  \n",
       "0        Tiempo                6.0               NaN  \n",
       "1           NaN                6.0               NaN  \n",
       "2        Tiempo                6.0               NaN  \n",
       "3        Tiempo                6.0               NaN  \n",
       "4        Tiempo                6.0               NaN  \n",
       "\n",
       "[5 rows x 23 columns]"
      ]
     },
     "execution_count": 333,
     "metadata": {},
     "output_type": "execute_result"
    }
   ],
   "source": [
    "df.head()"
   ]
  },
  {
   "cell_type": "code",
   "execution_count": 334,
   "metadata": {},
   "outputs": [
    {
     "name": "stdout",
     "output_type": "stream",
     "text": [
      "<class 'pandas.core.frame.DataFrame'>\n",
      "RangeIndex: 48797 entries, 0 to 48796\n",
      "Data columns (total 23 columns):\n",
      " #   Column              Non-Null Count  Dtype  \n",
      "---  ------              --------------  -----  \n",
      " 0   report_date         48797 non-null  object \n",
      " 1   case_id             48797 non-null  int64  \n",
      " 2   notification_date   48797 non-null  object \n",
      " 3   department_code     48797 non-null  int64  \n",
      " 4   department_name     48797 non-null  object \n",
      " 5   municipality_code   48797 non-null  int64  \n",
      " 6   municipality_name   48797 non-null  object \n",
      " 7   age                 48797 non-null  int64  \n",
      " 8   age_unit            48797 non-null  int64  \n",
      " 9   gender              48797 non-null  object \n",
      " 10  contagion_type      48797 non-null  object \n",
      " 11  case_location       43391 non-null  object \n",
      " 12  status              43391 non-null  object \n",
      " 13  country_iso_code    39 non-null     float64\n",
      " 14  country_name        39 non-null     object \n",
      " 15  recovered           44063 non-null  object \n",
      " 16  symptom_start_date  46622 non-null  object \n",
      " 17  death_date          23971 non-null  object \n",
      " 18  diagnosis_date      48770 non-null  object \n",
      " 19  recovery_date       25489 non-null  object \n",
      " 20  recovery_type       25482 non-null  object \n",
      " 21  ethnic_affiliation  48784 non-null  float64\n",
      " 22  ethnic_group_name   698 non-null    object \n",
      "dtypes: float64(2), int64(5), object(16)\n",
      "memory usage: 8.6+ MB\n"
     ]
    }
   ],
   "source": [
    "df.info()"
   ]
  },
  {
   "cell_type": "code",
   "execution_count": 335,
   "metadata": {},
   "outputs": [
    {
     "data": {
      "text/html": [
       "<div>\n",
       "<style scoped>\n",
       "    .dataframe tbody tr th:only-of-type {\n",
       "        vertical-align: middle;\n",
       "    }\n",
       "\n",
       "    .dataframe tbody tr th {\n",
       "        vertical-align: top;\n",
       "    }\n",
       "\n",
       "    .dataframe thead th {\n",
       "        text-align: right;\n",
       "    }\n",
       "</style>\n",
       "<table border=\"1\" class=\"dataframe\">\n",
       "  <thead>\n",
       "    <tr style=\"text-align: right;\">\n",
       "      <th></th>\n",
       "      <th>case_id</th>\n",
       "      <th>department_code</th>\n",
       "      <th>municipality_code</th>\n",
       "      <th>age</th>\n",
       "      <th>age_unit</th>\n",
       "      <th>country_iso_code</th>\n",
       "      <th>ethnic_affiliation</th>\n",
       "    </tr>\n",
       "  </thead>\n",
       "  <tbody>\n",
       "    <tr>\n",
       "      <th>count</th>\n",
       "      <td>4.879700e+04</td>\n",
       "      <td>48797.000000</td>\n",
       "      <td>48797.000000</td>\n",
       "      <td>48797.000000</td>\n",
       "      <td>48797.000000</td>\n",
       "      <td>39.000000</td>\n",
       "      <td>48784.000000</td>\n",
       "    </tr>\n",
       "    <tr>\n",
       "      <th>mean</th>\n",
       "      <td>3.063136e+06</td>\n",
       "      <td>1333.884399</td>\n",
       "      <td>30586.295018</td>\n",
       "      <td>53.571879</td>\n",
       "      <td>1.004427</td>\n",
       "      <td>567.743590</td>\n",
       "      <td>5.904866</td>\n",
       "    </tr>\n",
       "    <tr>\n",
       "      <th>std</th>\n",
       "      <td>1.880610e+06</td>\n",
       "      <td>6040.837648</td>\n",
       "      <td>26888.110392</td>\n",
       "      <td>22.675508</td>\n",
       "      <td>0.072012</td>\n",
       "      <td>334.770677</td>\n",
       "      <td>0.611432</td>\n",
       "    </tr>\n",
       "    <tr>\n",
       "      <th>min</th>\n",
       "      <td>1.140000e+02</td>\n",
       "      <td>5.000000</td>\n",
       "      <td>5001.000000</td>\n",
       "      <td>1.000000</td>\n",
       "      <td>1.000000</td>\n",
       "      <td>8.000000</td>\n",
       "      <td>1.000000</td>\n",
       "    </tr>\n",
       "    <tr>\n",
       "      <th>25%</th>\n",
       "      <td>1.445576e+06</td>\n",
       "      <td>11.000000</td>\n",
       "      <td>11001.000000</td>\n",
       "      <td>35.000000</td>\n",
       "      <td>1.000000</td>\n",
       "      <td>201.000000</td>\n",
       "      <td>6.000000</td>\n",
       "    </tr>\n",
       "    <tr>\n",
       "      <th>50%</th>\n",
       "      <td>2.963218e+06</td>\n",
       "      <td>20.000000</td>\n",
       "      <td>15001.000000</td>\n",
       "      <td>55.000000</td>\n",
       "      <td>1.000000</td>\n",
       "      <td>840.000000</td>\n",
       "      <td>6.000000</td>\n",
       "    </tr>\n",
       "    <tr>\n",
       "      <th>75%</th>\n",
       "      <td>4.664492e+06</td>\n",
       "      <td>68.000000</td>\n",
       "      <td>54001.000000</td>\n",
       "      <td>72.000000</td>\n",
       "      <td>1.000000</td>\n",
       "      <td>840.000000</td>\n",
       "      <td>6.000000</td>\n",
       "    </tr>\n",
       "    <tr>\n",
       "      <th>max</th>\n",
       "      <td>6.390842e+06</td>\n",
       "      <td>47001.000000</td>\n",
       "      <td>99773.000000</td>\n",
       "      <td>108.000000</td>\n",
       "      <td>3.000000</td>\n",
       "      <td>862.000000</td>\n",
       "      <td>6.000000</td>\n",
       "    </tr>\n",
       "  </tbody>\n",
       "</table>\n",
       "</div>"
      ],
      "text/plain": [
       "            case_id  department_code  municipality_code           age  \\\n",
       "count  4.879700e+04     48797.000000       48797.000000  48797.000000   \n",
       "mean   3.063136e+06      1333.884399       30586.295018     53.571879   \n",
       "std    1.880610e+06      6040.837648       26888.110392     22.675508   \n",
       "min    1.140000e+02         5.000000        5001.000000      1.000000   \n",
       "25%    1.445576e+06        11.000000       11001.000000     35.000000   \n",
       "50%    2.963218e+06        20.000000       15001.000000     55.000000   \n",
       "75%    4.664492e+06        68.000000       54001.000000     72.000000   \n",
       "max    6.390842e+06     47001.000000       99773.000000    108.000000   \n",
       "\n",
       "           age_unit  country_iso_code  ethnic_affiliation  \n",
       "count  48797.000000         39.000000        48784.000000  \n",
       "mean       1.004427        567.743590            5.904866  \n",
       "std        0.072012        334.770677            0.611432  \n",
       "min        1.000000          8.000000            1.000000  \n",
       "25%        1.000000        201.000000            6.000000  \n",
       "50%        1.000000        840.000000            6.000000  \n",
       "75%        1.000000        840.000000            6.000000  \n",
       "max        3.000000        862.000000            6.000000  "
      ]
     },
     "execution_count": 335,
     "metadata": {},
     "output_type": "execute_result"
    }
   ],
   "source": [
    "df.describe()"
   ]
  },
  {
   "cell_type": "markdown",
   "metadata": {},
   "source": [
    "### Detect issues that have to be fixed later during the pre-processing part"
   ]
  },
  {
   "cell_type": "markdown",
   "metadata": {},
   "source": [
    "#### Checking for missing values"
   ]
  },
  {
   "cell_type": "code",
   "execution_count": 336,
   "metadata": {},
   "outputs": [
    {
     "data": {
      "text/plain": [
       "report_date               0\n",
       "case_id                   0\n",
       "notification_date         0\n",
       "department_code           0\n",
       "department_name           0\n",
       "municipality_code         0\n",
       "municipality_name         0\n",
       "age                       0\n",
       "age_unit                  0\n",
       "gender                    0\n",
       "contagion_type            0\n",
       "case_location          5406\n",
       "status                 5406\n",
       "country_iso_code      48758\n",
       "country_name          48758\n",
       "recovered              4734\n",
       "symptom_start_date     2175\n",
       "death_date            24826\n",
       "diagnosis_date           27\n",
       "recovery_date         23308\n",
       "recovery_type         23315\n",
       "ethnic_affiliation       13\n",
       "ethnic_group_name     48099\n",
       "dtype: int64"
      ]
     },
     "execution_count": 336,
     "metadata": {},
     "output_type": "execute_result"
    }
   ],
   "source": [
    "df.isnull().sum()"
   ]
  },
  {
   "cell_type": "code",
   "execution_count": 337,
   "metadata": {},
   "outputs": [
    {
     "data": {
      "text/html": [
       "<div>\n",
       "<style scoped>\n",
       "    .dataframe tbody tr th:only-of-type {\n",
       "        vertical-align: middle;\n",
       "    }\n",
       "\n",
       "    .dataframe tbody tr th {\n",
       "        vertical-align: top;\n",
       "    }\n",
       "\n",
       "    .dataframe thead th {\n",
       "        text-align: right;\n",
       "    }\n",
       "</style>\n",
       "<table border=\"1\" class=\"dataframe\">\n",
       "  <thead>\n",
       "    <tr style=\"text-align: right;\">\n",
       "      <th></th>\n",
       "      <th>Missing Counts</th>\n",
       "      <th>Percentage</th>\n",
       "      <th>More than 30% missing</th>\n",
       "    </tr>\n",
       "  </thead>\n",
       "  <tbody>\n",
       "    <tr>\n",
       "      <th>country_name</th>\n",
       "      <td>48758</td>\n",
       "      <td>99.9</td>\n",
       "      <td>True</td>\n",
       "    </tr>\n",
       "    <tr>\n",
       "      <th>country_iso_code</th>\n",
       "      <td>48758</td>\n",
       "      <td>99.9</td>\n",
       "      <td>True</td>\n",
       "    </tr>\n",
       "    <tr>\n",
       "      <th>ethnic_group_name</th>\n",
       "      <td>48099</td>\n",
       "      <td>98.6</td>\n",
       "      <td>True</td>\n",
       "    </tr>\n",
       "    <tr>\n",
       "      <th>death_date</th>\n",
       "      <td>24826</td>\n",
       "      <td>50.9</td>\n",
       "      <td>True</td>\n",
       "    </tr>\n",
       "    <tr>\n",
       "      <th>recovery_type</th>\n",
       "      <td>23315</td>\n",
       "      <td>47.8</td>\n",
       "      <td>True</td>\n",
       "    </tr>\n",
       "    <tr>\n",
       "      <th>recovery_date</th>\n",
       "      <td>23308</td>\n",
       "      <td>47.8</td>\n",
       "      <td>True</td>\n",
       "    </tr>\n",
       "    <tr>\n",
       "      <th>case_location</th>\n",
       "      <td>5406</td>\n",
       "      <td>11.1</td>\n",
       "      <td>False</td>\n",
       "    </tr>\n",
       "    <tr>\n",
       "      <th>status</th>\n",
       "      <td>5406</td>\n",
       "      <td>11.1</td>\n",
       "      <td>False</td>\n",
       "    </tr>\n",
       "    <tr>\n",
       "      <th>recovered</th>\n",
       "      <td>4734</td>\n",
       "      <td>9.7</td>\n",
       "      <td>False</td>\n",
       "    </tr>\n",
       "    <tr>\n",
       "      <th>symptom_start_date</th>\n",
       "      <td>2175</td>\n",
       "      <td>4.5</td>\n",
       "      <td>False</td>\n",
       "    </tr>\n",
       "    <tr>\n",
       "      <th>diagnosis_date</th>\n",
       "      <td>27</td>\n",
       "      <td>0.1</td>\n",
       "      <td>False</td>\n",
       "    </tr>\n",
       "    <tr>\n",
       "      <th>ethnic_affiliation</th>\n",
       "      <td>13</td>\n",
       "      <td>0.0</td>\n",
       "      <td>False</td>\n",
       "    </tr>\n",
       "  </tbody>\n",
       "</table>\n",
       "</div>"
      ],
      "text/plain": [
       "                    Missing Counts  Percentage  More than 30% missing\n",
       "country_name                 48758        99.9                   True\n",
       "country_iso_code             48758        99.9                   True\n",
       "ethnic_group_name            48099        98.6                   True\n",
       "death_date                   24826        50.9                   True\n",
       "recovery_type                23315        47.8                   True\n",
       "recovery_date                23308        47.8                   True\n",
       "case_location                 5406        11.1                  False\n",
       "status                        5406        11.1                  False\n",
       "recovered                     4734         9.7                  False\n",
       "symptom_start_date            2175         4.5                  False\n",
       "diagnosis_date                  27         0.1                  False\n",
       "ethnic_affiliation              13         0.0                  False"
      ]
     },
     "execution_count": 337,
     "metadata": {},
     "output_type": "execute_result"
    }
   ],
   "source": [
    "# Function to calculate missing values by column\n",
    "def missing_values_table(df):\n",
    "    # Total missing values\n",
    "    mis_val = df.isnull().sum()\n",
    "\n",
    "    # Percentage of missing values\n",
    "    mis_val_percent = 100 * df.isnull().sum() / len(df)\n",
    "\n",
    "    # Percentage of missing values beyond 30%\n",
    "    mis_val_percent_more_than_threshold = mis_val_percent > 30\n",
    "\n",
    "    # Make a table with the results\n",
    "    mis_val_table = pd.concat([mis_val, mis_val_percent, mis_val_percent_more_than_threshold], axis=1)\n",
    "\n",
    "    # Rename the columns\n",
    "    mis_val_table_ren_columns = mis_val_table.rename(columns = {0 : 'Missing Counts', 1 : 'Percentage', 2 : 'More than 30% missing'})\n",
    "\n",
    "    # Sort the table by percentage of missing descending\n",
    "    mis_val_table_ren_columns = mis_val_table_ren_columns[mis_val_table_ren_columns.iloc[:,1] != 0].sort_values(\n",
    "        'Percentage', ascending=False).round(1)\n",
    "\n",
    "    # Return the dataframe with missing information\n",
    "    return mis_val_table_ren_columns\n",
    "\n",
    "missing_values_table(df)"
   ]
  },
  {
   "cell_type": "code",
   "execution_count": 338,
   "metadata": {},
   "outputs": [
    {
     "name": "stdout",
     "output_type": "stream",
     "text": [
      "Column 'country_iso_code' has more than 30% NaN values: 99.92%\n",
      "Column 'country_name' has more than 30% NaN values: 99.92%\n",
      "Column 'death_date' has more than 30% NaN values: 50.88%\n",
      "Column 'recovery_date' has more than 30% NaN values: 47.77%\n",
      "Column 'recovery_type' has more than 30% NaN values: 47.78%\n",
      "Column 'ethnic_group_name' has more than 30% NaN values: 98.57%\n",
      "---------------------------------------------------------------\n",
      "Column 'case_location' has less than 30% NaN values: 11.08%\n",
      "Column 'status' has less than 30% NaN values: 11.08%\n",
      "Column 'recovered' has less than 30% NaN values: 9.70%\n",
      "Column 'symptom_start_date' has less than 30% NaN values: 4.46%\n",
      "Column 'diagnosis_date' has less than 30% NaN values: 0.06%\n",
      "Column 'ethnic_affiliation' has less than 30% NaN values: 0.03%\n"
     ]
    }
   ],
   "source": [
    "threshold = 0.3\n",
    "for column in df.columns:\n",
    "    nan_ratio = df[column].isna().mean()\n",
    "    if nan_ratio > threshold:\n",
    "        print(f\"Column '{column}' has more than 30% NaN values: {nan_ratio:.2%}\")\n",
    "print('---------------------------------------------------------------')\n",
    "for column in df.columns:\n",
    "    nan_ratio = df[column].isna().mean()\n",
    "    if nan_ratio < threshold and nan_ratio != 0:\n",
    "        print(f\"Column '{column}' has less than 30% NaN values: {nan_ratio:.2%}\")"
   ]
  },
  {
   "cell_type": "markdown",
   "metadata": {},
   "source": [
    "#### Detect duplicated records"
   ]
  },
  {
   "cell_type": "code",
   "execution_count": 339,
   "metadata": {},
   "outputs": [
    {
     "name": "stdout",
     "output_type": "stream",
     "text": [
      "Number of duplicate rows: 0\n"
     ]
    }
   ],
   "source": [
    "duplicates = df.duplicated()\n",
    "print(f\"Number of duplicate rows: {duplicates.sum()}\")"
   ]
  },
  {
   "cell_type": "markdown",
   "metadata": {},
   "source": [
    "#### Correlation Analysis with correlation matrix"
   ]
  },
  {
   "cell_type": "code",
   "execution_count": 340,
   "metadata": {},
   "outputs": [
    {
     "data": {
      "image/png": "[encoded data removed]",
      "text/plain": [
       "<Figure size 1000x800 with 2 Axes>"
      ]
     },
     "metadata": {},
     "output_type": "display_data"
    }
   ],
   "source": [
    "numeric_cols = df.select_dtypes(include=['float64', 'int64']).columns\n",
    "correlation_matrix = df[numeric_cols].corr()\n",
    "\n",
    "# Visualize correlations\n",
    "plt.figure(figsize=(10, 8))\n",
    "sns.heatmap(correlation_matrix, annot=True, cmap='coolwarm')\n",
    "plt.title('Correlation Matrix Before Feature Selection')\n",
    "plt.show()"
   ]
  },
  {
   "cell_type": "markdown",
   "metadata": {},
   "source": [
    "## 3. Data Pre-processing"
   ]
  },
  {
   "cell_type": "markdown",
   "metadata": {},
   "source": [
    "We can see that we have a lot of irrelevant data, missing values, class inbalancing, date columns to be replaced, categorical variables to be encoded, and so on.\n",
    "\n",
    "So let's clear our data..."
   ]
  },
  {
   "cell_type": "markdown",
   "metadata": {},
   "source": [
    "### Dropping/filling missing values"
   ]
  },
  {
   "cell_type": "markdown",
   "metadata": {},
   "source": [
    "#### From Data Understanding part :"
   ]
  },
  {
   "cell_type": "code",
   "execution_count": 341,
   "metadata": {},
   "outputs": [
    {
     "data": {
      "text/html": [
       "<div>\n",
       "<style scoped>\n",
       "    .dataframe tbody tr th:only-of-type {\n",
       "        vertical-align: middle;\n",
       "    }\n",
       "\n",
       "    .dataframe tbody tr th {\n",
       "        vertical-align: top;\n",
       "    }\n",
       "\n",
       "    .dataframe thead th {\n",
       "        text-align: right;\n",
       "    }\n",
       "</style>\n",
       "<table border=\"1\" class=\"dataframe\">\n",
       "  <thead>\n",
       "    <tr style=\"text-align: right;\">\n",
       "      <th></th>\n",
       "      <th>Missing Counts</th>\n",
       "      <th>Percentage</th>\n",
       "      <th>More than 30% missing</th>\n",
       "    </tr>\n",
       "  </thead>\n",
       "  <tbody>\n",
       "    <tr>\n",
       "      <th>country_name</th>\n",
       "      <td>48758</td>\n",
       "      <td>99.9</td>\n",
       "      <td>True</td>\n",
       "    </tr>\n",
       "    <tr>\n",
       "      <th>country_iso_code</th>\n",
       "      <td>48758</td>\n",
       "      <td>99.9</td>\n",
       "      <td>True</td>\n",
       "    </tr>\n",
       "    <tr>\n",
       "      <th>ethnic_group_name</th>\n",
       "      <td>48099</td>\n",
       "      <td>98.6</td>\n",
       "      <td>True</td>\n",
       "    </tr>\n",
       "    <tr>\n",
       "      <th>death_date</th>\n",
       "      <td>24826</td>\n",
       "      <td>50.9</td>\n",
       "      <td>True</td>\n",
       "    </tr>\n",
       "    <tr>\n",
       "      <th>recovery_type</th>\n",
       "      <td>23315</td>\n",
       "      <td>47.8</td>\n",
       "      <td>True</td>\n",
       "    </tr>\n",
       "    <tr>\n",
       "      <th>recovery_date</th>\n",
       "      <td>23308</td>\n",
       "      <td>47.8</td>\n",
       "      <td>True</td>\n",
       "    </tr>\n",
       "    <tr>\n",
       "      <th>case_location</th>\n",
       "      <td>5406</td>\n",
       "      <td>11.1</td>\n",
       "      <td>False</td>\n",
       "    </tr>\n",
       "    <tr>\n",
       "      <th>status</th>\n",
       "      <td>5406</td>\n",
       "      <td>11.1</td>\n",
       "      <td>False</td>\n",
       "    </tr>\n",
       "    <tr>\n",
       "      <th>recovered</th>\n",
       "      <td>4734</td>\n",
       "      <td>9.7</td>\n",
       "      <td>False</td>\n",
       "    </tr>\n",
       "    <tr>\n",
       "      <th>symptom_start_date</th>\n",
       "      <td>2175</td>\n",
       "      <td>4.5</td>\n",
       "      <td>False</td>\n",
       "    </tr>\n",
       "    <tr>\n",
       "      <th>diagnosis_date</th>\n",
       "      <td>27</td>\n",
       "      <td>0.1</td>\n",
       "      <td>False</td>\n",
       "    </tr>\n",
       "    <tr>\n",
       "      <th>ethnic_affiliation</th>\n",
       "      <td>13</td>\n",
       "      <td>0.0</td>\n",
       "      <td>False</td>\n",
       "    </tr>\n",
       "  </tbody>\n",
       "</table>\n",
       "</div>"
      ],
      "text/plain": [
       "                    Missing Counts  Percentage  More than 30% missing\n",
       "country_name                 48758        99.9                   True\n",
       "country_iso_code             48758        99.9                   True\n",
       "ethnic_group_name            48099        98.6                   True\n",
       "death_date                   24826        50.9                   True\n",
       "recovery_type                23315        47.8                   True\n",
       "recovery_date                23308        47.8                   True\n",
       "case_location                 5406        11.1                  False\n",
       "status                        5406        11.1                  False\n",
       "recovered                     4734         9.7                  False\n",
       "symptom_start_date            2175         4.5                  False\n",
       "diagnosis_date                  27         0.1                  False\n",
       "ethnic_affiliation              13         0.0                  False"
      ]
     },
     "execution_count": 341,
     "metadata": {},
     "output_type": "execute_result"
    }
   ],
   "source": [
    "missing_values_table(df)"
   ]
  },
  {
   "cell_type": "code",
   "execution_count": 342,
   "metadata": {},
   "outputs": [
    {
     "name": "stderr",
     "output_type": "stream",
     "text": [
      "C:\\Users\\squip\\AppData\\Local\\Temp\\ipykernel_20784\\4265019457.py:6: FutureWarning: A value is trying to be set on a copy of a DataFrame or Series through chained assignment using an inplace method.\n",
      "The behavior will change in pandas 3.0. This inplace method will never work because the intermediate object on which we are setting values always behaves as a copy.\n",
      "\n",
      "For example, when doing 'df[col].method(value, inplace=True)', try using 'df.method({col: value}, inplace=True)' or df[col] = df[col].method(value) instead, to perform the operation inplace on the original object.\n",
      "\n",
      "\n",
      "  df[column].fillna(df[column].value_counts().index[0], inplace=True)\n",
      "C:\\Users\\squip\\AppData\\Local\\Temp\\ipykernel_20784\\4265019457.py:6: FutureWarning: A value is trying to be set on a copy of a DataFrame or Series through chained assignment using an inplace method.\n",
      "The behavior will change in pandas 3.0. This inplace method will never work because the intermediate object on which we are setting values always behaves as a copy.\n",
      "\n",
      "For example, when doing 'df[col].method(value, inplace=True)', try using 'df.method({col: value}, inplace=True)' or df[col] = df[col].method(value) instead, to perform the operation inplace on the original object.\n",
      "\n",
      "\n",
      "  df[column].fillna(df[column].value_counts().index[0], inplace=True)\n",
      "C:\\Users\\squip\\AppData\\Local\\Temp\\ipykernel_20784\\4265019457.py:6: FutureWarning: A value is trying to be set on a copy of a DataFrame or Series through chained assignment using an inplace method.\n",
      "The behavior will change in pandas 3.0. This inplace method will never work because the intermediate object on which we are setting values always behaves as a copy.\n",
      "\n",
      "For example, when doing 'df[col].method(value, inplace=True)', try using 'df.method({col: value}, inplace=True)' or df[col] = df[col].method(value) instead, to perform the operation inplace on the original object.\n",
      "\n",
      "\n",
      "  df[column].fillna(df[column].value_counts().index[0], inplace=True)\n",
      "C:\\Users\\squip\\AppData\\Local\\Temp\\ipykernel_20784\\4265019457.py:6: FutureWarning: A value is trying to be set on a copy of a DataFrame or Series through chained assignment using an inplace method.\n",
      "The behavior will change in pandas 3.0. This inplace method will never work because the intermediate object on which we are setting values always behaves as a copy.\n",
      "\n",
      "For example, when doing 'df[col].method(value, inplace=True)', try using 'df.method({col: value}, inplace=True)' or df[col] = df[col].method(value) instead, to perform the operation inplace on the original object.\n",
      "\n",
      "\n",
      "  df[column].fillna(df[column].value_counts().index[0], inplace=True)\n",
      "C:\\Users\\squip\\AppData\\Local\\Temp\\ipykernel_20784\\4265019457.py:6: FutureWarning: A value is trying to be set on a copy of a DataFrame or Series through chained assignment using an inplace method.\n",
      "The behavior will change in pandas 3.0. This inplace method will never work because the intermediate object on which we are setting values always behaves as a copy.\n",
      "\n",
      "For example, when doing 'df[col].method(value, inplace=True)', try using 'df.method({col: value}, inplace=True)' or df[col] = df[col].method(value) instead, to perform the operation inplace on the original object.\n",
      "\n",
      "\n",
      "  df[column].fillna(df[column].value_counts().index[0], inplace=True)\n",
      "C:\\Users\\squip\\AppData\\Local\\Temp\\ipykernel_20784\\4265019457.py:8: FutureWarning: A value is trying to be set on a copy of a DataFrame or Series through chained assignment using an inplace method.\n",
      "The behavior will change in pandas 3.0. This inplace method will never work because the intermediate object on which we are setting values always behaves as a copy.\n",
      "\n",
      "For example, when doing 'df[col].method(value, inplace=True)', try using 'df.method({col: value}, inplace=True)' or df[col] = df[col].method(value) instead, to perform the operation inplace on the original object.\n",
      "\n",
      "\n",
      "  df[column].fillna(df[column].mean(), inplace=True)\n"
     ]
    }
   ],
   "source": [
    "columns_drop = ['country_name', 'country_iso_code', 'recovery_date', 'recovery_type', 'ethnic_group_name']\n",
    "columns_fill = ['case_location', 'status', 'recovered', 'symptom_start_date', 'diagnosis_date', 'ethnic_affiliation']\n",
    "df.drop(columns=columns_drop, axis=1, inplace=True)\n",
    "for column in columns_fill:\n",
    "    if df[column].dtype == 'object':\n",
    "        df[column].fillna(df[column].value_counts().index[0], inplace=True)\n",
    "    else:\n",
    "        df[column].fillna(df[column].mean(), inplace=True)"
   ]
  },
  {
   "cell_type": "markdown",
   "metadata": {},
   "source": [
    "#### Making sure there are no missing values anymore, except for death_date that will be transformed later"
   ]
  },
  {
   "cell_type": "code",
   "execution_count": 343,
   "metadata": {},
   "outputs": [
    {
     "data": {
      "text/plain": [
       "report_date               0\n",
       "case_id                   0\n",
       "notification_date         0\n",
       "department_code           0\n",
       "department_name           0\n",
       "municipality_code         0\n",
       "municipality_name         0\n",
       "age                       0\n",
       "age_unit                  0\n",
       "gender                    0\n",
       "contagion_type            0\n",
       "case_location             0\n",
       "status                    0\n",
       "recovered                 0\n",
       "symptom_start_date        0\n",
       "death_date            24826\n",
       "diagnosis_date            0\n",
       "ethnic_affiliation        0\n",
       "dtype: int64"
      ]
     },
     "execution_count": 343,
     "metadata": {},
     "output_type": "execute_result"
    }
   ],
   "source": [
    "df.isnull().sum()"
   ]
  },
  {
   "cell_type": "markdown",
   "metadata": {},
   "source": [
    "### Transforming our Target Variable (death_date) to boolean values, and renaming it"
   ]
  },
  {
   "cell_type": "code",
   "execution_count": 344,
   "metadata": {},
   "outputs": [],
   "source": [
    "df['is_dead'] = df['death_date'].notna()\n",
    "df.drop(columns=['death_date'], inplace=True)"
   ]
  },
  {
   "cell_type": "markdown",
   "metadata": {},
   "source": [
    "### Filtering relevant features"
   ]
  },
  {
   "cell_type": "code",
   "execution_count": 345,
   "metadata": {},
   "outputs": [],
   "source": [
    "relevant_features = [\n",
    "    \"department_code\", \"age\", \"gender\", \"contagion_type\", \"case_location\",\n",
    "    \"symptom_start_date\", \"diagnosis_date\", \"is_dead\"\n",
    "    ]\n",
    "df = df[relevant_features]\n"
   ]
  },
  {
   "cell_type": "markdown",
   "metadata": {},
   "source": [
    "### Converting date columns"
   ]
  },
  {
   "cell_type": "code",
   "execution_count": 346,
   "metadata": {},
   "outputs": [
    {
     "name": "stderr",
     "output_type": "stream",
     "text": [
      "C:\\Users\\squip\\AppData\\Local\\Temp\\ipykernel_20784\\1469152063.py:3: SettingWithCopyWarning: \n",
      "A value is trying to be set on a copy of a slice from a DataFrame.\n",
      "Try using .loc[row_indexer,col_indexer] = value instead\n",
      "\n",
      "See the caveats in the documentation: https://pandas.pydata.org/pandas-docs/stable/user_guide/indexing.html#returning-a-view-versus-a-copy\n",
      "  df[col] = pd.to_datetime(df[col], errors='coerce')\n",
      "C:\\Users\\squip\\AppData\\Local\\Temp\\ipykernel_20784\\1469152063.py:3: SettingWithCopyWarning: \n",
      "A value is trying to be set on a copy of a slice from a DataFrame.\n",
      "Try using .loc[row_indexer,col_indexer] = value instead\n",
      "\n",
      "See the caveats in the documentation: https://pandas.pydata.org/pandas-docs/stable/user_guide/indexing.html#returning-a-view-versus-a-copy\n",
      "  df[col] = pd.to_datetime(df[col], errors='coerce')\n"
     ]
    }
   ],
   "source": [
    "date_columns = [\"symptom_start_date\", \"diagnosis_date\"]\n",
    "for col in date_columns:\n",
    "    df[col] = pd.to_datetime(df[col], errors='coerce')"
   ]
  },
  {
   "cell_type": "markdown",
   "metadata": {},
   "source": [
    "### Visualize outliers"
   ]
  },
  {
   "cell_type": "code",
   "execution_count": 347,
   "metadata": {},
   "outputs": [
    {
     "data": {
      "image/png": "[encoded data removed]",
      "text/plain": [
       "<Figure size 640x480 with 1 Axes>"
      ]
     },
     "metadata": {},
     "output_type": "display_data"
    }
   ],
   "source": [
    "sns.boxplot(data=df, x='age')\n",
    "plt.show()"
   ]
  },
  {
   "cell_type": "markdown",
   "metadata": {},
   "source": [
    "### Visualize distribution"
   ]
  },
  {
   "cell_type": "code",
   "execution_count": 348,
   "metadata": {},
   "outputs": [
    {
     "data": {
      "image/png": "[encoded data removed]",
      "text/plain": [
       "<Figure size 640x480 with 1 Axes>"
      ]
     },
     "metadata": {},
     "output_type": "display_data"
    },
    {
     "data": {
      "image/png": "[encoded data removed]",
      "text/plain": [
       "<Figure size 640x480 with 1 Axes>"
      ]
     },
     "metadata": {},
     "output_type": "display_data"
    },
    {
     "data": {
      "image/png": "[encoded data removed]",
      "text/plain": [
       "<Figure size 640x480 with 1 Axes>"
      ]
     },
     "metadata": {},
     "output_type": "display_data"
    }
   ],
   "source": [
    "sns.histplot(df['case_location'], kde=True)\n",
    "plt.title('Case Location')\n",
    "plt.show()\n",
    "sns.histplot(df['gender'], kde=True)\n",
    "plt.title('Gender')\n",
    "plt.show()\n",
    "sns.histplot(df['contagion_type'], kde=True)\n",
    "plt.title('Contagion Type')\n",
    "plt.show()"
   ]
  },
  {
   "cell_type": "code",
   "execution_count": 349,
   "metadata": {},
   "outputs": [
    {
     "data": {
      "text/plain": [
       "case_location\n",
       "Casa         30123\n",
       "Fallecido    18565\n",
       "casa           104\n",
       "Hospital         5\n",
       "Name: count, dtype: int64"
      ]
     },
     "execution_count": 349,
     "metadata": {},
     "output_type": "execute_result"
    }
   ],
   "source": [
    "df['case_location'].value_counts()"
   ]
  },
  {
   "cell_type": "code",
   "execution_count": 350,
   "metadata": {},
   "outputs": [
    {
     "data": {
      "text/plain": [
       "contagion_type\n",
       "Comunitaria    35937\n",
       "Relacionado    12821\n",
       "Importado         39\n",
       "Name: count, dtype: int64"
      ]
     },
     "execution_count": 350,
     "metadata": {},
     "output_type": "execute_result"
    }
   ],
   "source": [
    "df['contagion_type'].value_counts()"
   ]
  },
  {
   "cell_type": "markdown",
   "metadata": {},
   "source": [
    "### Dropping records with 'casa' and 'Hospital' as Case location, and with 'Importado' as Contagion Type because they are insignificant"
   ]
  },
  {
   "cell_type": "code",
   "execution_count": 351,
   "metadata": {},
   "outputs": [],
   "source": [
    "df = df[~df['case_location'].isin(['casa', 'Hospital'])]\n",
    "df = df[df['contagion_type'] != 'Importado']"
   ]
  },
  {
   "cell_type": "markdown",
   "metadata": {},
   "source": [
    "### Encoding categorical variables"
   ]
  },
  {
   "cell_type": "code",
   "execution_count": 352,
   "metadata": {},
   "outputs": [],
   "source": [
    "label_encoder = LabelEncoder()\n",
    "df['gender'] = label_encoder.fit_transform(df['gender'])\n",
    "df['contagion_type'] = label_encoder.fit_transform(df['contagion_type'])\n",
    "df['case_location'] = label_encoder.fit_transform(df['case_location'])\n",
    "\n",
    "df['symptom_start_date'] = label_encoder.fit_transform(df['symptom_start_date'])\n",
    "df['diagnosis_date'] = label_encoder.fit_transform(df['diagnosis_date'])\n",
    "df['is_dead'] = label_encoder.fit_transform(df['is_dead'])"
   ]
  },
  {
   "cell_type": "markdown",
   "metadata": {},
   "source": [
    "### Normalizing numeric features"
   ]
  },
  {
   "cell_type": "code",
   "execution_count": 353,
   "metadata": {},
   "outputs": [],
   "source": [
    "scaler = StandardScaler()\n",
    "df['age'] = scaler.fit_transform(df[['age']])"
   ]
  },
  {
   "cell_type": "code",
   "execution_count": 354,
   "metadata": {},
   "outputs": [
    {
     "data": {
      "text/html": [
       "<div>\n",
       "<style scoped>\n",
       "    .dataframe tbody tr th:only-of-type {\n",
       "        vertical-align: middle;\n",
       "    }\n",
       "\n",
       "    .dataframe tbody tr th {\n",
       "        vertical-align: top;\n",
       "    }\n",
       "\n",
       "    .dataframe thead th {\n",
       "        text-align: right;\n",
       "    }\n",
       "</style>\n",
       "<table border=\"1\" class=\"dataframe\">\n",
       "  <thead>\n",
       "    <tr style=\"text-align: right;\">\n",
       "      <th></th>\n",
       "      <th>department_code</th>\n",
       "      <th>age</th>\n",
       "      <th>gender</th>\n",
       "      <th>contagion_type</th>\n",
       "      <th>case_location</th>\n",
       "      <th>symptom_start_date</th>\n",
       "      <th>diagnosis_date</th>\n",
       "      <th>is_dead</th>\n",
       "    </tr>\n",
       "  </thead>\n",
       "  <tbody>\n",
       "    <tr>\n",
       "      <th>0</th>\n",
       "      <td>76</td>\n",
       "      <td>0.282246</td>\n",
       "      <td>0</td>\n",
       "      <td>0</td>\n",
       "      <td>0</td>\n",
       "      <td>425</td>\n",
       "      <td>423</td>\n",
       "      <td>0</td>\n",
       "    </tr>\n",
       "    <tr>\n",
       "      <th>1</th>\n",
       "      <td>68</td>\n",
       "      <td>1.428915</td>\n",
       "      <td>1</td>\n",
       "      <td>1</td>\n",
       "      <td>0</td>\n",
       "      <td>195</td>\n",
       "      <td>196</td>\n",
       "      <td>1</td>\n",
       "    </tr>\n",
       "    <tr>\n",
       "      <th>2</th>\n",
       "      <td>8</td>\n",
       "      <td>-0.599808</td>\n",
       "      <td>0</td>\n",
       "      <td>1</td>\n",
       "      <td>0</td>\n",
       "      <td>363</td>\n",
       "      <td>365</td>\n",
       "      <td>0</td>\n",
       "    </tr>\n",
       "    <tr>\n",
       "      <th>3</th>\n",
       "      <td>11</td>\n",
       "      <td>-0.820321</td>\n",
       "      <td>1</td>\n",
       "      <td>0</td>\n",
       "      <td>0</td>\n",
       "      <td>656</td>\n",
       "      <td>419</td>\n",
       "      <td>0</td>\n",
       "    </tr>\n",
       "    <tr>\n",
       "      <th>4</th>\n",
       "      <td>44</td>\n",
       "      <td>-1.570067</td>\n",
       "      <td>0</td>\n",
       "      <td>0</td>\n",
       "      <td>0</td>\n",
       "      <td>672</td>\n",
       "      <td>676</td>\n",
       "      <td>0</td>\n",
       "    </tr>\n",
       "  </tbody>\n",
       "</table>\n",
       "</div>"
      ],
      "text/plain": [
       "   department_code       age  gender  contagion_type  case_location  \\\n",
       "0               76  0.282246       0               0              0   \n",
       "1               68  1.428915       1               1              0   \n",
       "2                8 -0.599808       0               1              0   \n",
       "3               11 -0.820321       1               0              0   \n",
       "4               44 -1.570067       0               0              0   \n",
       "\n",
       "   symptom_start_date  diagnosis_date  is_dead  \n",
       "0                 425             423        0  \n",
       "1                 195             196        1  \n",
       "2                 363             365        0  \n",
       "3                 656             419        0  \n",
       "4                 672             676        0  "
      ]
     },
     "execution_count": 354,
     "metadata": {},
     "output_type": "execute_result"
    }
   ],
   "source": [
    "df.head()"
   ]
  },
  {
   "cell_type": "markdown",
   "metadata": {},
   "source": [
    "### Making sure the variables are not too much correlated"
   ]
  },
  {
   "cell_type": "code",
   "execution_count": 355,
   "metadata": {},
   "outputs": [
    {
     "data": {
      "image/png": "[encoded data removed]",
      "text/plain": [
       "<Figure size 800x600 with 2 Axes>"
      ]
     },
     "metadata": {},
     "output_type": "display_data"
    }
   ],
   "source": [
    "numeric_cols_selected = df.select_dtypes(include=['float64', 'int64']).columns\n",
    "correlation_matrix_selected = df[numeric_cols_selected].corr()\n",
    "\n",
    "# Visualize\n",
    "plt.figure(figsize=(8, 6))\n",
    "sns.heatmap(correlation_matrix_selected, annot=True, cmap='coolwarm')\n",
    "plt.title('Correlation Matrix After Feature Selection')\n",
    "plt.show()"
   ]
  },
  {
   "cell_type": "markdown",
   "metadata": {},
   "source": [
    "### symptom_start_date & diagnosis_date are too much correlated, let's keep only one of them"
   ]
  },
  {
   "cell_type": "code",
   "execution_count": 356,
   "metadata": {},
   "outputs": [],
   "source": [
    "df.drop(columns=['symptom_start_date'], axis=1, inplace=True)"
   ]
  },
  {
   "cell_type": "markdown",
   "metadata": {},
   "source": [
    "## 4. Data split"
   ]
  },
  {
   "cell_type": "code",
   "execution_count": 357,
   "metadata": {},
   "outputs": [],
   "source": [
    "X = df.drop(columns=['is_dead'])\n",
    "y = df['is_dead']\n",
    "\n",
    "X_train, X_test, y_train, y_test = train_test_split(X, y, test_size=0.3, random_state=42)"
   ]
  },
  {
   "cell_type": "markdown",
   "metadata": {},
   "source": [
    "## 5. KNN: Death prediction in Colombia due to covid-19."
   ]
  },
  {
   "cell_type": "markdown",
   "metadata": {},
   "source": [
    "### Standardization, to put all the features on a comparable scale"
   ]
  },
  {
   "cell_type": "code",
   "execution_count": 358,
   "metadata": {},
   "outputs": [],
   "source": [
    "scaler = StandardScaler()\n",
    "\n",
    "X_train = scaler.fit_transform(X_train)\n",
    "X_test = scaler.transform(X_test)"
   ]
  },
  {
   "cell_type": "markdown",
   "metadata": {},
   "source": [
    "### Data Training"
   ]
  },
  {
   "cell_type": "code",
   "execution_count": 359,
   "metadata": {},
   "outputs": [
    {
     "data": {
      "text/html": [
       "<style>#sk-container-id-3 {\n",
       "  /* Definition of color scheme common for light and dark mode */\n",
       "  --sklearn-color-text: black;\n",
       "  --sklearn-color-line: gray;\n",
       "  /* Definition of color scheme for unfitted estimators */\n",
       "  --sklearn-color-unfitted-level-0: #fff5e6;\n",
       "  --sklearn-color-unfitted-level-1: #f6e4d2;\n",
       "  --sklearn-color-unfitted-level-2: #ffe0b3;\n",
       "  --sklearn-color-unfitted-level-3: chocolate;\n",
       "  /* Definition of color scheme for fitted estimators */\n",
       "  --sklearn-color-fitted-level-0: #f0f8ff;\n",
       "  --sklearn-color-fitted-level-1: #d4ebff;\n",
       "  --sklearn-color-fitted-level-2: #b3dbfd;\n",
       "  --sklearn-color-fitted-level-3: cornflowerblue;\n",
       "\n",
       "  /* Specific color for light theme */\n",
       "  --sklearn-color-text-on-default-background: var(--sg-text-color, var(--theme-code-foreground, var(--jp-content-font-color1, black)));\n",
       "  --sklearn-color-background: var(--sg-background-color, var(--theme-background, var(--jp-layout-color0, white)));\n",
       "  --sklearn-color-border-box: var(--sg-text-color, var(--theme-code-foreground, var(--jp-content-font-color1, black)));\n",
       "  --sklearn-color-icon: #696969;\n",
       "\n",
       "  @media (prefers-color-scheme: dark) {\n",
       "    /* Redefinition of color scheme for dark theme */\n",
       "    --sklearn-color-text-on-default-background: var(--sg-text-color, var(--theme-code-foreground, var(--jp-content-font-color1, white)));\n",
       "    --sklearn-color-background: var(--sg-background-color, var(--theme-background, var(--jp-layout-color0, #111)));\n",
       "    --sklearn-color-border-box: var(--sg-text-color, var(--theme-code-foreground, var(--jp-content-font-color1, white)));\n",
       "    --sklearn-color-icon: #878787;\n",
       "  }\n",
       "}\n",
       "\n",
       "#sk-container-id-3 {\n",
       "  color: var(--sklearn-color-text);\n",
       "}\n",
       "\n",
       "#sk-container-id-3 pre {\n",
       "  padding: 0;\n",
       "}\n",
       "\n",
       "#sk-container-id-3 input.sk-hidden--visually {\n",
       "  border: 0;\n",
       "  clip: rect(1px 1px 1px 1px);\n",
       "  clip: rect(1px, 1px, 1px, 1px);\n",
       "  height: 1px;\n",
       "  margin: -1px;\n",
       "  overflow: hidden;\n",
       "  padding: 0;\n",
       "  position: absolute;\n",
       "  width: 1px;\n",
       "}\n",
       "\n",
       "#sk-container-id-3 div.sk-dashed-wrapped {\n",
       "  border: 1px dashed var(--sklearn-color-line);\n",
       "  margin: 0 0.4em 0.5em 0.4em;\n",
       "  box-sizing: border-box;\n",
       "  padding-bottom: 0.4em;\n",
       "  background-color: var(--sklearn-color-background);\n",
       "}\n",
       "\n",
       "#sk-container-id-3 div.sk-container {\n",
       "  /* jupyter's `normalize.less` sets `[hidden] { display: none; }`\n",
       "     but bootstrap.min.css set `[hidden] { display: none !important; }`\n",
       "     so we also need the `!important` here to be able to override the\n",
       "     default hidden behavior on the sphinx rendered scikit-learn.org.\n",
       "     See: https://github.com/scikit-learn/scikit-learn/issues/21755 */\n",
       "  display: inline-block !important;\n",
       "  position: relative;\n",
       "}\n",
       "\n",
       "#sk-container-id-3 div.sk-text-repr-fallback {\n",
       "  display: none;\n",
       "}\n",
       "\n",
       "div.sk-parallel-item,\n",
       "div.sk-serial,\n",
       "div.sk-item {\n",
       "  /* draw centered vertical line to link estimators */\n",
       "  background-image: linear-gradient(var(--sklearn-color-text-on-default-background), var(--sklearn-color-text-on-default-background));\n",
       "  background-size: 2px 100%;\n",
       "  background-repeat: no-repeat;\n",
       "  background-position: center center;\n",
       "}\n",
       "\n",
       "/* Parallel-specific style estimator block */\n",
       "\n",
       "#sk-container-id-3 div.sk-parallel-item::after {\n",
       "  content: \"\";\n",
       "  width: 100%;\n",
       "  border-bottom: 2px solid var(--sklearn-color-text-on-default-background);\n",
       "  flex-grow: 1;\n",
       "}\n",
       "\n",
       "#sk-container-id-3 div.sk-parallel {\n",
       "  display: flex;\n",
       "  align-items: stretch;\n",
       "  justify-content: center;\n",
       "  background-color: var(--sklearn-color-background);\n",
       "  position: relative;\n",
       "}\n",
       "\n",
       "#sk-container-id-3 div.sk-parallel-item {\n",
       "  display: flex;\n",
       "  flex-direction: column;\n",
       "}\n",
       "\n",
       "#sk-container-id-3 div.sk-parallel-item:first-child::after {\n",
       "  align-self: flex-end;\n",
       "  width: 50%;\n",
       "}\n",
       "\n",
       "#sk-container-id-3 div.sk-parallel-item:last-child::after {\n",
       "  align-self: flex-start;\n",
       "  width: 50%;\n",
       "}\n",
       "\n",
       "#sk-container-id-3 div.sk-parallel-item:only-child::after {\n",
       "  width: 0;\n",
       "}\n",
       "\n",
       "/* Serial-specific style estimator block */\n",
       "\n",
       "#sk-container-id-3 div.sk-serial {\n",
       "  display: flex;\n",
       "  flex-direction: column;\n",
       "  align-items: center;\n",
       "  background-color: var(--sklearn-color-background);\n",
       "  padding-right: 1em;\n",
       "  padding-left: 1em;\n",
       "}\n",
       "\n",
       "\n",
       "/* Toggleable style: style used for estimator/Pipeline/ColumnTransformer box that is\n",
       "clickable and can be expanded/collapsed.\n",
       "- Pipeline and ColumnTransformer use this feature and define the default style\n",
       "- Estimators will overwrite some part of the style using the `sk-estimator` class\n",
       "*/\n",
       "\n",
       "/* Pipeline and ColumnTransformer style (default) */\n",
       "\n",
       "#sk-container-id-3 div.sk-toggleable {\n",
       "  /* Default theme specific background. It is overwritten whether we have a\n",
       "  specific estimator or a Pipeline/ColumnTransformer */\n",
       "  background-color: var(--sklearn-color-background);\n",
       "}\n",
       "\n",
       "/* Toggleable label */\n",
       "#sk-container-id-3 label.sk-toggleable__label {\n",
       "  cursor: pointer;\n",
       "  display: block;\n",
       "  width: 100%;\n",
       "  margin-bottom: 0;\n",
       "  padding: 0.5em;\n",
       "  box-sizing: border-box;\n",
       "  text-align: center;\n",
       "}\n",
       "\n",
       "#sk-container-id-3 label.sk-toggleable__label-arrow:before {\n",
       "  /* Arrow on the left of the label */\n",
       "  content: \"▸\";\n",
       "  float: left;\n",
       "  margin-right: 0.25em;\n",
       "  color: var(--sklearn-color-icon);\n",
       "}\n",
       "\n",
       "#sk-container-id-3 label.sk-toggleable__label-arrow:hover:before {\n",
       "  color: var(--sklearn-color-text);\n",
       "}\n",
       "\n",
       "/* Toggleable content - dropdown */\n",
       "\n",
       "#sk-container-id-3 div.sk-toggleable__content {\n",
       "  max-height: 0;\n",
       "  max-width: 0;\n",
       "  overflow: hidden;\n",
       "  text-align: left;\n",
       "  /* unfitted */\n",
       "  background-color: var(--sklearn-color-unfitted-level-0);\n",
       "}\n",
       "\n",
       "#sk-container-id-3 div.sk-toggleable__content.fitted {\n",
       "  /* fitted */\n",
       "  background-color: var(--sklearn-color-fitted-level-0);\n",
       "}\n",
       "\n",
       "#sk-container-id-3 div.sk-toggleable__content pre {\n",
       "  margin: 0.2em;\n",
       "  border-radius: 0.25em;\n",
       "  color: var(--sklearn-color-text);\n",
       "  /* unfitted */\n",
       "  background-color: var(--sklearn-color-unfitted-level-0);\n",
       "}\n",
       "\n",
       "#sk-container-id-3 div.sk-toggleable__content.fitted pre {\n",
       "  /* unfitted */\n",
       "  background-color: var(--sklearn-color-fitted-level-0);\n",
       "}\n",
       "\n",
       "#sk-container-id-3 input.sk-toggleable__control:checked~div.sk-toggleable__content {\n",
       "  /* Expand drop-down */\n",
       "  max-height: 200px;\n",
       "  max-width: 100%;\n",
       "  overflow: auto;\n",
       "}\n",
       "\n",
       "#sk-container-id-3 input.sk-toggleable__control:checked~label.sk-toggleable__label-arrow:before {\n",
       "  content: \"▾\";\n",
       "}\n",
       "\n",
       "/* Pipeline/ColumnTransformer-specific style */\n",
       "\n",
       "#sk-container-id-3 div.sk-label input.sk-toggleable__control:checked~label.sk-toggleable__label {\n",
       "  color: var(--sklearn-color-text);\n",
       "  background-color: var(--sklearn-color-unfitted-level-2);\n",
       "}\n",
       "\n",
       "#sk-container-id-3 div.sk-label.fitted input.sk-toggleable__control:checked~label.sk-toggleable__label {\n",
       "  background-color: var(--sklearn-color-fitted-level-2);\n",
       "}\n",
       "\n",
       "/* Estimator-specific style */\n",
       "\n",
       "/* Colorize estimator box */\n",
       "#sk-container-id-3 div.sk-estimator input.sk-toggleable__control:checked~label.sk-toggleable__label {\n",
       "  /* unfitted */\n",
       "  background-color: var(--sklearn-color-unfitted-level-2);\n",
       "}\n",
       "\n",
       "#sk-container-id-3 div.sk-estimator.fitted input.sk-toggleable__control:checked~label.sk-toggleable__label {\n",
       "  /* fitted */\n",
       "  background-color: var(--sklearn-color-fitted-level-2);\n",
       "}\n",
       "\n",
       "#sk-container-id-3 div.sk-label label.sk-toggleable__label,\n",
       "#sk-container-id-3 div.sk-label label {\n",
       "  /* The background is the default theme color */\n",
       "  color: var(--sklearn-color-text-on-default-background);\n",
       "}\n",
       "\n",
       "/* On hover, darken the color of the background */\n",
       "#sk-container-id-3 div.sk-label:hover label.sk-toggleable__label {\n",
       "  color: var(--sklearn-color-text);\n",
       "  background-color: var(--sklearn-color-unfitted-level-2);\n",
       "}\n",
       "\n",
       "/* Label box, darken color on hover, fitted */\n",
       "#sk-container-id-3 div.sk-label.fitted:hover label.sk-toggleable__label.fitted {\n",
       "  color: var(--sklearn-color-text);\n",
       "  background-color: var(--sklearn-color-fitted-level-2);\n",
       "}\n",
       "\n",
       "/* Estimator label */\n",
       "\n",
       "#sk-container-id-3 div.sk-label label {\n",
       "  font-family: monospace;\n",
       "  font-weight: bold;\n",
       "  display: inline-block;\n",
       "  line-height: 1.2em;\n",
       "}\n",
       "\n",
       "#sk-container-id-3 div.sk-label-container {\n",
       "  text-align: center;\n",
       "}\n",
       "\n",
       "/* Estimator-specific */\n",
       "#sk-container-id-3 div.sk-estimator {\n",
       "  font-family: monospace;\n",
       "  border: 1px dotted var(--sklearn-color-border-box);\n",
       "  border-radius: 0.25em;\n",
       "  box-sizing: border-box;\n",
       "  margin-bottom: 0.5em;\n",
       "  /* unfitted */\n",
       "  background-color: var(--sklearn-color-unfitted-level-0);\n",
       "}\n",
       "\n",
       "#sk-container-id-3 div.sk-estimator.fitted {\n",
       "  /* fitted */\n",
       "  background-color: var(--sklearn-color-fitted-level-0);\n",
       "}\n",
       "\n",
       "/* on hover */\n",
       "#sk-container-id-3 div.sk-estimator:hover {\n",
       "  /* unfitted */\n",
       "  background-color: var(--sklearn-color-unfitted-level-2);\n",
       "}\n",
       "\n",
       "#sk-container-id-3 div.sk-estimator.fitted:hover {\n",
       "  /* fitted */\n",
       "  background-color: var(--sklearn-color-fitted-level-2);\n",
       "}\n",
       "\n",
       "/* Specification for estimator info (e.g. \"i\" and \"?\") */\n",
       "\n",
       "/* Common style for \"i\" and \"?\" */\n",
       "\n",
       ".sk-estimator-doc-link,\n",
       "a:link.sk-estimator-doc-link,\n",
       "a:visited.sk-estimator-doc-link {\n",
       "  float: right;\n",
       "  font-size: smaller;\n",
       "  line-height: 1em;\n",
       "  font-family: monospace;\n",
       "  background-color: var(--sklearn-color-background);\n",
       "  border-radius: 1em;\n",
       "  height: 1em;\n",
       "  width: 1em;\n",
       "  text-decoration: none !important;\n",
       "  margin-left: 1ex;\n",
       "  /* unfitted */\n",
       "  border: var(--sklearn-color-unfitted-level-1) 1pt solid;\n",
       "  color: var(--sklearn-color-unfitted-level-1);\n",
       "}\n",
       "\n",
       ".sk-estimator-doc-link.fitted,\n",
       "a:link.sk-estimator-doc-link.fitted,\n",
       "a:visited.sk-estimator-doc-link.fitted {\n",
       "  /* fitted */\n",
       "  border: var(--sklearn-color-fitted-level-1) 1pt solid;\n",
       "  color: var(--sklearn-color-fitted-level-1);\n",
       "}\n",
       "\n",
       "/* On hover */\n",
       "div.sk-estimator:hover .sk-estimator-doc-link:hover,\n",
       ".sk-estimator-doc-link:hover,\n",
       "div.sk-label-container:hover .sk-estimator-doc-link:hover,\n",
       ".sk-estimator-doc-link:hover {\n",
       "  /* unfitted */\n",
       "  background-color: var(--sklearn-color-unfitted-level-3);\n",
       "  color: var(--sklearn-color-background);\n",
       "  text-decoration: none;\n",
       "}\n",
       "\n",
       "div.sk-estimator.fitted:hover .sk-estimator-doc-link.fitted:hover,\n",
       ".sk-estimator-doc-link.fitted:hover,\n",
       "div.sk-label-container:hover .sk-estimator-doc-link.fitted:hover,\n",
       ".sk-estimator-doc-link.fitted:hover {\n",
       "  /* fitted */\n",
       "  background-color: var(--sklearn-color-fitted-level-3);\n",
       "  color: var(--sklearn-color-background);\n",
       "  text-decoration: none;\n",
       "}\n",
       "\n",
       "/* Span, style for the box shown on hovering the info icon */\n",
       ".sk-estimator-doc-link span {\n",
       "  display: none;\n",
       "  z-index: 9999;\n",
       "  position: relative;\n",
       "  font-weight: normal;\n",
       "  right: .2ex;\n",
       "  padding: .5ex;\n",
       "  margin: .5ex;\n",
       "  width: min-content;\n",
       "  min-width: 20ex;\n",
       "  max-width: 50ex;\n",
       "  color: var(--sklearn-color-text);\n",
       "  box-shadow: 2pt 2pt 4pt #999;\n",
       "  /* unfitted */\n",
       "  background: var(--sklearn-color-unfitted-level-0);\n",
       "  border: .5pt solid var(--sklearn-color-unfitted-level-3);\n",
       "}\n",
       "\n",
       ".sk-estimator-doc-link.fitted span {\n",
       "  /* fitted */\n",
       "  background: var(--sklearn-color-fitted-level-0);\n",
       "  border: var(--sklearn-color-fitted-level-3);\n",
       "}\n",
       "\n",
       ".sk-estimator-doc-link:hover span {\n",
       "  display: block;\n",
       "}\n",
       "\n",
       "/* \"?\"-specific style due to the `<a>` HTML tag */\n",
       "\n",
       "#sk-container-id-3 a.estimator_doc_link {\n",
       "  float: right;\n",
       "  font-size: 1rem;\n",
       "  line-height: 1em;\n",
       "  font-family: monospace;\n",
       "  background-color: var(--sklearn-color-background);\n",
       "  border-radius: 1rem;\n",
       "  height: 1rem;\n",
       "  width: 1rem;\n",
       "  text-decoration: none;\n",
       "  /* unfitted */\n",
       "  color: var(--sklearn-color-unfitted-level-1);\n",
       "  border: var(--sklearn-color-unfitted-level-1) 1pt solid;\n",
       "}\n",
       "\n",
       "#sk-container-id-3 a.estimator_doc_link.fitted {\n",
       "  /* fitted */\n",
       "  border: var(--sklearn-color-fitted-level-1) 1pt solid;\n",
       "  color: var(--sklearn-color-fitted-level-1);\n",
       "}\n",
       "\n",
       "/* On hover */\n",
       "#sk-container-id-3 a.estimator_doc_link:hover {\n",
       "  /* unfitted */\n",
       "  background-color: var(--sklearn-color-unfitted-level-3);\n",
       "  color: var(--sklearn-color-background);\n",
       "  text-decoration: none;\n",
       "}\n",
       "\n",
       "#sk-container-id-3 a.estimator_doc_link.fitted:hover {\n",
       "  /* fitted */\n",
       "  background-color: var(--sklearn-color-fitted-level-3);\n",
       "}\n",
       "</style><div id=\"sk-container-id-3\" class=\"sk-top-container\"><div class=\"sk-text-repr-fallback\"><pre>KNeighborsClassifier()</pre><b>In a Jupyter environment, please rerun this cell to show the HTML representation or trust the notebook. <br />On GitHub, the HTML representation is unable to render, please try loading this page with nbviewer.org.</b></div><div class=\"sk-container\" hidden><div class=\"sk-item\"><div class=\"sk-estimator fitted sk-toggleable\"><input class=\"sk-toggleable__control sk-hidden--visually\" id=\"sk-estimator-id-3\" type=\"checkbox\" checked><label for=\"sk-estimator-id-3\" class=\"sk-toggleable__label fitted sk-toggleable__label-arrow fitted\">&nbsp;&nbsp;KNeighborsClassifier<a class=\"sk-estimator-doc-link fitted\" rel=\"noreferrer\" target=\"_blank\" href=\"https://scikit-learn.org/1.5/modules/generated/sklearn.neighbors.KNeighborsClassifier.html\">?<span>Documentation for KNeighborsClassifier</span></a><span class=\"sk-estimator-doc-link fitted\">i<span>Fitted</span></span></label><div class=\"sk-toggleable__content fitted\"><pre>KNeighborsClassifier()</pre></div> </div></div></div></div>"
      ],
      "text/plain": [
       "KNeighborsClassifier()"
      ]
     },
     "execution_count": 359,
     "metadata": {},
     "output_type": "execute_result"
    }
   ],
   "source": [
    "knn = KNeighborsClassifier(n_neighbors=5)\n",
    "\n",
    "knn.fit(X_train, y_train)"
   ]
  },
  {
   "cell_type": "markdown",
   "metadata": {},
   "source": [
    "### Data Testing/Evaluation before HP Tuning"
   ]
  },
  {
   "cell_type": "markdown",
   "metadata": {},
   "source": [
    "#### Accuracy, precision, recall, f1 score"
   ]
  },
  {
   "cell_type": "code",
   "execution_count": 360,
   "metadata": {},
   "outputs": [
    {
     "name": "stdout",
     "output_type": "stream",
     "text": [
      "KNN - Accuracy: 91.764.\n",
      "KNN - Precision: 0.918.\n",
      "KNN - Recall: 0.918.\n",
      "KNN - F1_Score: 0.918.\n",
      "\n",
      "Classification report:\n",
      "              precision    recall  f1-score   support\n",
      "\n",
      "           0       0.90      0.94      0.92      7342\n",
      "           1       0.94      0.89      0.92      7253\n",
      "\n",
      "    accuracy                           0.92     14595\n",
      "   macro avg       0.92      0.92      0.92     14595\n",
      "weighted avg       0.92      0.92      0.92     14595\n",
      "\n"
     ]
    }
   ],
   "source": [
    "y_pred = knn.predict(X_test)\n",
    "\n",
    "knn_acc = accuracy_score(y_test, y_pred)*100\n",
    "knn_pre = precision_score(y_test, y_pred, average = 'micro')\n",
    "knn_recall = recall_score(y_test, y_pred, average = 'micro')\n",
    "knn_f1_ = f1_score(y_test, y_pred, average = 'micro')\n",
    "\n",
    "print(\"KNN - Accuracy: {:.3f}.\".format(knn_acc))\n",
    "print(\"KNN - Precision: {:.3f}.\".format(knn_pre))\n",
    "print(\"KNN - Recall: {:.3f}.\".format(knn_recall))\n",
    "print(\"KNN - F1_Score: {:.3f}.\".format(knn_f1_))\n",
    "\n",
    "print(\"\\nClassification report:\")\n",
    "print(classification_report(y_test, y_pred))"
   ]
  },
  {
   "cell_type": "markdown",
   "metadata": {},
   "source": [
    "#### Confusion Matrix"
   ]
  },
  {
   "cell_type": "code",
   "execution_count": 361,
   "metadata": {},
   "outputs": [
    {
     "name": "stdout",
     "output_type": "stream",
     "text": [
      "Confusion matrix:\n",
      "[[6908  434]\n",
      " [ 768 6485]]\n"
     ]
    },
    {
     "data": {
      "image/png": "[encoded data removed]",
      "text/plain": [
       "<Figure size 300x300 with 2 Axes>"
      ]
     },
     "metadata": {},
     "output_type": "display_data"
    }
   ],
   "source": [
    "print(\"Confusion matrix:\")\n",
    "cm = confusion_matrix(y_test, y_pred)\n",
    "print(cm)\n",
    "\n",
    "plt.figure(figsize=(3,3))\n",
    "sns.heatmap(cm, annot=True, linewidths=.5, square = True, cmap = 'PuBuGn');\n",
    "plt.xlabel('Predicted label');\n",
    "plt.ylabel('Actual label');\n",
    "plt.title(\"Consfusion Matrix\", size = 12);"
   ]
  },
  {
   "cell_type": "markdown",
   "metadata": {},
   "source": [
    "### HP Tuning"
   ]
  },
  {
   "cell_type": "code",
   "execution_count": null,
   "metadata": {},
   "outputs": [],
   "source": [
    "parameters = {\n",
    "    'n_neighbors': np.arange(5, 7, 1),\n",
    "    'weights' : ['uniform', 'distance'],\n",
    "    'algorithm' : ['auto', 'ball_tree', 'kd_tree', 'brute'],\n",
    "    'leaf_size': np.arange(30, 50, 1),\n",
    "    'p' : (1,2) # p=1 for manhattan_distance and p=2 for euclidean_distance\n",
    "}\n",
    "\n",
    "knn_grid = GridSearchCV(estimator = knn, param_grid = parameters, cv = 10, verbose = 1)\n",
    "\n",
    "# Fit the grid search model\n",
    "knn_grid.fit(X_train, y_train)\n",
    "\n",
    "print(\"\\nBest Parameters: \", knn_grid.best_params_)\n",
    "print(\"Best Scores: \", knn_grid.best_score_) \n",
    "\n",
    "y_pred = knn_grid.predict(X_test)"
   ]
  },
  {
   "cell_type": "markdown",
   "metadata": {},
   "source": [
    "### Data Testing/Evaluation after HP Tuning"
   ]
  },
  {
   "cell_type": "markdown",
   "metadata": {},
   "source": [
    "#### Accuracy, precision, recall, f1 score"
   ]
  },
  {
   "cell_type": "code",
   "execution_count": null,
   "metadata": {},
   "outputs": [],
   "source": [
    "knn_acc = accuracy_score(y_test, y_pred)*100\n",
    "knn_pre = precision_score(y_test, y_pred, average = 'micro')\n",
    "knn_recall = recall_score(y_test, y_pred, average = 'micro')\n",
    "knn_f1_ = f1_score(y_test, y_pred, average = 'micro')\n",
    "\n",
    "print(\"KNN - Accuracy: {:.3f}.\".format(knn_acc))\n",
    "print(\"KNN - Precision: {:.3f}.\".format(knn_pre))\n",
    "print(\"KNN - Recall: {:.3f}.\".format(knn_recall))\n",
    "print(\"KNN - F1_Score: {:.3f}.\".format(knn_f1_))\n",
    "\n",
    "print(\"\\nClassification report:\")\n",
    "print(classification_report(y_test, y_pred))"
   ]
  },
  {
   "cell_type": "markdown",
   "metadata": {},
   "source": [
    "#### Confusion Matrix"
   ]
  },
  {
   "cell_type": "code",
   "execution_count": null,
   "metadata": {
    "vscode": {
     "languageId": "javascript"
    }
   },
   "outputs": [],
   "source": [
    "print(\"Confusion matrix:\")\n",
    "cm = confusion_matrix(y_test, y_pred)\n",
    "print(cm)\n",
    "\n",
    "plt.figure(figsize=(3,3))\n",
    "sns.heatmap(cm, annot=True, linewidths=.5, square = True, cmap = 'PuBuGn');\n",
    "plt.xlabel('Predicted label');\n",
    "plt.ylabel('Actual label');\n",
    "plt.title(\"Consfusion Matrix\", size = 12);"
   ]
  },
  {
   "cell_type": "markdown",
   "metadata": {},
   "source": [
    "### Cross validation"
   ]
  },
  {
   "cell_type": "code",
   "execution_count": null,
   "metadata": {},
   "outputs": [],
   "source": []
  }
 ],
 "metadata": {
  "kernelspec": {
   "display_name": "Python 3",
   "language": "python",
   "name": "python3"
  },
  "language_info": {
   "codemirror_mode": {
    "name": "ipython",
    "version": 3
   },
   "file_extension": ".py",
   "mimetype": "text/x-python",
   "name": "python",
   "nbconvert_exporter": "python",
   "pygments_lexer": "ipython3",
   "version": "3.10.11"
  }
 },
 "nbformat": 4,
 "nbformat_minor": 2
}
