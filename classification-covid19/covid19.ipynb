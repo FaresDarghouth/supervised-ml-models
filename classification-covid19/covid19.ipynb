{
 "cells": [
  {
   "cell_type": "markdown",
   "metadata": {},
   "source": [
    "# Importing libraries"
   ]
  },
  {
   "cell_type": "code",
   "execution_count": 2,
   "metadata": {},
   "outputs": [],
   "source": [
    "import numpy as np\n",
    "import pandas as pd\n",
    "import matplotlib.pyplot as plt\n",
    "import seaborn as sns\n",
    "from sklearn.preprocessing import StandardScaler"
   ]
  },
  {
   "cell_type": "markdown",
   "metadata": {},
   "source": [
    "# Death prediction in Colombia due to covid-19."
   ]
  },
  {
   "cell_type": "code",
   "execution_count": null,
   "metadata": {},
   "outputs": [],
   "source": [
    "df = pd.read_csv('Casos_positivos_de_COVID-19_en_Colombia._20241128.csv')"
   ]
  },
  {
   "cell_type": "markdown",
   "metadata": {},
   "source": [
    "## 1. Data Collection"
   ]
  },
  {
   "cell_type": "markdown",
   "metadata": {},
   "source": [
    "The dataset that we found is too big (more than 6.3M of records) and the features are written in spanish, which doesn't help us for cleaning it.\n",
    "\n",
    "We will then rename columns, and use a small sample (more precisely 1% of the original dataset) to export it to another file.\n",
    "\n",
    "Doing so, we will have readable input variables in english, and a file that will allow us to use less computing ressources."
   ]
  },
  {
   "cell_type": "markdown",
   "metadata": {},
   "source": [
    "### Renaming columns"
   ]
  },
  {
   "cell_type": "code",
   "execution_count": null,
   "metadata": {},
   "outputs": [],
   "source": [
    "column_mapping = {\n",
    "    \"fecha reporte web\": \"report_date\",\n",
    "    \"ID de caso\": \"case_id\",\n",
    "    \"Fecha de notificación\": \"notification_date\",\n",
    "    \"Código DIVIPOLA departamento\": \"department_code\",\n",
    "    \"Nombre departamento\": \"department_name\",\n",
    "    \"Código DIVIPOLA municipio\": \"municipality_code\",\n",
    "    \"Nombre municipio\": \"municipality_name\",\n",
    "    \"Edad\": \"age\",\n",
    "    \"Unidad de medida de edad\": \"age_unit\",\n",
    "    \"Sexo\": \"gender\",\n",
    "    \"Tipo de contagio\": \"contagion_type\",\n",
    "    \"Ubicación del caso\": \"case_location\",\n",
    "    \"Estado\": \"status\",\n",
    "    \"Código ISO del país\": \"country_iso_code\",\n",
    "    \"Nombre del país\": \"country_name\",\n",
    "    \"Recuperado\": \"recovered\",\n",
    "    \"Fecha de inicio de síntomas\": \"symptom_start_date\",\n",
    "    \"Fecha de muerte\": \"death_date\",\n",
    "    \"Fecha de diagnóstico\": \"diagnosis_date\",\n",
    "    \"Fecha de recuperación\": \"recovery_date\",\n",
    "    \"Tipo de recuperación\": \"recovery_type\",\n",
    "    \"Pertenencia étnica\": \"ethnic_affiliation\",\n",
    "    \"Nombre del grupo étnico\": \"ethnic_group_name\",\n",
    "}\n",
    "df.rename(columns=column_mapping, inplace=True)"
   ]
  },
  {
   "cell_type": "markdown",
   "metadata": {},
   "source": [
    "### Keeping 1% of dataset using Random Sampling Technique (from pandas library), and exporting it to another file"
   ]
  },
  {
   "cell_type": "code",
   "execution_count": null,
   "metadata": {},
   "outputs": [],
   "source": [
    "df_sample = df.sample(frac=0.01, random_state=42)"
   ]
  },
  {
   "cell_type": "code",
   "execution_count": null,
   "metadata": {},
   "outputs": [],
   "source": [
    "print(f\"Percentage of deaths: {int(df_sample[df_sample['death_date'].notna()]['death_date'].count()) / int(df_sample['case_id'].count()) * 100} %\")"
   ]
  },
  {
   "cell_type": "markdown",
   "metadata": {},
   "source": [
    "#### We notice that, we have a lot of class unbalancing, and then this sample doesn't suit us to build a model, so we are going to re-collect our data from the big dataset, in order to have as much records with death_date as without."
   ]
  },
  {
   "cell_type": "markdown",
   "metadata": {},
   "source": [
    "### Sampling the dataset in 2 sub-samples (no-death, & death), and combining them"
   ]
  },
  {
   "cell_type": "code",
   "execution_count": null,
   "metadata": {},
   "outputs": [],
   "source": [
    "df_no_death = df[df['death_date'].isna()]\n",
    "df_no_death_sample = df_no_death.sample(frac=0.004, random_state=42)"
   ]
  },
  {
   "cell_type": "code",
   "execution_count": null,
   "metadata": {},
   "outputs": [],
   "source": [
    "df_death = df[df['death_date'].notna()]\n",
    "df_death_sample = df_death.sample(frac=0.13, random_state=42)"
   ]
  },
  {
   "cell_type": "code",
   "execution_count": null,
   "metadata": {},
   "outputs": [],
   "source": [
    "df_final_sample = pd.concat([df_no_death_sample, df_death_sample])\n",
    "df_final_sample = df_final_sample.sample(frac=1, random_state=42).reset_index(drop=True)"
   ]
  },
  {
   "cell_type": "code",
   "execution_count": null,
   "metadata": {},
   "outputs": [],
   "source": [
    "df_final_sample.to_csv('covid19_sample.csv', index=False)"
   ]
  },
  {
   "cell_type": "code",
   "execution_count": null,
   "metadata": {},
   "outputs": [],
   "source": [
    "print(f\"Percentage of deaths: {int(df_final_sample[df_final_sample['death_date'].notna()]['death_date'].count()) / int(df_final_sample['case_id'].count()) * 100} %\")"
   ]
  },
  {
   "cell_type": "markdown",
   "metadata": {},
   "source": [
    "## 2. Data Understanding"
   ]
  },
  {
   "cell_type": "markdown",
   "metadata": {},
   "source": [
    "### Loading the sample that we exported previously"
   ]
  },
  {
   "cell_type": "code",
   "execution_count": 3,
   "metadata": {},
   "outputs": [],
   "source": [
    "df = pd.read_csv('covid19_sample.csv')"
   ]
  },
  {
   "cell_type": "markdown",
   "metadata": {},
   "source": [
    "### Displaying the dataframe and with additional info"
   ]
  },
  {
   "cell_type": "code",
   "execution_count": 4,
   "metadata": {},
   "outputs": [
    {
     "data": {
      "text/plain": [
       "(48797, 23)"
      ]
     },
     "execution_count": 4,
     "metadata": {},
     "output_type": "execute_result"
    }
   ],
   "source": [
    "df.shape"
   ]
  },
  {
   "cell_type": "code",
   "execution_count": 5,
   "metadata": {},
   "outputs": [
    {
     "data": {
      "text/html": [
       "<div>\n",
       "<style scoped>\n",
       "    .dataframe tbody tr th:only-of-type {\n",
       "        vertical-align: middle;\n",
       "    }\n",
       "\n",
       "    .dataframe tbody tr th {\n",
       "        vertical-align: top;\n",
       "    }\n",
       "\n",
       "    .dataframe thead th {\n",
       "        text-align: right;\n",
       "    }\n",
       "</style>\n",
       "<table border=\"1\" class=\"dataframe\">\n",
       "  <thead>\n",
       "    <tr style=\"text-align: right;\">\n",
       "      <th></th>\n",
       "      <th>report_date</th>\n",
       "      <th>case_id</th>\n",
       "      <th>notification_date</th>\n",
       "      <th>department_code</th>\n",
       "      <th>department_name</th>\n",
       "      <th>municipality_code</th>\n",
       "      <th>municipality_name</th>\n",
       "      <th>age</th>\n",
       "      <th>age_unit</th>\n",
       "      <th>gender</th>\n",
       "      <th>...</th>\n",
       "      <th>country_iso_code</th>\n",
       "      <th>country_name</th>\n",
       "      <th>recovered</th>\n",
       "      <th>symptom_start_date</th>\n",
       "      <th>death_date</th>\n",
       "      <th>diagnosis_date</th>\n",
       "      <th>recovery_date</th>\n",
       "      <th>recovery_type</th>\n",
       "      <th>ethnic_affiliation</th>\n",
       "      <th>ethnic_group_name</th>\n",
       "    </tr>\n",
       "  </thead>\n",
       "  <tbody>\n",
       "    <tr>\n",
       "      <th>0</th>\n",
       "      <td>2021-05-27 00:00:00</td>\n",
       "      <td>3303012</td>\n",
       "      <td>2021-05-25 00:00:00</td>\n",
       "      <td>76</td>\n",
       "      <td>VALLE</td>\n",
       "      <td>76318</td>\n",
       "      <td>GUACARI</td>\n",
       "      <td>60</td>\n",
       "      <td>1</td>\n",
       "      <td>F</td>\n",
       "      <td>...</td>\n",
       "      <td>NaN</td>\n",
       "      <td>NaN</td>\n",
       "      <td>Recuperado</td>\n",
       "      <td>2021-05-17 00:00:00</td>\n",
       "      <td>NaN</td>\n",
       "      <td>2021-05-26 00:00:00</td>\n",
       "      <td>2021-06-01 00:00:00</td>\n",
       "      <td>Tiempo</td>\n",
       "      <td>6.0</td>\n",
       "      <td>NaN</td>\n",
       "    </tr>\n",
       "    <tr>\n",
       "      <th>1</th>\n",
       "      <td>2020-10-12 00:00:00</td>\n",
       "      <td>912103</td>\n",
       "      <td>2020-10-05 00:00:00</td>\n",
       "      <td>68</td>\n",
       "      <td>SANTANDER</td>\n",
       "      <td>68081</td>\n",
       "      <td>BARRANCABERMEJA</td>\n",
       "      <td>86</td>\n",
       "      <td>1</td>\n",
       "      <td>M</td>\n",
       "      <td>...</td>\n",
       "      <td>NaN</td>\n",
       "      <td>NaN</td>\n",
       "      <td>NaN</td>\n",
       "      <td>2020-09-29 00:00:00</td>\n",
       "      <td>2021-02-12 00:00:00</td>\n",
       "      <td>2020-10-11 00:00:00</td>\n",
       "      <td>NaN</td>\n",
       "      <td>NaN</td>\n",
       "      <td>6.0</td>\n",
       "      <td>NaN</td>\n",
       "    </tr>\n",
       "    <tr>\n",
       "      <th>2</th>\n",
       "      <td>2021-03-31 00:00:00</td>\n",
       "      <td>2397852</td>\n",
       "      <td>2021-03-18 00:00:00</td>\n",
       "      <td>8</td>\n",
       "      <td>ATLANTICO</td>\n",
       "      <td>8758</td>\n",
       "      <td>SOLEDAD</td>\n",
       "      <td>40</td>\n",
       "      <td>1</td>\n",
       "      <td>F</td>\n",
       "      <td>...</td>\n",
       "      <td>NaN</td>\n",
       "      <td>NaN</td>\n",
       "      <td>Recuperado</td>\n",
       "      <td>2021-03-16 00:00:00</td>\n",
       "      <td>NaN</td>\n",
       "      <td>2021-03-29 00:00:00</td>\n",
       "      <td>2021-04-01 00:00:00</td>\n",
       "      <td>Tiempo</td>\n",
       "      <td>6.0</td>\n",
       "      <td>NaN</td>\n",
       "    </tr>\n",
       "    <tr>\n",
       "      <th>3</th>\n",
       "      <td>2021-05-25 00:00:00</td>\n",
       "      <td>3264190</td>\n",
       "      <td>2021-05-21 00:00:00</td>\n",
       "      <td>11</td>\n",
       "      <td>BOGOTA</td>\n",
       "      <td>11001</td>\n",
       "      <td>BOGOTA</td>\n",
       "      <td>35</td>\n",
       "      <td>1</td>\n",
       "      <td>M</td>\n",
       "      <td>...</td>\n",
       "      <td>NaN</td>\n",
       "      <td>NaN</td>\n",
       "      <td>Recuperado</td>\n",
       "      <td>NaN</td>\n",
       "      <td>NaN</td>\n",
       "      <td>2021-05-22 00:00:00</td>\n",
       "      <td>2021-06-04 00:00:00</td>\n",
       "      <td>Tiempo</td>\n",
       "      <td>6.0</td>\n",
       "      <td>NaN</td>\n",
       "    </tr>\n",
       "    <tr>\n",
       "      <th>4</th>\n",
       "      <td>2022-02-07 00:00:00</td>\n",
       "      <td>5974914</td>\n",
       "      <td>2022-01-23 00:00:00</td>\n",
       "      <td>44</td>\n",
       "      <td>GUAJIRA</td>\n",
       "      <td>44001</td>\n",
       "      <td>RIOHACHA</td>\n",
       "      <td>18</td>\n",
       "      <td>1</td>\n",
       "      <td>F</td>\n",
       "      <td>...</td>\n",
       "      <td>NaN</td>\n",
       "      <td>NaN</td>\n",
       "      <td>Recuperado</td>\n",
       "      <td>2022-01-19 00:00:00</td>\n",
       "      <td>NaN</td>\n",
       "      <td>2022-02-03 00:00:00</td>\n",
       "      <td>2022-02-08 00:00:00</td>\n",
       "      <td>Tiempo</td>\n",
       "      <td>6.0</td>\n",
       "      <td>NaN</td>\n",
       "    </tr>\n",
       "    <tr>\n",
       "      <th>...</th>\n",
       "      <td>...</td>\n",
       "      <td>...</td>\n",
       "      <td>...</td>\n",
       "      <td>...</td>\n",
       "      <td>...</td>\n",
       "      <td>...</td>\n",
       "      <td>...</td>\n",
       "      <td>...</td>\n",
       "      <td>...</td>\n",
       "      <td>...</td>\n",
       "      <td>...</td>\n",
       "      <td>...</td>\n",
       "      <td>...</td>\n",
       "      <td>...</td>\n",
       "      <td>...</td>\n",
       "      <td>...</td>\n",
       "      <td>...</td>\n",
       "      <td>...</td>\n",
       "      <td>...</td>\n",
       "      <td>...</td>\n",
       "      <td>...</td>\n",
       "    </tr>\n",
       "    <tr>\n",
       "      <th>48792</th>\n",
       "      <td>2021-05-26 00:00:00</td>\n",
       "      <td>3282457</td>\n",
       "      <td>2021-05-23 00:00:00</td>\n",
       "      <td>76</td>\n",
       "      <td>VALLE</td>\n",
       "      <td>76001</td>\n",
       "      <td>CALI</td>\n",
       "      <td>66</td>\n",
       "      <td>1</td>\n",
       "      <td>F</td>\n",
       "      <td>...</td>\n",
       "      <td>NaN</td>\n",
       "      <td>NaN</td>\n",
       "      <td>Recuperado</td>\n",
       "      <td>2021-05-14 00:00:00</td>\n",
       "      <td>NaN</td>\n",
       "      <td>2021-05-26 00:00:00</td>\n",
       "      <td>2021-05-28 00:00:00</td>\n",
       "      <td>Tiempo</td>\n",
       "      <td>6.0</td>\n",
       "      <td>NaN</td>\n",
       "    </tr>\n",
       "    <tr>\n",
       "      <th>48793</th>\n",
       "      <td>2020-09-25 00:00:00</td>\n",
       "      <td>791713</td>\n",
       "      <td>2020-09-23 00:00:00</td>\n",
       "      <td>76</td>\n",
       "      <td>VALLE</td>\n",
       "      <td>76520</td>\n",
       "      <td>PALMIRA</td>\n",
       "      <td>67</td>\n",
       "      <td>1</td>\n",
       "      <td>M</td>\n",
       "      <td>...</td>\n",
       "      <td>NaN</td>\n",
       "      <td>NaN</td>\n",
       "      <td>Fallecido</td>\n",
       "      <td>2020-09-21 00:00:00</td>\n",
       "      <td>2020-09-28 00:00:00</td>\n",
       "      <td>2020-09-23 00:00:00</td>\n",
       "      <td>NaN</td>\n",
       "      <td>NaN</td>\n",
       "      <td>6.0</td>\n",
       "      <td>NaN</td>\n",
       "    </tr>\n",
       "    <tr>\n",
       "      <th>48794</th>\n",
       "      <td>2021-07-13 00:00:00</td>\n",
       "      <td>4542060</td>\n",
       "      <td>2021-07-08 00:00:00</td>\n",
       "      <td>11</td>\n",
       "      <td>BOGOTA</td>\n",
       "      <td>11001</td>\n",
       "      <td>BOGOTA</td>\n",
       "      <td>23</td>\n",
       "      <td>1</td>\n",
       "      <td>M</td>\n",
       "      <td>...</td>\n",
       "      <td>NaN</td>\n",
       "      <td>NaN</td>\n",
       "      <td>NaN</td>\n",
       "      <td>2021-07-04 00:00:00</td>\n",
       "      <td>2021-10-14 00:00:00</td>\n",
       "      <td>2021-07-12 00:00:00</td>\n",
       "      <td>NaN</td>\n",
       "      <td>NaN</td>\n",
       "      <td>6.0</td>\n",
       "      <td>NaN</td>\n",
       "    </tr>\n",
       "    <tr>\n",
       "      <th>48795</th>\n",
       "      <td>2021-06-12 00:00:00</td>\n",
       "      <td>3714232</td>\n",
       "      <td>2021-06-03 00:00:00</td>\n",
       "      <td>11</td>\n",
       "      <td>BOGOTA</td>\n",
       "      <td>11001</td>\n",
       "      <td>BOGOTA</td>\n",
       "      <td>19</td>\n",
       "      <td>1</td>\n",
       "      <td>M</td>\n",
       "      <td>...</td>\n",
       "      <td>NaN</td>\n",
       "      <td>NaN</td>\n",
       "      <td>Recuperado</td>\n",
       "      <td>NaN</td>\n",
       "      <td>NaN</td>\n",
       "      <td>2021-06-04 00:00:00</td>\n",
       "      <td>2021-06-17 00:00:00</td>\n",
       "      <td>Tiempo</td>\n",
       "      <td>6.0</td>\n",
       "      <td>NaN</td>\n",
       "    </tr>\n",
       "    <tr>\n",
       "      <th>48796</th>\n",
       "      <td>2021-06-01 00:00:00</td>\n",
       "      <td>3421855</td>\n",
       "      <td>2021-05-27 00:00:00</td>\n",
       "      <td>76</td>\n",
       "      <td>VALLE</td>\n",
       "      <td>76001</td>\n",
       "      <td>CALI</td>\n",
       "      <td>46</td>\n",
       "      <td>1</td>\n",
       "      <td>F</td>\n",
       "      <td>...</td>\n",
       "      <td>NaN</td>\n",
       "      <td>NaN</td>\n",
       "      <td>Recuperado</td>\n",
       "      <td>2021-05-24 00:00:00</td>\n",
       "      <td>NaN</td>\n",
       "      <td>2021-05-27 00:00:00</td>\n",
       "      <td>2021-06-07 00:00:00</td>\n",
       "      <td>Tiempo</td>\n",
       "      <td>6.0</td>\n",
       "      <td>NaN</td>\n",
       "    </tr>\n",
       "  </tbody>\n",
       "</table>\n",
       "<p>48797 rows × 23 columns</p>\n",
       "</div>"
      ],
      "text/plain": [
       "               report_date  case_id    notification_date  department_code  \\\n",
       "0      2021-05-27 00:00:00  3303012  2021-05-25 00:00:00               76   \n",
       "1      2020-10-12 00:00:00   912103  2020-10-05 00:00:00               68   \n",
       "2      2021-03-31 00:00:00  2397852  2021-03-18 00:00:00                8   \n",
       "3      2021-05-25 00:00:00  3264190  2021-05-21 00:00:00               11   \n",
       "4      2022-02-07 00:00:00  5974914  2022-01-23 00:00:00               44   \n",
       "...                    ...      ...                  ...              ...   \n",
       "48792  2021-05-26 00:00:00  3282457  2021-05-23 00:00:00               76   \n",
       "48793  2020-09-25 00:00:00   791713  2020-09-23 00:00:00               76   \n",
       "48794  2021-07-13 00:00:00  4542060  2021-07-08 00:00:00               11   \n",
       "48795  2021-06-12 00:00:00  3714232  2021-06-03 00:00:00               11   \n",
       "48796  2021-06-01 00:00:00  3421855  2021-05-27 00:00:00               76   \n",
       "\n",
       "      department_name  municipality_code municipality_name  age  age_unit  \\\n",
       "0               VALLE              76318           GUACARI   60         1   \n",
       "1           SANTANDER              68081   BARRANCABERMEJA   86         1   \n",
       "2           ATLANTICO               8758           SOLEDAD   40         1   \n",
       "3              BOGOTA              11001            BOGOTA   35         1   \n",
       "4             GUAJIRA              44001          RIOHACHA   18         1   \n",
       "...               ...                ...               ...  ...       ...   \n",
       "48792           VALLE              76001              CALI   66         1   \n",
       "48793           VALLE              76520           PALMIRA   67         1   \n",
       "48794          BOGOTA              11001            BOGOTA   23         1   \n",
       "48795          BOGOTA              11001            BOGOTA   19         1   \n",
       "48796           VALLE              76001              CALI   46         1   \n",
       "\n",
       "      gender  ... country_iso_code country_name   recovered  \\\n",
       "0          F  ...              NaN          NaN  Recuperado   \n",
       "1          M  ...              NaN          NaN         NaN   \n",
       "2          F  ...              NaN          NaN  Recuperado   \n",
       "3          M  ...              NaN          NaN  Recuperado   \n",
       "4          F  ...              NaN          NaN  Recuperado   \n",
       "...      ...  ...              ...          ...         ...   \n",
       "48792      F  ...              NaN          NaN  Recuperado   \n",
       "48793      M  ...              NaN          NaN   Fallecido   \n",
       "48794      M  ...              NaN          NaN         NaN   \n",
       "48795      M  ...              NaN          NaN  Recuperado   \n",
       "48796      F  ...              NaN          NaN  Recuperado   \n",
       "\n",
       "        symptom_start_date           death_date       diagnosis_date  \\\n",
       "0      2021-05-17 00:00:00                  NaN  2021-05-26 00:00:00   \n",
       "1      2020-09-29 00:00:00  2021-02-12 00:00:00  2020-10-11 00:00:00   \n",
       "2      2021-03-16 00:00:00                  NaN  2021-03-29 00:00:00   \n",
       "3                      NaN                  NaN  2021-05-22 00:00:00   \n",
       "4      2022-01-19 00:00:00                  NaN  2022-02-03 00:00:00   \n",
       "...                    ...                  ...                  ...   \n",
       "48792  2021-05-14 00:00:00                  NaN  2021-05-26 00:00:00   \n",
       "48793  2020-09-21 00:00:00  2020-09-28 00:00:00  2020-09-23 00:00:00   \n",
       "48794  2021-07-04 00:00:00  2021-10-14 00:00:00  2021-07-12 00:00:00   \n",
       "48795                  NaN                  NaN  2021-06-04 00:00:00   \n",
       "48796  2021-05-24 00:00:00                  NaN  2021-05-27 00:00:00   \n",
       "\n",
       "             recovery_date recovery_type ethnic_affiliation ethnic_group_name  \n",
       "0      2021-06-01 00:00:00        Tiempo                6.0               NaN  \n",
       "1                      NaN           NaN                6.0               NaN  \n",
       "2      2021-04-01 00:00:00        Tiempo                6.0               NaN  \n",
       "3      2021-06-04 00:00:00        Tiempo                6.0               NaN  \n",
       "4      2022-02-08 00:00:00        Tiempo                6.0               NaN  \n",
       "...                    ...           ...                ...               ...  \n",
       "48792  2021-05-28 00:00:00        Tiempo                6.0               NaN  \n",
       "48793                  NaN           NaN                6.0               NaN  \n",
       "48794                  NaN           NaN                6.0               NaN  \n",
       "48795  2021-06-17 00:00:00        Tiempo                6.0               NaN  \n",
       "48796  2021-06-07 00:00:00        Tiempo                6.0               NaN  \n",
       "\n",
       "[48797 rows x 23 columns]"
      ]
     },
     "execution_count": 5,
     "metadata": {},
     "output_type": "execute_result"
    }
   ],
   "source": [
    "df"
   ]
  },
  {
   "cell_type": "code",
   "execution_count": 6,
   "metadata": {},
   "outputs": [
    {
     "data": {
      "text/html": [
       "<div>\n",
       "<style scoped>\n",
       "    .dataframe tbody tr th:only-of-type {\n",
       "        vertical-align: middle;\n",
       "    }\n",
       "\n",
       "    .dataframe tbody tr th {\n",
       "        vertical-align: top;\n",
       "    }\n",
       "\n",
       "    .dataframe thead th {\n",
       "        text-align: right;\n",
       "    }\n",
       "</style>\n",
       "<table border=\"1\" class=\"dataframe\">\n",
       "  <thead>\n",
       "    <tr style=\"text-align: right;\">\n",
       "      <th></th>\n",
       "      <th>report_date</th>\n",
       "      <th>case_id</th>\n",
       "      <th>notification_date</th>\n",
       "      <th>department_code</th>\n",
       "      <th>department_name</th>\n",
       "      <th>municipality_code</th>\n",
       "      <th>municipality_name</th>\n",
       "      <th>age</th>\n",
       "      <th>age_unit</th>\n",
       "      <th>gender</th>\n",
       "      <th>...</th>\n",
       "      <th>country_iso_code</th>\n",
       "      <th>country_name</th>\n",
       "      <th>recovered</th>\n",
       "      <th>symptom_start_date</th>\n",
       "      <th>death_date</th>\n",
       "      <th>diagnosis_date</th>\n",
       "      <th>recovery_date</th>\n",
       "      <th>recovery_type</th>\n",
       "      <th>ethnic_affiliation</th>\n",
       "      <th>ethnic_group_name</th>\n",
       "    </tr>\n",
       "  </thead>\n",
       "  <tbody>\n",
       "    <tr>\n",
       "      <th>0</th>\n",
       "      <td>2021-05-27 00:00:00</td>\n",
       "      <td>3303012</td>\n",
       "      <td>2021-05-25 00:00:00</td>\n",
       "      <td>76</td>\n",
       "      <td>VALLE</td>\n",
       "      <td>76318</td>\n",
       "      <td>GUACARI</td>\n",
       "      <td>60</td>\n",
       "      <td>1</td>\n",
       "      <td>F</td>\n",
       "      <td>...</td>\n",
       "      <td>NaN</td>\n",
       "      <td>NaN</td>\n",
       "      <td>Recuperado</td>\n",
       "      <td>2021-05-17 00:00:00</td>\n",
       "      <td>NaN</td>\n",
       "      <td>2021-05-26 00:00:00</td>\n",
       "      <td>2021-06-01 00:00:00</td>\n",
       "      <td>Tiempo</td>\n",
       "      <td>6.0</td>\n",
       "      <td>NaN</td>\n",
       "    </tr>\n",
       "    <tr>\n",
       "      <th>1</th>\n",
       "      <td>2020-10-12 00:00:00</td>\n",
       "      <td>912103</td>\n",
       "      <td>2020-10-05 00:00:00</td>\n",
       "      <td>68</td>\n",
       "      <td>SANTANDER</td>\n",
       "      <td>68081</td>\n",
       "      <td>BARRANCABERMEJA</td>\n",
       "      <td>86</td>\n",
       "      <td>1</td>\n",
       "      <td>M</td>\n",
       "      <td>...</td>\n",
       "      <td>NaN</td>\n",
       "      <td>NaN</td>\n",
       "      <td>NaN</td>\n",
       "      <td>2020-09-29 00:00:00</td>\n",
       "      <td>2021-02-12 00:00:00</td>\n",
       "      <td>2020-10-11 00:00:00</td>\n",
       "      <td>NaN</td>\n",
       "      <td>NaN</td>\n",
       "      <td>6.0</td>\n",
       "      <td>NaN</td>\n",
       "    </tr>\n",
       "    <tr>\n",
       "      <th>2</th>\n",
       "      <td>2021-03-31 00:00:00</td>\n",
       "      <td>2397852</td>\n",
       "      <td>2021-03-18 00:00:00</td>\n",
       "      <td>8</td>\n",
       "      <td>ATLANTICO</td>\n",
       "      <td>8758</td>\n",
       "      <td>SOLEDAD</td>\n",
       "      <td>40</td>\n",
       "      <td>1</td>\n",
       "      <td>F</td>\n",
       "      <td>...</td>\n",
       "      <td>NaN</td>\n",
       "      <td>NaN</td>\n",
       "      <td>Recuperado</td>\n",
       "      <td>2021-03-16 00:00:00</td>\n",
       "      <td>NaN</td>\n",
       "      <td>2021-03-29 00:00:00</td>\n",
       "      <td>2021-04-01 00:00:00</td>\n",
       "      <td>Tiempo</td>\n",
       "      <td>6.0</td>\n",
       "      <td>NaN</td>\n",
       "    </tr>\n",
       "    <tr>\n",
       "      <th>3</th>\n",
       "      <td>2021-05-25 00:00:00</td>\n",
       "      <td>3264190</td>\n",
       "      <td>2021-05-21 00:00:00</td>\n",
       "      <td>11</td>\n",
       "      <td>BOGOTA</td>\n",
       "      <td>11001</td>\n",
       "      <td>BOGOTA</td>\n",
       "      <td>35</td>\n",
       "      <td>1</td>\n",
       "      <td>M</td>\n",
       "      <td>...</td>\n",
       "      <td>NaN</td>\n",
       "      <td>NaN</td>\n",
       "      <td>Recuperado</td>\n",
       "      <td>NaN</td>\n",
       "      <td>NaN</td>\n",
       "      <td>2021-05-22 00:00:00</td>\n",
       "      <td>2021-06-04 00:00:00</td>\n",
       "      <td>Tiempo</td>\n",
       "      <td>6.0</td>\n",
       "      <td>NaN</td>\n",
       "    </tr>\n",
       "    <tr>\n",
       "      <th>4</th>\n",
       "      <td>2022-02-07 00:00:00</td>\n",
       "      <td>5974914</td>\n",
       "      <td>2022-01-23 00:00:00</td>\n",
       "      <td>44</td>\n",
       "      <td>GUAJIRA</td>\n",
       "      <td>44001</td>\n",
       "      <td>RIOHACHA</td>\n",
       "      <td>18</td>\n",
       "      <td>1</td>\n",
       "      <td>F</td>\n",
       "      <td>...</td>\n",
       "      <td>NaN</td>\n",
       "      <td>NaN</td>\n",
       "      <td>Recuperado</td>\n",
       "      <td>2022-01-19 00:00:00</td>\n",
       "      <td>NaN</td>\n",
       "      <td>2022-02-03 00:00:00</td>\n",
       "      <td>2022-02-08 00:00:00</td>\n",
       "      <td>Tiempo</td>\n",
       "      <td>6.0</td>\n",
       "      <td>NaN</td>\n",
       "    </tr>\n",
       "  </tbody>\n",
       "</table>\n",
       "<p>5 rows × 23 columns</p>\n",
       "</div>"
      ],
      "text/plain": [
       "           report_date  case_id    notification_date  department_code  \\\n",
       "0  2021-05-27 00:00:00  3303012  2021-05-25 00:00:00               76   \n",
       "1  2020-10-12 00:00:00   912103  2020-10-05 00:00:00               68   \n",
       "2  2021-03-31 00:00:00  2397852  2021-03-18 00:00:00                8   \n",
       "3  2021-05-25 00:00:00  3264190  2021-05-21 00:00:00               11   \n",
       "4  2022-02-07 00:00:00  5974914  2022-01-23 00:00:00               44   \n",
       "\n",
       "  department_name  municipality_code municipality_name  age  age_unit gender  \\\n",
       "0           VALLE              76318           GUACARI   60         1      F   \n",
       "1       SANTANDER              68081   BARRANCABERMEJA   86         1      M   \n",
       "2       ATLANTICO               8758           SOLEDAD   40         1      F   \n",
       "3          BOGOTA              11001            BOGOTA   35         1      M   \n",
       "4         GUAJIRA              44001          RIOHACHA   18         1      F   \n",
       "\n",
       "   ... country_iso_code country_name   recovered   symptom_start_date  \\\n",
       "0  ...              NaN          NaN  Recuperado  2021-05-17 00:00:00   \n",
       "1  ...              NaN          NaN         NaN  2020-09-29 00:00:00   \n",
       "2  ...              NaN          NaN  Recuperado  2021-03-16 00:00:00   \n",
       "3  ...              NaN          NaN  Recuperado                  NaN   \n",
       "4  ...              NaN          NaN  Recuperado  2022-01-19 00:00:00   \n",
       "\n",
       "            death_date       diagnosis_date        recovery_date  \\\n",
       "0                  NaN  2021-05-26 00:00:00  2021-06-01 00:00:00   \n",
       "1  2021-02-12 00:00:00  2020-10-11 00:00:00                  NaN   \n",
       "2                  NaN  2021-03-29 00:00:00  2021-04-01 00:00:00   \n",
       "3                  NaN  2021-05-22 00:00:00  2021-06-04 00:00:00   \n",
       "4                  NaN  2022-02-03 00:00:00  2022-02-08 00:00:00   \n",
       "\n",
       "  recovery_type ethnic_affiliation ethnic_group_name  \n",
       "0        Tiempo                6.0               NaN  \n",
       "1           NaN                6.0               NaN  \n",
       "2        Tiempo                6.0               NaN  \n",
       "3        Tiempo                6.0               NaN  \n",
       "4        Tiempo                6.0               NaN  \n",
       "\n",
       "[5 rows x 23 columns]"
      ]
     },
     "execution_count": 6,
     "metadata": {},
     "output_type": "execute_result"
    }
   ],
   "source": [
    "df.head()"
   ]
  },
  {
   "cell_type": "code",
   "execution_count": 7,
   "metadata": {},
   "outputs": [
    {
     "name": "stdout",
     "output_type": "stream",
     "text": [
      "<class 'pandas.core.frame.DataFrame'>\n",
      "RangeIndex: 48797 entries, 0 to 48796\n",
      "Data columns (total 23 columns):\n",
      " #   Column              Non-Null Count  Dtype  \n",
      "---  ------              --------------  -----  \n",
      " 0   report_date         48797 non-null  object \n",
      " 1   case_id             48797 non-null  int64  \n",
      " 2   notification_date   48797 non-null  object \n",
      " 3   department_code     48797 non-null  int64  \n",
      " 4   department_name     48797 non-null  object \n",
      " 5   municipality_code   48797 non-null  int64  \n",
      " 6   municipality_name   48797 non-null  object \n",
      " 7   age                 48797 non-null  int64  \n",
      " 8   age_unit            48797 non-null  int64  \n",
      " 9   gender              48797 non-null  object \n",
      " 10  contagion_type      48797 non-null  object \n",
      " 11  case_location       43391 non-null  object \n",
      " 12  status              43391 non-null  object \n",
      " 13  country_iso_code    39 non-null     float64\n",
      " 14  country_name        39 non-null     object \n",
      " 15  recovered           44063 non-null  object \n",
      " 16  symptom_start_date  46622 non-null  object \n",
      " 17  death_date          23971 non-null  object \n",
      " 18  diagnosis_date      48770 non-null  object \n",
      " 19  recovery_date       25489 non-null  object \n",
      " 20  recovery_type       25482 non-null  object \n",
      " 21  ethnic_affiliation  48784 non-null  float64\n",
      " 22  ethnic_group_name   698 non-null    object \n",
      "dtypes: float64(2), int64(5), object(16)\n",
      "memory usage: 8.6+ MB\n"
     ]
    }
   ],
   "source": [
    "df.info()"
   ]
  },
  {
   "cell_type": "code",
   "execution_count": 8,
   "metadata": {},
   "outputs": [
    {
     "data": {
      "text/html": [
       "<div>\n",
       "<style scoped>\n",
       "    .dataframe tbody tr th:only-of-type {\n",
       "        vertical-align: middle;\n",
       "    }\n",
       "\n",
       "    .dataframe tbody tr th {\n",
       "        vertical-align: top;\n",
       "    }\n",
       "\n",
       "    .dataframe thead th {\n",
       "        text-align: right;\n",
       "    }\n",
       "</style>\n",
       "<table border=\"1\" class=\"dataframe\">\n",
       "  <thead>\n",
       "    <tr style=\"text-align: right;\">\n",
       "      <th></th>\n",
       "      <th>case_id</th>\n",
       "      <th>department_code</th>\n",
       "      <th>municipality_code</th>\n",
       "      <th>age</th>\n",
       "      <th>age_unit</th>\n",
       "      <th>country_iso_code</th>\n",
       "      <th>ethnic_affiliation</th>\n",
       "    </tr>\n",
       "  </thead>\n",
       "  <tbody>\n",
       "    <tr>\n",
       "      <th>count</th>\n",
       "      <td>4.879700e+04</td>\n",
       "      <td>48797.000000</td>\n",
       "      <td>48797.000000</td>\n",
       "      <td>48797.000000</td>\n",
       "      <td>48797.000000</td>\n",
       "      <td>39.000000</td>\n",
       "      <td>48784.000000</td>\n",
       "    </tr>\n",
       "    <tr>\n",
       "      <th>mean</th>\n",
       "      <td>3.063136e+06</td>\n",
       "      <td>1333.884399</td>\n",
       "      <td>30586.295018</td>\n",
       "      <td>53.571879</td>\n",
       "      <td>1.004427</td>\n",
       "      <td>567.743590</td>\n",
       "      <td>5.904866</td>\n",
       "    </tr>\n",
       "    <tr>\n",
       "      <th>std</th>\n",
       "      <td>1.880610e+06</td>\n",
       "      <td>6040.837648</td>\n",
       "      <td>26888.110392</td>\n",
       "      <td>22.675508</td>\n",
       "      <td>0.072012</td>\n",
       "      <td>334.770677</td>\n",
       "      <td>0.611432</td>\n",
       "    </tr>\n",
       "    <tr>\n",
       "      <th>min</th>\n",
       "      <td>1.140000e+02</td>\n",
       "      <td>5.000000</td>\n",
       "      <td>5001.000000</td>\n",
       "      <td>1.000000</td>\n",
       "      <td>1.000000</td>\n",
       "      <td>8.000000</td>\n",
       "      <td>1.000000</td>\n",
       "    </tr>\n",
       "    <tr>\n",
       "      <th>25%</th>\n",
       "      <td>1.445576e+06</td>\n",
       "      <td>11.000000</td>\n",
       "      <td>11001.000000</td>\n",
       "      <td>35.000000</td>\n",
       "      <td>1.000000</td>\n",
       "      <td>201.000000</td>\n",
       "      <td>6.000000</td>\n",
       "    </tr>\n",
       "    <tr>\n",
       "      <th>50%</th>\n",
       "      <td>2.963218e+06</td>\n",
       "      <td>20.000000</td>\n",
       "      <td>15001.000000</td>\n",
       "      <td>55.000000</td>\n",
       "      <td>1.000000</td>\n",
       "      <td>840.000000</td>\n",
       "      <td>6.000000</td>\n",
       "    </tr>\n",
       "    <tr>\n",
       "      <th>75%</th>\n",
       "      <td>4.664492e+06</td>\n",
       "      <td>68.000000</td>\n",
       "      <td>54001.000000</td>\n",
       "      <td>72.000000</td>\n",
       "      <td>1.000000</td>\n",
       "      <td>840.000000</td>\n",
       "      <td>6.000000</td>\n",
       "    </tr>\n",
       "    <tr>\n",
       "      <th>max</th>\n",
       "      <td>6.390842e+06</td>\n",
       "      <td>47001.000000</td>\n",
       "      <td>99773.000000</td>\n",
       "      <td>108.000000</td>\n",
       "      <td>3.000000</td>\n",
       "      <td>862.000000</td>\n",
       "      <td>6.000000</td>\n",
       "    </tr>\n",
       "  </tbody>\n",
       "</table>\n",
       "</div>"
      ],
      "text/plain": [
       "            case_id  department_code  municipality_code           age  \\\n",
       "count  4.879700e+04     48797.000000       48797.000000  48797.000000   \n",
       "mean   3.063136e+06      1333.884399       30586.295018     53.571879   \n",
       "std    1.880610e+06      6040.837648       26888.110392     22.675508   \n",
       "min    1.140000e+02         5.000000        5001.000000      1.000000   \n",
       "25%    1.445576e+06        11.000000       11001.000000     35.000000   \n",
       "50%    2.963218e+06        20.000000       15001.000000     55.000000   \n",
       "75%    4.664492e+06        68.000000       54001.000000     72.000000   \n",
       "max    6.390842e+06     47001.000000       99773.000000    108.000000   \n",
       "\n",
       "           age_unit  country_iso_code  ethnic_affiliation  \n",
       "count  48797.000000         39.000000        48784.000000  \n",
       "mean       1.004427        567.743590            5.904866  \n",
       "std        0.072012        334.770677            0.611432  \n",
       "min        1.000000          8.000000            1.000000  \n",
       "25%        1.000000        201.000000            6.000000  \n",
       "50%        1.000000        840.000000            6.000000  \n",
       "75%        1.000000        840.000000            6.000000  \n",
       "max        3.000000        862.000000            6.000000  "
      ]
     },
     "execution_count": 8,
     "metadata": {},
     "output_type": "execute_result"
    }
   ],
   "source": [
    "df.describe()"
   ]
  },
  {
   "cell_type": "markdown",
   "metadata": {},
   "source": [
    "### Detect issues that have to be fixed later during the pre-processing part"
   ]
  },
  {
   "cell_type": "markdown",
   "metadata": {},
   "source": [
    "#### Checking for missing values"
   ]
  },
  {
   "cell_type": "code",
   "execution_count": 9,
   "metadata": {},
   "outputs": [
    {
     "data": {
      "text/plain": [
       "report_date               0\n",
       "case_id                   0\n",
       "notification_date         0\n",
       "department_code           0\n",
       "department_name           0\n",
       "municipality_code         0\n",
       "municipality_name         0\n",
       "age                       0\n",
       "age_unit                  0\n",
       "gender                    0\n",
       "contagion_type            0\n",
       "case_location          5406\n",
       "status                 5406\n",
       "country_iso_code      48758\n",
       "country_name          48758\n",
       "recovered              4734\n",
       "symptom_start_date     2175\n",
       "death_date            24826\n",
       "diagnosis_date           27\n",
       "recovery_date         23308\n",
       "recovery_type         23315\n",
       "ethnic_affiliation       13\n",
       "ethnic_group_name     48099\n",
       "dtype: int64"
      ]
     },
     "execution_count": 9,
     "metadata": {},
     "output_type": "execute_result"
    }
   ],
   "source": [
    "df.isnull().sum()"
   ]
  },
  {
   "cell_type": "code",
   "execution_count": 10,
   "metadata": {},
   "outputs": [
    {
     "name": "stdout",
     "output_type": "stream",
     "text": [
      "Percentage of deaths: 49.123921552554464 %\n"
     ]
    }
   ],
   "source": [
    "print(f\"Percentage of deaths: {int(df[df['death_date'].notna()]['death_date'].count()) / int(df['case_id'].count()) * 100} %\")"
   ]
  },
  {
   "cell_type": "markdown",
   "metadata": {},
   "source": [
    "#### Visualize outliers"
   ]
  },
  {
   "cell_type": "code",
   "execution_count": 11,
   "metadata": {},
   "outputs": [
    {
     "data": {
      "image/png": "[encoded data removed]",
      "text/plain": [
       "<Figure size 640x480 with 1 Axes>"
      ]
     },
     "metadata": {},
     "output_type": "display_data"
    }
   ],
   "source": [
    "sns.boxplot(data=df, x='age')\n",
    "plt.show()"
   ]
  },
  {
   "cell_type": "markdown",
   "metadata": {},
   "source": [
    "#### Visualize distribution"
   ]
  },
  {
   "cell_type": "code",
   "execution_count": 13,
   "metadata": {},
   "outputs": [
    {
     "data": {
      "image/png": "[encoded data removed]",
      "text/plain": [
       "<Figure size 640x480 with 1 Axes>"
      ]
     },
     "metadata": {},
     "output_type": "display_data"
    }
   ],
   "source": [
    "sns.histplot(df['death_date'], kde=True)\n",
    "plt.show()"
   ]
  },
  {
   "cell_type": "markdown",
   "metadata": {},
   "source": [
    "#### Detect duplicated records"
   ]
  },
  {
   "cell_type": "code",
   "execution_count": 14,
   "metadata": {},
   "outputs": [
    {
     "name": "stdout",
     "output_type": "stream",
     "text": [
      "Number of duplicate rows: 0\n"
     ]
    }
   ],
   "source": [
    "duplicates = df.duplicated()\n",
    "print(f\"Number of duplicate rows: {duplicates.sum()}\")"
   ]
  },
  {
   "cell_type": "markdown",
   "metadata": {},
   "source": [
    "#### Correlation Analysis with correlation matrix"
   ]
  },
  {
   "cell_type": "code",
   "execution_count": 22,
   "metadata": {},
   "outputs": [
    {
     "data": {
      "image/png": "[encoded data removed]",
      "text/plain": [
       "<Figure size 1000x800 with 2 Axes>"
      ]
     },
     "metadata": {},
     "output_type": "display_data"
    }
   ],
   "source": [
    "correlation_matrix = df.corr()\n",
    "\n",
    "# Visualize correlations\n",
    "plt.figure(figsize=(10, 8))\n",
    "sns.heatmap(correlation_matrix, annot=True, cmap='coolwarm')\n",
    "plt.show()"
   ]
  },
  {
   "cell_type": "markdown",
   "metadata": {},
   "source": [
    "## 3. Data Pre-processing"
   ]
  },
  {
   "cell_type": "markdown",
   "metadata": {},
   "source": [
    "#### We can see that we have a lot of irrelevant data, missing values, class inbalancing, date columns to be replaced, categorical variables to be encoded, and so on.\n",
    "\n",
    "So let's clear our data..."
   ]
  },
  {
   "cell_type": "markdown",
   "metadata": {},
   "source": [
    "### Dropping/filling missing values"
   ]
  },
  {
   "cell_type": "markdown",
   "metadata": {},
   "source": [
    "df.dropna(axis=0, how='any', inplace=True)\n",
    "\n",
    "df.dropna(axis=1, how='all', inplace=True)\n",
    "\n",
    "### OR\n",
    "\n",
    "df['age'].fillna(df['age'].median(), inplace=True)\n",
    "\n",
    "and so on...\n"
   ]
  },
  {
   "cell_type": "markdown",
   "metadata": {},
   "source": [
    "### Transforming our Target Variable (death_date) to boolean values, and renaming it"
   ]
  },
  {
   "cell_type": "code",
   "execution_count": 16,
   "metadata": {},
   "outputs": [],
   "source": [
    "df['is_dead'] = df['death_date'].notna()\n",
    "df.drop(columns=['death_date'], inplace=True)"
   ]
  },
  {
   "cell_type": "markdown",
   "metadata": {},
   "source": [
    "### Converting date columns"
   ]
  },
  {
   "cell_type": "code",
   "execution_count": 17,
   "metadata": {},
   "outputs": [],
   "source": [
    "date_columns = [\"report_date\", \"notification_date\", \"symptom_start_date\", \"diagnosis_date\", \"recovery_date\"]\n",
    "for col in date_columns:\n",
    "    df[col] = pd.to_datetime(df[col], errors='coerce')"
   ]
  },
  {
   "cell_type": "markdown",
   "metadata": {},
   "source": [
    "### Encoding categorical variables"
   ]
  },
  {
   "cell_type": "code",
   "execution_count": 18,
   "metadata": {},
   "outputs": [],
   "source": [
    "df = pd.get_dummies(df, columns=[\"gender\", \"contagion_type\", \"status\", \"recovered\"], drop_first=False)"
   ]
  },
  {
   "cell_type": "markdown",
   "metadata": {},
   "source": [
    "### Filtering relevant features"
   ]
  },
  {
   "cell_type": "code",
   "execution_count": 19,
   "metadata": {},
   "outputs": [],
   "source": [
    "relevant_features = [\n",
    "    \"age\", \"gender_M\", \"gender_F\", \"contagion_type_Comunitaria\", \n",
    "    \"status_Leve\", \"status_Fallecido\", \"recovered_Recuperado\", \"is_dead\"\n",
    "]\n",
    "df = df[relevant_features]\n"
   ]
  },
  {
   "cell_type": "markdown",
   "metadata": {},
   "source": [
    "### Renaming columns"
   ]
  },
  {
   "cell_type": "code",
   "execution_count": 20,
   "metadata": {},
   "outputs": [],
   "source": [
    "column_mapping = {\n",
    "    \"contagion_type_Comunitaria\": \"contagion_type_Community\", \n",
    "    \"status_Leve\": \"status_Alive\",\n",
    "    \"status_Fallecido\": \"status_Dead\",\n",
    "    \"recovered_Recuperado\": \"recovered_Recovered\"\n",
    "}\n",
    "df.rename(columns=column_mapping, inplace=True)"
   ]
  },
  {
   "cell_type": "markdown",
   "metadata": {},
   "source": [
    "### Normalizing numeric features"
   ]
  },
  {
   "cell_type": "code",
   "execution_count": 21,
   "metadata": {},
   "outputs": [],
   "source": [
    "scaler = StandardScaler()\n",
    "df['age'] = scaler.fit_transform(df[['age']])"
   ]
  },
  {
   "cell_type": "code",
   "execution_count": null,
   "metadata": {},
   "outputs": [],
   "source": [
    "df.head()"
   ]
  },
  {
   "cell_type": "code",
   "execution_count": null,
   "metadata": {},
   "outputs": [],
   "source": []
  }
 ],
 "metadata": {
  "kernelspec": {
   "display_name": "Python 3",
   "language": "python",
   "name": "python3"
  },
  "language_info": {
   "codemirror_mode": {
    "name": "ipython",
    "version": 3
   },
   "file_extension": ".py",
   "mimetype": "text/x-python",
   "name": "python",
   "nbconvert_exporter": "python",
   "pygments_lexer": "ipython3",
   "version": "3.10.11"
  }
 },
 "nbformat": 4,
 "nbformat_minor": 2
}
