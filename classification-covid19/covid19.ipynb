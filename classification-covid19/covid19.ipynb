{
 "cells": [
  {
   "cell_type": "markdown",
   "metadata": {},
   "source": [
    "# Importing libraries"
   ]
  },
  {
   "cell_type": "code",
   "execution_count": 4,
   "metadata": {},
   "outputs": [],
   "source": [
    "import numpy as np\n",
    "import pandas as pd\n",
    "import matplotlib.pyplot as plt\n",
    "import seaborn as sns\n",
    "from sklearn.preprocessing import StandardScaler, LabelEncoder\n",
    "from sklearn.model_selection import train_test_split, GridSearchCV, cross_val_score\n",
    "from sklearn.neighbors import KNeighborsClassifier\n",
    "from sklearn.metrics import accuracy_score, precision_score, recall_score, f1_score, classification_report, confusion_matrix\n",
    "from sklearn.linear_model import LogisticRegression\n",
    "from sklearn.metrics import roc_auc_score, roc_curve"
   ]
  },
  {
   "cell_type": "markdown",
   "metadata": {},
   "source": [
    "# Death prediction in Colombia due to covid-19."
   ]
  },
  {
   "cell_type": "code",
   "execution_count": 5,
   "metadata": {},
   "outputs": [],
   "source": [
    "#df = pd.read_csv('Casos_positivos_de_COVID-19_en_Colombia._20241128.csv')"
   ]
  },
  {
   "cell_type": "markdown",
   "metadata": {},
   "source": [
    "## 1. Data Collection"
   ]
  },
  {
   "cell_type": "markdown",
   "metadata": {},
   "source": [
    "The dataset that we found is too big (more than 6.3M of records) and the features are written in spanish, which doesn't help us for cleaning it.\n",
    "\n",
    "We will then rename columns, and use a small sample (more precisely 1% of the original dataset) to export it to another file.\n",
    "\n",
    "Doing so, we will have readable input variables in english, and a file that will allow us to use less computing ressources."
   ]
  },
  {
   "cell_type": "markdown",
   "metadata": {},
   "source": [
    "### Renaming columns"
   ]
  },
  {
   "cell_type": "code",
   "execution_count": 6,
   "metadata": {},
   "outputs": [],
   "source": [
    "#column_mapping = {\n",
    "#\"fecha reporte web\": \"report_date\",\n",
    "#    \"ID de caso\": \"case_id\",\n",
    "#    \"Fecha de notificación\": \"notification_date\",\n",
    "#    \"Código DIVIPOLA departamento\": \"department_code\",\n",
    "#    \"Nombre departamento\": \"department_name\",\n",
    "#    \"Código DIVIPOLA municipio\": \"municipality_code\",\n",
    "#    \"Nombre municipio\": \"municipality_name\",\n",
    "#    \"Edad\": \"age\",\n",
    "#    \"Unidad de medida de edad\": \"age_unit\",\n",
    "#    \"Sexo\": \"gender\",\n",
    "#    \"Tipo de contagio\": \"contagion_type\",\n",
    "#    \"Ubicación del caso\": \"case_location\",\n",
    "#    \"Estado\": \"status\",\n",
    "#    \"Código ISO del país\": \"country_iso_code\",\n",
    "#    \"Nombre del país\": \"country_name\",\n",
    "#    \"Recuperado\": \"recovered\",\n",
    "#    \"Fecha de inicio de síntomas\": \"symptom_start_date\",\n",
    "#    \"Fecha de muerte\": \"death_date\",\n",
    "#    \"Fecha de diagnóstico\": \"diagnosis_date\",\n",
    "#    \"Fecha de recuperación\": \"recovery_date\",\n",
    "#    \"Tipo de recuperación\": \"recovery_type\",\n",
    "#    \"Pertenencia étnica\": \"ethnic_affiliation\",\n",
    "#    \"Nombre del grupo étnico\": \"ethnic_group_name\",\n",
    "#}\n",
    "#df.rename(columns=column_mapping, inplace=True)"
   ]
  },
  {
   "cell_type": "markdown",
   "metadata": {},
   "source": [
    "### Keeping 1% of dataset using Random Sampling Technique (from pandas library), and exporting it to another file"
   ]
  },
  {
   "cell_type": "code",
   "execution_count": 7,
   "metadata": {},
   "outputs": [],
   "source": [
    "#df_sample = df.sample(frac=0.01, random_state=42)"
   ]
  },
  {
   "cell_type": "code",
   "execution_count": 8,
   "metadata": {},
   "outputs": [],
   "source": [
    "#print(f\"Percentage of deaths: {int(df_sample[df_sample['death_date'].notna()]['death_date'].count()) / int(df_sample['case_id'].count()) * 100} %\")"
   ]
  },
  {
   "cell_type": "markdown",
   "metadata": {},
   "source": [
    "#### We notice that, we have a lot of class unbalancing, and then this sample doesn't suit us to build a model, so we are going to re-collect our data from the big dataset, in order to have as much records with death_date as without."
   ]
  },
  {
   "cell_type": "markdown",
   "metadata": {},
   "source": [
    "### Sampling the dataset in 2 sub-samples (no-death, & death), and combining them"
   ]
  },
  {
   "cell_type": "code",
   "execution_count": 9,
   "metadata": {},
   "outputs": [],
   "source": [
    "#df_no_death = df[df['death_date'].isna()]\n",
    "#df_no_death_sample = df_no_death.sample(frac=0.004, random_state=42)"
   ]
  },
  {
   "cell_type": "code",
   "execution_count": 10,
   "metadata": {},
   "outputs": [],
   "source": [
    "#df_death = df[df['death_date'].notna()]\n",
    "#df_death_sample = df_death.sample(frac=0.13, random_state=42)"
   ]
  },
  {
   "cell_type": "code",
   "execution_count": 11,
   "metadata": {},
   "outputs": [],
   "source": [
    "#df_final_sample = pd.concat([df_no_death_sample, df_death_sample])\n",
    "#df_final_sample = df_final_sample.sample(frac=1, random_state=42).reset_index(drop=True)"
   ]
  },
  {
   "cell_type": "code",
   "execution_count": 12,
   "metadata": {},
   "outputs": [],
   "source": [
    "#df_final_sample.to_csv('covid19_sample.csv', index=False)"
   ]
  },
  {
   "cell_type": "code",
   "execution_count": 13,
   "metadata": {},
   "outputs": [],
   "source": [
    "#print(f\"Percentage of deaths: {int(df_final_sample[df_final_sample['death_date'].notna()]['death_date'].count()) / int(df_final_sample['case_id'].count()) * 100} %\")"
   ]
  },
  {
   "cell_type": "markdown",
   "metadata": {},
   "source": [
    "## 2. Data Understanding"
   ]
  },
  {
   "cell_type": "markdown",
   "metadata": {},
   "source": [
    "### Loading the sample that we exported previously"
   ]
  },
  {
   "cell_type": "code",
   "execution_count": 14,
   "metadata": {},
   "outputs": [],
   "source": [
    "df = pd.read_csv('covid19_sample.csv')"
   ]
  },
  {
   "cell_type": "markdown",
   "metadata": {},
   "source": [
    "### Displaying the dataframe with additional info"
   ]
  },
  {
   "cell_type": "code",
   "execution_count": 15,
   "metadata": {},
   "outputs": [
    {
     "data": {
      "text/plain": [
       "(48797, 23)"
      ]
     },
     "execution_count": 15,
     "metadata": {},
     "output_type": "execute_result"
    }
   ],
   "source": [
    "df.shape"
   ]
  },
  {
   "cell_type": "code",
   "execution_count": 16,
   "metadata": {},
   "outputs": [
    {
     "data": {
      "text/html": [
       "<div>\n",
       "<style scoped>\n",
       "    .dataframe tbody tr th:only-of-type {\n",
       "        vertical-align: middle;\n",
       "    }\n",
       "\n",
       "    .dataframe tbody tr th {\n",
       "        vertical-align: top;\n",
       "    }\n",
       "\n",
       "    .dataframe thead th {\n",
       "        text-align: right;\n",
       "    }\n",
       "</style>\n",
       "<table border=\"1\" class=\"dataframe\">\n",
       "  <thead>\n",
       "    <tr style=\"text-align: right;\">\n",
       "      <th></th>\n",
       "      <th>report_date</th>\n",
       "      <th>case_id</th>\n",
       "      <th>notification_date</th>\n",
       "      <th>department_code</th>\n",
       "      <th>department_name</th>\n",
       "      <th>municipality_code</th>\n",
       "      <th>municipality_name</th>\n",
       "      <th>age</th>\n",
       "      <th>age_unit</th>\n",
       "      <th>gender</th>\n",
       "      <th>...</th>\n",
       "      <th>country_iso_code</th>\n",
       "      <th>country_name</th>\n",
       "      <th>recovered</th>\n",
       "      <th>symptom_start_date</th>\n",
       "      <th>death_date</th>\n",
       "      <th>diagnosis_date</th>\n",
       "      <th>recovery_date</th>\n",
       "      <th>recovery_type</th>\n",
       "      <th>ethnic_affiliation</th>\n",
       "      <th>ethnic_group_name</th>\n",
       "    </tr>\n",
       "  </thead>\n",
       "  <tbody>\n",
       "    <tr>\n",
       "      <th>0</th>\n",
       "      <td>2021-05-27 00:00:00</td>\n",
       "      <td>3303012</td>\n",
       "      <td>2021-05-25 00:00:00</td>\n",
       "      <td>76</td>\n",
       "      <td>VALLE</td>\n",
       "      <td>76318</td>\n",
       "      <td>GUACARI</td>\n",
       "      <td>60</td>\n",
       "      <td>1</td>\n",
       "      <td>F</td>\n",
       "      <td>...</td>\n",
       "      <td>NaN</td>\n",
       "      <td>NaN</td>\n",
       "      <td>Recuperado</td>\n",
       "      <td>2021-05-17 00:00:00</td>\n",
       "      <td>NaN</td>\n",
       "      <td>2021-05-26 00:00:00</td>\n",
       "      <td>2021-06-01 00:00:00</td>\n",
       "      <td>Tiempo</td>\n",
       "      <td>6.0</td>\n",
       "      <td>NaN</td>\n",
       "    </tr>\n",
       "    <tr>\n",
       "      <th>1</th>\n",
       "      <td>2020-10-12 00:00:00</td>\n",
       "      <td>912103</td>\n",
       "      <td>2020-10-05 00:00:00</td>\n",
       "      <td>68</td>\n",
       "      <td>SANTANDER</td>\n",
       "      <td>68081</td>\n",
       "      <td>BARRANCABERMEJA</td>\n",
       "      <td>86</td>\n",
       "      <td>1</td>\n",
       "      <td>M</td>\n",
       "      <td>...</td>\n",
       "      <td>NaN</td>\n",
       "      <td>NaN</td>\n",
       "      <td>NaN</td>\n",
       "      <td>2020-09-29 00:00:00</td>\n",
       "      <td>2021-02-12 00:00:00</td>\n",
       "      <td>2020-10-11 00:00:00</td>\n",
       "      <td>NaN</td>\n",
       "      <td>NaN</td>\n",
       "      <td>6.0</td>\n",
       "      <td>NaN</td>\n",
       "    </tr>\n",
       "    <tr>\n",
       "      <th>2</th>\n",
       "      <td>2021-03-31 00:00:00</td>\n",
       "      <td>2397852</td>\n",
       "      <td>2021-03-18 00:00:00</td>\n",
       "      <td>8</td>\n",
       "      <td>ATLANTICO</td>\n",
       "      <td>8758</td>\n",
       "      <td>SOLEDAD</td>\n",
       "      <td>40</td>\n",
       "      <td>1</td>\n",
       "      <td>F</td>\n",
       "      <td>...</td>\n",
       "      <td>NaN</td>\n",
       "      <td>NaN</td>\n",
       "      <td>Recuperado</td>\n",
       "      <td>2021-03-16 00:00:00</td>\n",
       "      <td>NaN</td>\n",
       "      <td>2021-03-29 00:00:00</td>\n",
       "      <td>2021-04-01 00:00:00</td>\n",
       "      <td>Tiempo</td>\n",
       "      <td>6.0</td>\n",
       "      <td>NaN</td>\n",
       "    </tr>\n",
       "    <tr>\n",
       "      <th>3</th>\n",
       "      <td>2021-05-25 00:00:00</td>\n",
       "      <td>3264190</td>\n",
       "      <td>2021-05-21 00:00:00</td>\n",
       "      <td>11</td>\n",
       "      <td>BOGOTA</td>\n",
       "      <td>11001</td>\n",
       "      <td>BOGOTA</td>\n",
       "      <td>35</td>\n",
       "      <td>1</td>\n",
       "      <td>M</td>\n",
       "      <td>...</td>\n",
       "      <td>NaN</td>\n",
       "      <td>NaN</td>\n",
       "      <td>Recuperado</td>\n",
       "      <td>NaN</td>\n",
       "      <td>NaN</td>\n",
       "      <td>2021-05-22 00:00:00</td>\n",
       "      <td>2021-06-04 00:00:00</td>\n",
       "      <td>Tiempo</td>\n",
       "      <td>6.0</td>\n",
       "      <td>NaN</td>\n",
       "    </tr>\n",
       "    <tr>\n",
       "      <th>4</th>\n",
       "      <td>2022-02-07 00:00:00</td>\n",
       "      <td>5974914</td>\n",
       "      <td>2022-01-23 00:00:00</td>\n",
       "      <td>44</td>\n",
       "      <td>GUAJIRA</td>\n",
       "      <td>44001</td>\n",
       "      <td>RIOHACHA</td>\n",
       "      <td>18</td>\n",
       "      <td>1</td>\n",
       "      <td>F</td>\n",
       "      <td>...</td>\n",
       "      <td>NaN</td>\n",
       "      <td>NaN</td>\n",
       "      <td>Recuperado</td>\n",
       "      <td>2022-01-19 00:00:00</td>\n",
       "      <td>NaN</td>\n",
       "      <td>2022-02-03 00:00:00</td>\n",
       "      <td>2022-02-08 00:00:00</td>\n",
       "      <td>Tiempo</td>\n",
       "      <td>6.0</td>\n",
       "      <td>NaN</td>\n",
       "    </tr>\n",
       "    <tr>\n",
       "      <th>...</th>\n",
       "      <td>...</td>\n",
       "      <td>...</td>\n",
       "      <td>...</td>\n",
       "      <td>...</td>\n",
       "      <td>...</td>\n",
       "      <td>...</td>\n",
       "      <td>...</td>\n",
       "      <td>...</td>\n",
       "      <td>...</td>\n",
       "      <td>...</td>\n",
       "      <td>...</td>\n",
       "      <td>...</td>\n",
       "      <td>...</td>\n",
       "      <td>...</td>\n",
       "      <td>...</td>\n",
       "      <td>...</td>\n",
       "      <td>...</td>\n",
       "      <td>...</td>\n",
       "      <td>...</td>\n",
       "      <td>...</td>\n",
       "      <td>...</td>\n",
       "    </tr>\n",
       "    <tr>\n",
       "      <th>48792</th>\n",
       "      <td>2021-05-26 00:00:00</td>\n",
       "      <td>3282457</td>\n",
       "      <td>2021-05-23 00:00:00</td>\n",
       "      <td>76</td>\n",
       "      <td>VALLE</td>\n",
       "      <td>76001</td>\n",
       "      <td>CALI</td>\n",
       "      <td>66</td>\n",
       "      <td>1</td>\n",
       "      <td>F</td>\n",
       "      <td>...</td>\n",
       "      <td>NaN</td>\n",
       "      <td>NaN</td>\n",
       "      <td>Recuperado</td>\n",
       "      <td>2021-05-14 00:00:00</td>\n",
       "      <td>NaN</td>\n",
       "      <td>2021-05-26 00:00:00</td>\n",
       "      <td>2021-05-28 00:00:00</td>\n",
       "      <td>Tiempo</td>\n",
       "      <td>6.0</td>\n",
       "      <td>NaN</td>\n",
       "    </tr>\n",
       "    <tr>\n",
       "      <th>48793</th>\n",
       "      <td>2020-09-25 00:00:00</td>\n",
       "      <td>791713</td>\n",
       "      <td>2020-09-23 00:00:00</td>\n",
       "      <td>76</td>\n",
       "      <td>VALLE</td>\n",
       "      <td>76520</td>\n",
       "      <td>PALMIRA</td>\n",
       "      <td>67</td>\n",
       "      <td>1</td>\n",
       "      <td>M</td>\n",
       "      <td>...</td>\n",
       "      <td>NaN</td>\n",
       "      <td>NaN</td>\n",
       "      <td>Fallecido</td>\n",
       "      <td>2020-09-21 00:00:00</td>\n",
       "      <td>2020-09-28 00:00:00</td>\n",
       "      <td>2020-09-23 00:00:00</td>\n",
       "      <td>NaN</td>\n",
       "      <td>NaN</td>\n",
       "      <td>6.0</td>\n",
       "      <td>NaN</td>\n",
       "    </tr>\n",
       "    <tr>\n",
       "      <th>48794</th>\n",
       "      <td>2021-07-13 00:00:00</td>\n",
       "      <td>4542060</td>\n",
       "      <td>2021-07-08 00:00:00</td>\n",
       "      <td>11</td>\n",
       "      <td>BOGOTA</td>\n",
       "      <td>11001</td>\n",
       "      <td>BOGOTA</td>\n",
       "      <td>23</td>\n",
       "      <td>1</td>\n",
       "      <td>M</td>\n",
       "      <td>...</td>\n",
       "      <td>NaN</td>\n",
       "      <td>NaN</td>\n",
       "      <td>NaN</td>\n",
       "      <td>2021-07-04 00:00:00</td>\n",
       "      <td>2021-10-14 00:00:00</td>\n",
       "      <td>2021-07-12 00:00:00</td>\n",
       "      <td>NaN</td>\n",
       "      <td>NaN</td>\n",
       "      <td>6.0</td>\n",
       "      <td>NaN</td>\n",
       "    </tr>\n",
       "    <tr>\n",
       "      <th>48795</th>\n",
       "      <td>2021-06-12 00:00:00</td>\n",
       "      <td>3714232</td>\n",
       "      <td>2021-06-03 00:00:00</td>\n",
       "      <td>11</td>\n",
       "      <td>BOGOTA</td>\n",
       "      <td>11001</td>\n",
       "      <td>BOGOTA</td>\n",
       "      <td>19</td>\n",
       "      <td>1</td>\n",
       "      <td>M</td>\n",
       "      <td>...</td>\n",
       "      <td>NaN</td>\n",
       "      <td>NaN</td>\n",
       "      <td>Recuperado</td>\n",
       "      <td>NaN</td>\n",
       "      <td>NaN</td>\n",
       "      <td>2021-06-04 00:00:00</td>\n",
       "      <td>2021-06-17 00:00:00</td>\n",
       "      <td>Tiempo</td>\n",
       "      <td>6.0</td>\n",
       "      <td>NaN</td>\n",
       "    </tr>\n",
       "    <tr>\n",
       "      <th>48796</th>\n",
       "      <td>2021-06-01 00:00:00</td>\n",
       "      <td>3421855</td>\n",
       "      <td>2021-05-27 00:00:00</td>\n",
       "      <td>76</td>\n",
       "      <td>VALLE</td>\n",
       "      <td>76001</td>\n",
       "      <td>CALI</td>\n",
       "      <td>46</td>\n",
       "      <td>1</td>\n",
       "      <td>F</td>\n",
       "      <td>...</td>\n",
       "      <td>NaN</td>\n",
       "      <td>NaN</td>\n",
       "      <td>Recuperado</td>\n",
       "      <td>2021-05-24 00:00:00</td>\n",
       "      <td>NaN</td>\n",
       "      <td>2021-05-27 00:00:00</td>\n",
       "      <td>2021-06-07 00:00:00</td>\n",
       "      <td>Tiempo</td>\n",
       "      <td>6.0</td>\n",
       "      <td>NaN</td>\n",
       "    </tr>\n",
       "  </tbody>\n",
       "</table>\n",
       "<p>48797 rows × 23 columns</p>\n",
       "</div>"
      ],
      "text/plain": [
       "               report_date  case_id    notification_date  department_code  \\\n",
       "0      2021-05-27 00:00:00  3303012  2021-05-25 00:00:00               76   \n",
       "1      2020-10-12 00:00:00   912103  2020-10-05 00:00:00               68   \n",
       "2      2021-03-31 00:00:00  2397852  2021-03-18 00:00:00                8   \n",
       "3      2021-05-25 00:00:00  3264190  2021-05-21 00:00:00               11   \n",
       "4      2022-02-07 00:00:00  5974914  2022-01-23 00:00:00               44   \n",
       "...                    ...      ...                  ...              ...   \n",
       "48792  2021-05-26 00:00:00  3282457  2021-05-23 00:00:00               76   \n",
       "48793  2020-09-25 00:00:00   791713  2020-09-23 00:00:00               76   \n",
       "48794  2021-07-13 00:00:00  4542060  2021-07-08 00:00:00               11   \n",
       "48795  2021-06-12 00:00:00  3714232  2021-06-03 00:00:00               11   \n",
       "48796  2021-06-01 00:00:00  3421855  2021-05-27 00:00:00               76   \n",
       "\n",
       "      department_name  municipality_code municipality_name  age  age_unit  \\\n",
       "0               VALLE              76318           GUACARI   60         1   \n",
       "1           SANTANDER              68081   BARRANCABERMEJA   86         1   \n",
       "2           ATLANTICO               8758           SOLEDAD   40         1   \n",
       "3              BOGOTA              11001            BOGOTA   35         1   \n",
       "4             GUAJIRA              44001          RIOHACHA   18         1   \n",
       "...               ...                ...               ...  ...       ...   \n",
       "48792           VALLE              76001              CALI   66         1   \n",
       "48793           VALLE              76520           PALMIRA   67         1   \n",
       "48794          BOGOTA              11001            BOGOTA   23         1   \n",
       "48795          BOGOTA              11001            BOGOTA   19         1   \n",
       "48796           VALLE              76001              CALI   46         1   \n",
       "\n",
       "      gender  ... country_iso_code country_name   recovered  \\\n",
       "0          F  ...              NaN          NaN  Recuperado   \n",
       "1          M  ...              NaN          NaN         NaN   \n",
       "2          F  ...              NaN          NaN  Recuperado   \n",
       "3          M  ...              NaN          NaN  Recuperado   \n",
       "4          F  ...              NaN          NaN  Recuperado   \n",
       "...      ...  ...              ...          ...         ...   \n",
       "48792      F  ...              NaN          NaN  Recuperado   \n",
       "48793      M  ...              NaN          NaN   Fallecido   \n",
       "48794      M  ...              NaN          NaN         NaN   \n",
       "48795      M  ...              NaN          NaN  Recuperado   \n",
       "48796      F  ...              NaN          NaN  Recuperado   \n",
       "\n",
       "        symptom_start_date           death_date       diagnosis_date  \\\n",
       "0      2021-05-17 00:00:00                  NaN  2021-05-26 00:00:00   \n",
       "1      2020-09-29 00:00:00  2021-02-12 00:00:00  2020-10-11 00:00:00   \n",
       "2      2021-03-16 00:00:00                  NaN  2021-03-29 00:00:00   \n",
       "3                      NaN                  NaN  2021-05-22 00:00:00   \n",
       "4      2022-01-19 00:00:00                  NaN  2022-02-03 00:00:00   \n",
       "...                    ...                  ...                  ...   \n",
       "48792  2021-05-14 00:00:00                  NaN  2021-05-26 00:00:00   \n",
       "48793  2020-09-21 00:00:00  2020-09-28 00:00:00  2020-09-23 00:00:00   \n",
       "48794  2021-07-04 00:00:00  2021-10-14 00:00:00  2021-07-12 00:00:00   \n",
       "48795                  NaN                  NaN  2021-06-04 00:00:00   \n",
       "48796  2021-05-24 00:00:00                  NaN  2021-05-27 00:00:00   \n",
       "\n",
       "             recovery_date recovery_type ethnic_affiliation ethnic_group_name  \n",
       "0      2021-06-01 00:00:00        Tiempo                6.0               NaN  \n",
       "1                      NaN           NaN                6.0               NaN  \n",
       "2      2021-04-01 00:00:00        Tiempo                6.0               NaN  \n",
       "3      2021-06-04 00:00:00        Tiempo                6.0               NaN  \n",
       "4      2022-02-08 00:00:00        Tiempo                6.0               NaN  \n",
       "...                    ...           ...                ...               ...  \n",
       "48792  2021-05-28 00:00:00        Tiempo                6.0               NaN  \n",
       "48793                  NaN           NaN                6.0               NaN  \n",
       "48794                  NaN           NaN                6.0               NaN  \n",
       "48795  2021-06-17 00:00:00        Tiempo                6.0               NaN  \n",
       "48796  2021-06-07 00:00:00        Tiempo                6.0               NaN  \n",
       "\n",
       "[48797 rows x 23 columns]"
      ]
     },
     "execution_count": 16,
     "metadata": {},
     "output_type": "execute_result"
    }
   ],
   "source": [
    "df"
   ]
  },
  {
   "cell_type": "code",
   "execution_count": 17,
   "metadata": {},
   "outputs": [
    {
     "data": {
      "text/html": [
       "<div>\n",
       "<style scoped>\n",
       "    .dataframe tbody tr th:only-of-type {\n",
       "        vertical-align: middle;\n",
       "    }\n",
       "\n",
       "    .dataframe tbody tr th {\n",
       "        vertical-align: top;\n",
       "    }\n",
       "\n",
       "    .dataframe thead th {\n",
       "        text-align: right;\n",
       "    }\n",
       "</style>\n",
       "<table border=\"1\" class=\"dataframe\">\n",
       "  <thead>\n",
       "    <tr style=\"text-align: right;\">\n",
       "      <th></th>\n",
       "      <th>report_date</th>\n",
       "      <th>case_id</th>\n",
       "      <th>notification_date</th>\n",
       "      <th>department_code</th>\n",
       "      <th>department_name</th>\n",
       "      <th>municipality_code</th>\n",
       "      <th>municipality_name</th>\n",
       "      <th>age</th>\n",
       "      <th>age_unit</th>\n",
       "      <th>gender</th>\n",
       "      <th>...</th>\n",
       "      <th>country_iso_code</th>\n",
       "      <th>country_name</th>\n",
       "      <th>recovered</th>\n",
       "      <th>symptom_start_date</th>\n",
       "      <th>death_date</th>\n",
       "      <th>diagnosis_date</th>\n",
       "      <th>recovery_date</th>\n",
       "      <th>recovery_type</th>\n",
       "      <th>ethnic_affiliation</th>\n",
       "      <th>ethnic_group_name</th>\n",
       "    </tr>\n",
       "  </thead>\n",
       "  <tbody>\n",
       "    <tr>\n",
       "      <th>0</th>\n",
       "      <td>2021-05-27 00:00:00</td>\n",
       "      <td>3303012</td>\n",
       "      <td>2021-05-25 00:00:00</td>\n",
       "      <td>76</td>\n",
       "      <td>VALLE</td>\n",
       "      <td>76318</td>\n",
       "      <td>GUACARI</td>\n",
       "      <td>60</td>\n",
       "      <td>1</td>\n",
       "      <td>F</td>\n",
       "      <td>...</td>\n",
       "      <td>NaN</td>\n",
       "      <td>NaN</td>\n",
       "      <td>Recuperado</td>\n",
       "      <td>2021-05-17 00:00:00</td>\n",
       "      <td>NaN</td>\n",
       "      <td>2021-05-26 00:00:00</td>\n",
       "      <td>2021-06-01 00:00:00</td>\n",
       "      <td>Tiempo</td>\n",
       "      <td>6.0</td>\n",
       "      <td>NaN</td>\n",
       "    </tr>\n",
       "    <tr>\n",
       "      <th>1</th>\n",
       "      <td>2020-10-12 00:00:00</td>\n",
       "      <td>912103</td>\n",
       "      <td>2020-10-05 00:00:00</td>\n",
       "      <td>68</td>\n",
       "      <td>SANTANDER</td>\n",
       "      <td>68081</td>\n",
       "      <td>BARRANCABERMEJA</td>\n",
       "      <td>86</td>\n",
       "      <td>1</td>\n",
       "      <td>M</td>\n",
       "      <td>...</td>\n",
       "      <td>NaN</td>\n",
       "      <td>NaN</td>\n",
       "      <td>NaN</td>\n",
       "      <td>2020-09-29 00:00:00</td>\n",
       "      <td>2021-02-12 00:00:00</td>\n",
       "      <td>2020-10-11 00:00:00</td>\n",
       "      <td>NaN</td>\n",
       "      <td>NaN</td>\n",
       "      <td>6.0</td>\n",
       "      <td>NaN</td>\n",
       "    </tr>\n",
       "    <tr>\n",
       "      <th>2</th>\n",
       "      <td>2021-03-31 00:00:00</td>\n",
       "      <td>2397852</td>\n",
       "      <td>2021-03-18 00:00:00</td>\n",
       "      <td>8</td>\n",
       "      <td>ATLANTICO</td>\n",
       "      <td>8758</td>\n",
       "      <td>SOLEDAD</td>\n",
       "      <td>40</td>\n",
       "      <td>1</td>\n",
       "      <td>F</td>\n",
       "      <td>...</td>\n",
       "      <td>NaN</td>\n",
       "      <td>NaN</td>\n",
       "      <td>Recuperado</td>\n",
       "      <td>2021-03-16 00:00:00</td>\n",
       "      <td>NaN</td>\n",
       "      <td>2021-03-29 00:00:00</td>\n",
       "      <td>2021-04-01 00:00:00</td>\n",
       "      <td>Tiempo</td>\n",
       "      <td>6.0</td>\n",
       "      <td>NaN</td>\n",
       "    </tr>\n",
       "    <tr>\n",
       "      <th>3</th>\n",
       "      <td>2021-05-25 00:00:00</td>\n",
       "      <td>3264190</td>\n",
       "      <td>2021-05-21 00:00:00</td>\n",
       "      <td>11</td>\n",
       "      <td>BOGOTA</td>\n",
       "      <td>11001</td>\n",
       "      <td>BOGOTA</td>\n",
       "      <td>35</td>\n",
       "      <td>1</td>\n",
       "      <td>M</td>\n",
       "      <td>...</td>\n",
       "      <td>NaN</td>\n",
       "      <td>NaN</td>\n",
       "      <td>Recuperado</td>\n",
       "      <td>NaN</td>\n",
       "      <td>NaN</td>\n",
       "      <td>2021-05-22 00:00:00</td>\n",
       "      <td>2021-06-04 00:00:00</td>\n",
       "      <td>Tiempo</td>\n",
       "      <td>6.0</td>\n",
       "      <td>NaN</td>\n",
       "    </tr>\n",
       "    <tr>\n",
       "      <th>4</th>\n",
       "      <td>2022-02-07 00:00:00</td>\n",
       "      <td>5974914</td>\n",
       "      <td>2022-01-23 00:00:00</td>\n",
       "      <td>44</td>\n",
       "      <td>GUAJIRA</td>\n",
       "      <td>44001</td>\n",
       "      <td>RIOHACHA</td>\n",
       "      <td>18</td>\n",
       "      <td>1</td>\n",
       "      <td>F</td>\n",
       "      <td>...</td>\n",
       "      <td>NaN</td>\n",
       "      <td>NaN</td>\n",
       "      <td>Recuperado</td>\n",
       "      <td>2022-01-19 00:00:00</td>\n",
       "      <td>NaN</td>\n",
       "      <td>2022-02-03 00:00:00</td>\n",
       "      <td>2022-02-08 00:00:00</td>\n",
       "      <td>Tiempo</td>\n",
       "      <td>6.0</td>\n",
       "      <td>NaN</td>\n",
       "    </tr>\n",
       "  </tbody>\n",
       "</table>\n",
       "<p>5 rows × 23 columns</p>\n",
       "</div>"
      ],
      "text/plain": [
       "           report_date  case_id    notification_date  department_code  \\\n",
       "0  2021-05-27 00:00:00  3303012  2021-05-25 00:00:00               76   \n",
       "1  2020-10-12 00:00:00   912103  2020-10-05 00:00:00               68   \n",
       "2  2021-03-31 00:00:00  2397852  2021-03-18 00:00:00                8   \n",
       "3  2021-05-25 00:00:00  3264190  2021-05-21 00:00:00               11   \n",
       "4  2022-02-07 00:00:00  5974914  2022-01-23 00:00:00               44   \n",
       "\n",
       "  department_name  municipality_code municipality_name  age  age_unit gender  \\\n",
       "0           VALLE              76318           GUACARI   60         1      F   \n",
       "1       SANTANDER              68081   BARRANCABERMEJA   86         1      M   \n",
       "2       ATLANTICO               8758           SOLEDAD   40         1      F   \n",
       "3          BOGOTA              11001            BOGOTA   35         1      M   \n",
       "4         GUAJIRA              44001          RIOHACHA   18         1      F   \n",
       "\n",
       "   ... country_iso_code country_name   recovered   symptom_start_date  \\\n",
       "0  ...              NaN          NaN  Recuperado  2021-05-17 00:00:00   \n",
       "1  ...              NaN          NaN         NaN  2020-09-29 00:00:00   \n",
       "2  ...              NaN          NaN  Recuperado  2021-03-16 00:00:00   \n",
       "3  ...              NaN          NaN  Recuperado                  NaN   \n",
       "4  ...              NaN          NaN  Recuperado  2022-01-19 00:00:00   \n",
       "\n",
       "            death_date       diagnosis_date        recovery_date  \\\n",
       "0                  NaN  2021-05-26 00:00:00  2021-06-01 00:00:00   \n",
       "1  2021-02-12 00:00:00  2020-10-11 00:00:00                  NaN   \n",
       "2                  NaN  2021-03-29 00:00:00  2021-04-01 00:00:00   \n",
       "3                  NaN  2021-05-22 00:00:00  2021-06-04 00:00:00   \n",
       "4                  NaN  2022-02-03 00:00:00  2022-02-08 00:00:00   \n",
       "\n",
       "  recovery_type ethnic_affiliation ethnic_group_name  \n",
       "0        Tiempo                6.0               NaN  \n",
       "1           NaN                6.0               NaN  \n",
       "2        Tiempo                6.0               NaN  \n",
       "3        Tiempo                6.0               NaN  \n",
       "4        Tiempo                6.0               NaN  \n",
       "\n",
       "[5 rows x 23 columns]"
      ]
     },
     "execution_count": 17,
     "metadata": {},
     "output_type": "execute_result"
    }
   ],
   "source": [
    "df.head()"
   ]
  },
  {
   "cell_type": "code",
   "execution_count": 18,
   "metadata": {},
   "outputs": [
    {
     "name": "stdout",
     "output_type": "stream",
     "text": [
      "<class 'pandas.core.frame.DataFrame'>\n",
      "RangeIndex: 48797 entries, 0 to 48796\n",
      "Data columns (total 23 columns):\n",
      " #   Column              Non-Null Count  Dtype  \n",
      "---  ------              --------------  -----  \n",
      " 0   report_date         48797 non-null  object \n",
      " 1   case_id             48797 non-null  int64  \n",
      " 2   notification_date   48797 non-null  object \n",
      " 3   department_code     48797 non-null  int64  \n",
      " 4   department_name     48797 non-null  object \n",
      " 5   municipality_code   48797 non-null  int64  \n",
      " 6   municipality_name   48797 non-null  object \n",
      " 7   age                 48797 non-null  int64  \n",
      " 8   age_unit            48797 non-null  int64  \n",
      " 9   gender              48797 non-null  object \n",
      " 10  contagion_type      48797 non-null  object \n",
      " 11  case_location       43391 non-null  object \n",
      " 12  status              43391 non-null  object \n",
      " 13  country_iso_code    39 non-null     float64\n",
      " 14  country_name        39 non-null     object \n",
      " 15  recovered           44063 non-null  object \n",
      " 16  symptom_start_date  46622 non-null  object \n",
      " 17  death_date          23971 non-null  object \n",
      " 18  diagnosis_date      48770 non-null  object \n",
      " 19  recovery_date       25489 non-null  object \n",
      " 20  recovery_type       25482 non-null  object \n",
      " 21  ethnic_affiliation  48784 non-null  float64\n",
      " 22  ethnic_group_name   698 non-null    object \n",
      "dtypes: float64(2), int64(5), object(16)\n",
      "memory usage: 8.6+ MB\n"
     ]
    }
   ],
   "source": [
    "df.info()"
   ]
  },
  {
   "cell_type": "code",
   "execution_count": 19,
   "metadata": {},
   "outputs": [
    {
     "data": {
      "text/html": [
       "<div>\n",
       "<style scoped>\n",
       "    .dataframe tbody tr th:only-of-type {\n",
       "        vertical-align: middle;\n",
       "    }\n",
       "\n",
       "    .dataframe tbody tr th {\n",
       "        vertical-align: top;\n",
       "    }\n",
       "\n",
       "    .dataframe thead th {\n",
       "        text-align: right;\n",
       "    }\n",
       "</style>\n",
       "<table border=\"1\" class=\"dataframe\">\n",
       "  <thead>\n",
       "    <tr style=\"text-align: right;\">\n",
       "      <th></th>\n",
       "      <th>case_id</th>\n",
       "      <th>department_code</th>\n",
       "      <th>municipality_code</th>\n",
       "      <th>age</th>\n",
       "      <th>age_unit</th>\n",
       "      <th>country_iso_code</th>\n",
       "      <th>ethnic_affiliation</th>\n",
       "    </tr>\n",
       "  </thead>\n",
       "  <tbody>\n",
       "    <tr>\n",
       "      <th>count</th>\n",
       "      <td>4.879700e+04</td>\n",
       "      <td>48797.000000</td>\n",
       "      <td>48797.000000</td>\n",
       "      <td>48797.000000</td>\n",
       "      <td>48797.000000</td>\n",
       "      <td>39.000000</td>\n",
       "      <td>48784.000000</td>\n",
       "    </tr>\n",
       "    <tr>\n",
       "      <th>mean</th>\n",
       "      <td>3.063136e+06</td>\n",
       "      <td>1333.884399</td>\n",
       "      <td>30586.295018</td>\n",
       "      <td>53.571879</td>\n",
       "      <td>1.004427</td>\n",
       "      <td>567.743590</td>\n",
       "      <td>5.904866</td>\n",
       "    </tr>\n",
       "    <tr>\n",
       "      <th>std</th>\n",
       "      <td>1.880610e+06</td>\n",
       "      <td>6040.837648</td>\n",
       "      <td>26888.110392</td>\n",
       "      <td>22.675508</td>\n",
       "      <td>0.072012</td>\n",
       "      <td>334.770677</td>\n",
       "      <td>0.611432</td>\n",
       "    </tr>\n",
       "    <tr>\n",
       "      <th>min</th>\n",
       "      <td>1.140000e+02</td>\n",
       "      <td>5.000000</td>\n",
       "      <td>5001.000000</td>\n",
       "      <td>1.000000</td>\n",
       "      <td>1.000000</td>\n",
       "      <td>8.000000</td>\n",
       "      <td>1.000000</td>\n",
       "    </tr>\n",
       "    <tr>\n",
       "      <th>25%</th>\n",
       "      <td>1.445576e+06</td>\n",
       "      <td>11.000000</td>\n",
       "      <td>11001.000000</td>\n",
       "      <td>35.000000</td>\n",
       "      <td>1.000000</td>\n",
       "      <td>201.000000</td>\n",
       "      <td>6.000000</td>\n",
       "    </tr>\n",
       "    <tr>\n",
       "      <th>50%</th>\n",
       "      <td>2.963218e+06</td>\n",
       "      <td>20.000000</td>\n",
       "      <td>15001.000000</td>\n",
       "      <td>55.000000</td>\n",
       "      <td>1.000000</td>\n",
       "      <td>840.000000</td>\n",
       "      <td>6.000000</td>\n",
       "    </tr>\n",
       "    <tr>\n",
       "      <th>75%</th>\n",
       "      <td>4.664492e+06</td>\n",
       "      <td>68.000000</td>\n",
       "      <td>54001.000000</td>\n",
       "      <td>72.000000</td>\n",
       "      <td>1.000000</td>\n",
       "      <td>840.000000</td>\n",
       "      <td>6.000000</td>\n",
       "    </tr>\n",
       "    <tr>\n",
       "      <th>max</th>\n",
       "      <td>6.390842e+06</td>\n",
       "      <td>47001.000000</td>\n",
       "      <td>99773.000000</td>\n",
       "      <td>108.000000</td>\n",
       "      <td>3.000000</td>\n",
       "      <td>862.000000</td>\n",
       "      <td>6.000000</td>\n",
       "    </tr>\n",
       "  </tbody>\n",
       "</table>\n",
       "</div>"
      ],
      "text/plain": [
       "            case_id  department_code  municipality_code           age  \\\n",
       "count  4.879700e+04     48797.000000       48797.000000  48797.000000   \n",
       "mean   3.063136e+06      1333.884399       30586.295018     53.571879   \n",
       "std    1.880610e+06      6040.837648       26888.110392     22.675508   \n",
       "min    1.140000e+02         5.000000        5001.000000      1.000000   \n",
       "25%    1.445576e+06        11.000000       11001.000000     35.000000   \n",
       "50%    2.963218e+06        20.000000       15001.000000     55.000000   \n",
       "75%    4.664492e+06        68.000000       54001.000000     72.000000   \n",
       "max    6.390842e+06     47001.000000       99773.000000    108.000000   \n",
       "\n",
       "           age_unit  country_iso_code  ethnic_affiliation  \n",
       "count  48797.000000         39.000000        48784.000000  \n",
       "mean       1.004427        567.743590            5.904866  \n",
       "std        0.072012        334.770677            0.611432  \n",
       "min        1.000000          8.000000            1.000000  \n",
       "25%        1.000000        201.000000            6.000000  \n",
       "50%        1.000000        840.000000            6.000000  \n",
       "75%        1.000000        840.000000            6.000000  \n",
       "max        3.000000        862.000000            6.000000  "
      ]
     },
     "execution_count": 19,
     "metadata": {},
     "output_type": "execute_result"
    }
   ],
   "source": [
    "df.describe()"
   ]
  },
  {
   "cell_type": "markdown",
   "metadata": {},
   "source": [
    "### Detect issues that have to be fixed later during the pre-processing part"
   ]
  },
  {
   "cell_type": "markdown",
   "metadata": {},
   "source": [
    "#### Checking for missing values"
   ]
  },
  {
   "cell_type": "code",
   "execution_count": 20,
   "metadata": {},
   "outputs": [
    {
     "data": {
      "text/plain": [
       "report_date               0\n",
       "case_id                   0\n",
       "notification_date         0\n",
       "department_code           0\n",
       "department_name           0\n",
       "municipality_code         0\n",
       "municipality_name         0\n",
       "age                       0\n",
       "age_unit                  0\n",
       "gender                    0\n",
       "contagion_type            0\n",
       "case_location          5406\n",
       "status                 5406\n",
       "country_iso_code      48758\n",
       "country_name          48758\n",
       "recovered              4734\n",
       "symptom_start_date     2175\n",
       "death_date            24826\n",
       "diagnosis_date           27\n",
       "recovery_date         23308\n",
       "recovery_type         23315\n",
       "ethnic_affiliation       13\n",
       "ethnic_group_name     48099\n",
       "dtype: int64"
      ]
     },
     "execution_count": 20,
     "metadata": {},
     "output_type": "execute_result"
    }
   ],
   "source": [
    "df.isnull().sum()"
   ]
  },
  {
   "cell_type": "code",
   "execution_count": 21,
   "metadata": {},
   "outputs": [
    {
     "data": {
      "text/html": [
       "<div>\n",
       "<style scoped>\n",
       "    .dataframe tbody tr th:only-of-type {\n",
       "        vertical-align: middle;\n",
       "    }\n",
       "\n",
       "    .dataframe tbody tr th {\n",
       "        vertical-align: top;\n",
       "    }\n",
       "\n",
       "    .dataframe thead th {\n",
       "        text-align: right;\n",
       "    }\n",
       "</style>\n",
       "<table border=\"1\" class=\"dataframe\">\n",
       "  <thead>\n",
       "    <tr style=\"text-align: right;\">\n",
       "      <th></th>\n",
       "      <th>Missing Counts</th>\n",
       "      <th>Percentage</th>\n",
       "      <th>More than 30% missing</th>\n",
       "    </tr>\n",
       "  </thead>\n",
       "  <tbody>\n",
       "    <tr>\n",
       "      <th>country_iso_code</th>\n",
       "      <td>48758</td>\n",
       "      <td>99.9</td>\n",
       "      <td>True</td>\n",
       "    </tr>\n",
       "    <tr>\n",
       "      <th>country_name</th>\n",
       "      <td>48758</td>\n",
       "      <td>99.9</td>\n",
       "      <td>True</td>\n",
       "    </tr>\n",
       "    <tr>\n",
       "      <th>ethnic_group_name</th>\n",
       "      <td>48099</td>\n",
       "      <td>98.6</td>\n",
       "      <td>True</td>\n",
       "    </tr>\n",
       "    <tr>\n",
       "      <th>death_date</th>\n",
       "      <td>24826</td>\n",
       "      <td>50.9</td>\n",
       "      <td>True</td>\n",
       "    </tr>\n",
       "    <tr>\n",
       "      <th>recovery_type</th>\n",
       "      <td>23315</td>\n",
       "      <td>47.8</td>\n",
       "      <td>True</td>\n",
       "    </tr>\n",
       "    <tr>\n",
       "      <th>recovery_date</th>\n",
       "      <td>23308</td>\n",
       "      <td>47.8</td>\n",
       "      <td>True</td>\n",
       "    </tr>\n",
       "    <tr>\n",
       "      <th>case_location</th>\n",
       "      <td>5406</td>\n",
       "      <td>11.1</td>\n",
       "      <td>False</td>\n",
       "    </tr>\n",
       "    <tr>\n",
       "      <th>status</th>\n",
       "      <td>5406</td>\n",
       "      <td>11.1</td>\n",
       "      <td>False</td>\n",
       "    </tr>\n",
       "    <tr>\n",
       "      <th>recovered</th>\n",
       "      <td>4734</td>\n",
       "      <td>9.7</td>\n",
       "      <td>False</td>\n",
       "    </tr>\n",
       "    <tr>\n",
       "      <th>symptom_start_date</th>\n",
       "      <td>2175</td>\n",
       "      <td>4.5</td>\n",
       "      <td>False</td>\n",
       "    </tr>\n",
       "    <tr>\n",
       "      <th>diagnosis_date</th>\n",
       "      <td>27</td>\n",
       "      <td>0.1</td>\n",
       "      <td>False</td>\n",
       "    </tr>\n",
       "    <tr>\n",
       "      <th>ethnic_affiliation</th>\n",
       "      <td>13</td>\n",
       "      <td>0.0</td>\n",
       "      <td>False</td>\n",
       "    </tr>\n",
       "  </tbody>\n",
       "</table>\n",
       "</div>"
      ],
      "text/plain": [
       "                    Missing Counts  Percentage  More than 30% missing\n",
       "country_iso_code             48758        99.9                   True\n",
       "country_name                 48758        99.9                   True\n",
       "ethnic_group_name            48099        98.6                   True\n",
       "death_date                   24826        50.9                   True\n",
       "recovery_type                23315        47.8                   True\n",
       "recovery_date                23308        47.8                   True\n",
       "case_location                 5406        11.1                  False\n",
       "status                        5406        11.1                  False\n",
       "recovered                     4734         9.7                  False\n",
       "symptom_start_date            2175         4.5                  False\n",
       "diagnosis_date                  27         0.1                  False\n",
       "ethnic_affiliation              13         0.0                  False"
      ]
     },
     "execution_count": 21,
     "metadata": {},
     "output_type": "execute_result"
    }
   ],
   "source": [
    "# Function to calculate missing values by column\n",
    "def missing_values_table(df):\n",
    "    # Total missing values\n",
    "    mis_val = df.isnull().sum()\n",
    "\n",
    "    # Percentage of missing values\n",
    "    mis_val_percent = 100 * df.isnull().sum() / len(df)\n",
    "\n",
    "    # Percentage of missing values beyond 30%\n",
    "    mis_val_percent_more_than_threshold = mis_val_percent > 30\n",
    "\n",
    "    # Make a table with the results\n",
    "    mis_val_table = pd.concat([mis_val, mis_val_percent, mis_val_percent_more_than_threshold], axis=1)\n",
    "\n",
    "    # Rename the columns\n",
    "    mis_val_table_ren_columns = mis_val_table.rename(columns = {0 : 'Missing Counts', 1 : 'Percentage', 2 : 'More than 30% missing'})\n",
    "\n",
    "    # Sort the table by percentage of missing descending\n",
    "    mis_val_table_ren_columns = mis_val_table_ren_columns[mis_val_table_ren_columns.iloc[:,1] != 0].sort_values(\n",
    "        'Percentage', ascending=False).round(1)\n",
    "\n",
    "    # Return the dataframe with missing information\n",
    "    return mis_val_table_ren_columns\n",
    "\n",
    "missing_values_table(df)"
   ]
  },
  {
   "cell_type": "code",
   "execution_count": 22,
   "metadata": {},
   "outputs": [
    {
     "name": "stdout",
     "output_type": "stream",
     "text": [
      "Column 'country_iso_code' has more than 30% NaN values: 99.92%\n",
      "Column 'country_name' has more than 30% NaN values: 99.92%\n",
      "Column 'death_date' has more than 30% NaN values: 50.88%\n",
      "Column 'recovery_date' has more than 30% NaN values: 47.77%\n",
      "Column 'recovery_type' has more than 30% NaN values: 47.78%\n",
      "Column 'ethnic_group_name' has more than 30% NaN values: 98.57%\n",
      "---------------------------------------------------------------\n",
      "Column 'case_location' has less than 30% NaN values: 11.08%\n",
      "Column 'status' has less than 30% NaN values: 11.08%\n",
      "Column 'recovered' has less than 30% NaN values: 9.70%\n",
      "Column 'symptom_start_date' has less than 30% NaN values: 4.46%\n",
      "Column 'diagnosis_date' has less than 30% NaN values: 0.06%\n",
      "Column 'ethnic_affiliation' has less than 30% NaN values: 0.03%\n"
     ]
    }
   ],
   "source": [
    "threshold = 0.3\n",
    "for column in df.columns:\n",
    "    nan_ratio = df[column].isna().mean()\n",
    "    if nan_ratio > threshold:\n",
    "        print(f\"Column '{column}' has more than 30% NaN values: {nan_ratio:.2%}\")\n",
    "print('---------------------------------------------------------------')\n",
    "for column in df.columns:\n",
    "    nan_ratio = df[column].isna().mean()\n",
    "    if nan_ratio < threshold and nan_ratio != 0:\n",
    "        print(f\"Column '{column}' has less than 30% NaN values: {nan_ratio:.2%}\")"
   ]
  },
  {
   "cell_type": "markdown",
   "metadata": {},
   "source": [
    "#### Detect duplicated records"
   ]
  },
  {
   "cell_type": "code",
   "execution_count": 23,
   "metadata": {},
   "outputs": [
    {
     "name": "stdout",
     "output_type": "stream",
     "text": [
      "Number of duplicate rows: 0\n"
     ]
    }
   ],
   "source": [
    "duplicates = df.duplicated()\n",
    "print(f\"Number of duplicate rows: {duplicates.sum()}\")"
   ]
  },
  {
   "cell_type": "markdown",
   "metadata": {},
   "source": [
    "#### Correlation Analysis with correlation matrix"
   ]
  },
  {
   "cell_type": "code",
   "execution_count": 24,
   "metadata": {},
   "outputs": [
    {
     "data": {
      "image/png": "[encoded data removed]",
      "text/plain": [
       "<Figure size 1000x800 with 2 Axes>"
      ]
     },
     "metadata": {},
     "output_type": "display_data"
    }
   ],
   "source": [
    "numeric_cols = df.select_dtypes(include=['float64', 'int64']).columns\n",
    "correlation_matrix = df[numeric_cols].corr()\n",
    "\n",
    "# Visualize correlations\n",
    "plt.figure(figsize=(10, 8))\n",
    "sns.heatmap(correlation_matrix, annot=True, cmap='coolwarm')\n",
    "plt.title('Correlation Matrix Before Feature Selection')\n",
    "plt.show()"
   ]
  },
  {
   "cell_type": "markdown",
   "metadata": {},
   "source": [
    "## 3. Data Pre-processing"
   ]
  },
  {
   "cell_type": "markdown",
   "metadata": {},
   "source": [
    "We can see that we have a lot of irrelevant data, missing values, class inbalancing, date columns to be replaced, categorical variables to be encoded, and so on.\n",
    "\n",
    "So let's clear our data..."
   ]
  },
  {
   "cell_type": "markdown",
   "metadata": {},
   "source": [
    "### Dropping/filling missing values"
   ]
  },
  {
   "cell_type": "markdown",
   "metadata": {},
   "source": [
    "#### From Data Understanding part :"
   ]
  },
  {
   "cell_type": "code",
   "execution_count": 25,
   "metadata": {},
   "outputs": [
    {
     "data": {
      "text/html": [
       "<div>\n",
       "<style scoped>\n",
       "    .dataframe tbody tr th:only-of-type {\n",
       "        vertical-align: middle;\n",
       "    }\n",
       "\n",
       "    .dataframe tbody tr th {\n",
       "        vertical-align: top;\n",
       "    }\n",
       "\n",
       "    .dataframe thead th {\n",
       "        text-align: right;\n",
       "    }\n",
       "</style>\n",
       "<table border=\"1\" class=\"dataframe\">\n",
       "  <thead>\n",
       "    <tr style=\"text-align: right;\">\n",
       "      <th></th>\n",
       "      <th>Missing Counts</th>\n",
       "      <th>Percentage</th>\n",
       "      <th>More than 30% missing</th>\n",
       "    </tr>\n",
       "  </thead>\n",
       "  <tbody>\n",
       "    <tr>\n",
       "      <th>country_iso_code</th>\n",
       "      <td>48758</td>\n",
       "      <td>99.9</td>\n",
       "      <td>True</td>\n",
       "    </tr>\n",
       "    <tr>\n",
       "      <th>country_name</th>\n",
       "      <td>48758</td>\n",
       "      <td>99.9</td>\n",
       "      <td>True</td>\n",
       "    </tr>\n",
       "    <tr>\n",
       "      <th>ethnic_group_name</th>\n",
       "      <td>48099</td>\n",
       "      <td>98.6</td>\n",
       "      <td>True</td>\n",
       "    </tr>\n",
       "    <tr>\n",
       "      <th>death_date</th>\n",
       "      <td>24826</td>\n",
       "      <td>50.9</td>\n",
       "      <td>True</td>\n",
       "    </tr>\n",
       "    <tr>\n",
       "      <th>recovery_type</th>\n",
       "      <td>23315</td>\n",
       "      <td>47.8</td>\n",
       "      <td>True</td>\n",
       "    </tr>\n",
       "    <tr>\n",
       "      <th>recovery_date</th>\n",
       "      <td>23308</td>\n",
       "      <td>47.8</td>\n",
       "      <td>True</td>\n",
       "    </tr>\n",
       "    <tr>\n",
       "      <th>case_location</th>\n",
       "      <td>5406</td>\n",
       "      <td>11.1</td>\n",
       "      <td>False</td>\n",
       "    </tr>\n",
       "    <tr>\n",
       "      <th>status</th>\n",
       "      <td>5406</td>\n",
       "      <td>11.1</td>\n",
       "      <td>False</td>\n",
       "    </tr>\n",
       "    <tr>\n",
       "      <th>recovered</th>\n",
       "      <td>4734</td>\n",
       "      <td>9.7</td>\n",
       "      <td>False</td>\n",
       "    </tr>\n",
       "    <tr>\n",
       "      <th>symptom_start_date</th>\n",
       "      <td>2175</td>\n",
       "      <td>4.5</td>\n",
       "      <td>False</td>\n",
       "    </tr>\n",
       "    <tr>\n",
       "      <th>diagnosis_date</th>\n",
       "      <td>27</td>\n",
       "      <td>0.1</td>\n",
       "      <td>False</td>\n",
       "    </tr>\n",
       "    <tr>\n",
       "      <th>ethnic_affiliation</th>\n",
       "      <td>13</td>\n",
       "      <td>0.0</td>\n",
       "      <td>False</td>\n",
       "    </tr>\n",
       "  </tbody>\n",
       "</table>\n",
       "</div>"
      ],
      "text/plain": [
       "                    Missing Counts  Percentage  More than 30% missing\n",
       "country_iso_code             48758        99.9                   True\n",
       "country_name                 48758        99.9                   True\n",
       "ethnic_group_name            48099        98.6                   True\n",
       "death_date                   24826        50.9                   True\n",
       "recovery_type                23315        47.8                   True\n",
       "recovery_date                23308        47.8                   True\n",
       "case_location                 5406        11.1                  False\n",
       "status                        5406        11.1                  False\n",
       "recovered                     4734         9.7                  False\n",
       "symptom_start_date            2175         4.5                  False\n",
       "diagnosis_date                  27         0.1                  False\n",
       "ethnic_affiliation              13         0.0                  False"
      ]
     },
     "execution_count": 25,
     "metadata": {},
     "output_type": "execute_result"
    }
   ],
   "source": [
    "missing_values_table(df)"
   ]
  },
  {
   "cell_type": "code",
   "execution_count": 26,
   "metadata": {},
   "outputs": [],
   "source": [
    "columns_drop = ['country_name', 'country_iso_code', 'recovery_date', 'recovery_type', 'ethnic_group_name']\n",
    "columns_fill = ['case_location', 'status', 'recovered', 'symptom_start_date', 'diagnosis_date', 'ethnic_affiliation']\n",
    "df.drop(columns=columns_drop, axis=1, inplace=True)\n",
    "for column in columns_fill:\n",
    "    if df[column].dtype == 'object':\n",
    "        df[column].fillna(df[column].value_counts().index[0], inplace=True)\n",
    "    else:\n",
    "        df[column].fillna(df[column].mean(), inplace=True)"
   ]
  },
  {
   "cell_type": "markdown",
   "metadata": {},
   "source": [
    "#### Making sure there are no missing values anymore, except for death_date that will be transformed later"
   ]
  },
  {
   "cell_type": "code",
   "execution_count": 27,
   "metadata": {},
   "outputs": [
    {
     "data": {
      "text/plain": [
       "report_date               0\n",
       "case_id                   0\n",
       "notification_date         0\n",
       "department_code           0\n",
       "department_name           0\n",
       "municipality_code         0\n",
       "municipality_name         0\n",
       "age                       0\n",
       "age_unit                  0\n",
       "gender                    0\n",
       "contagion_type            0\n",
       "case_location             0\n",
       "status                    0\n",
       "recovered                 0\n",
       "symptom_start_date        0\n",
       "death_date            24826\n",
       "diagnosis_date            0\n",
       "ethnic_affiliation        0\n",
       "dtype: int64"
      ]
     },
     "execution_count": 27,
     "metadata": {},
     "output_type": "execute_result"
    }
   ],
   "source": [
    "df.isnull().sum()"
   ]
  },
  {
   "cell_type": "markdown",
   "metadata": {},
   "source": [
    "### Transforming our Target Variable (death_date) to boolean values, and renaming it"
   ]
  },
  {
   "cell_type": "code",
   "execution_count": 28,
   "metadata": {},
   "outputs": [],
   "source": [
    "df['is_dead'] = df['death_date'].notna()\n",
    "df.drop(columns=['death_date'], inplace=True)"
   ]
  },
  {
   "cell_type": "markdown",
   "metadata": {},
   "source": [
    "### Filtering relevant features"
   ]
  },
  {
   "cell_type": "code",
   "execution_count": 29,
   "metadata": {},
   "outputs": [],
   "source": [
    "relevant_features = [\n",
    "    \"department_code\", \"age\", \"gender\", \"contagion_type\", \"case_location\",\n",
    "    \"symptom_start_date\", \"diagnosis_date\", \"is_dead\"\n",
    "    ]\n",
    "df = df[relevant_features]\n"
   ]
  },
  {
   "cell_type": "markdown",
   "metadata": {},
   "source": [
    "### Converting date columns"
   ]
  },
  {
   "cell_type": "code",
   "execution_count": 30,
   "metadata": {},
   "outputs": [
    {
     "name": "stderr",
     "output_type": "stream",
     "text": [
      "/var/folders/8s/dc7b8qvs1rs11dp05g8_n5xw0000gp/T/ipykernel_54187/1469152063.py:3: SettingWithCopyWarning: \n",
      "A value is trying to be set on a copy of a slice from a DataFrame.\n",
      "Try using .loc[row_indexer,col_indexer] = value instead\n",
      "\n",
      "See the caveats in the documentation: https://pandas.pydata.org/pandas-docs/stable/user_guide/indexing.html#returning-a-view-versus-a-copy\n",
      "  df[col] = pd.to_datetime(df[col], errors='coerce')\n",
      "/var/folders/8s/dc7b8qvs1rs11dp05g8_n5xw0000gp/T/ipykernel_54187/1469152063.py:3: SettingWithCopyWarning: \n",
      "A value is trying to be set on a copy of a slice from a DataFrame.\n",
      "Try using .loc[row_indexer,col_indexer] = value instead\n",
      "\n",
      "See the caveats in the documentation: https://pandas.pydata.org/pandas-docs/stable/user_guide/indexing.html#returning-a-view-versus-a-copy\n",
      "  df[col] = pd.to_datetime(df[col], errors='coerce')\n"
     ]
    }
   ],
   "source": [
    "date_columns = [\"symptom_start_date\", \"diagnosis_date\"]\n",
    "for col in date_columns:\n",
    "    df[col] = pd.to_datetime(df[col], errors='coerce')"
   ]
  },
  {
   "cell_type": "markdown",
   "metadata": {},
   "source": [
    "### Visualize outliers"
   ]
  },
  {
   "cell_type": "code",
   "execution_count": 31,
   "metadata": {},
   "outputs": [
    {
     "data": {
      "image/png": "[encoded data removed]",
      "text/plain": [
       "<Figure size 640x480 with 1 Axes>"
      ]
     },
     "metadata": {},
     "output_type": "display_data"
    }
   ],
   "source": [
    "sns.boxplot(data=df, x='age')\n",
    "plt.show()"
   ]
  },
  {
   "cell_type": "markdown",
   "metadata": {},
   "source": [
    "### Visualize distribution"
   ]
  },
  {
   "cell_type": "code",
   "execution_count": 32,
   "metadata": {},
   "outputs": [
    {
     "name": "stderr",
     "output_type": "stream",
     "text": [
      "/opt/anaconda3/lib/python3.11/site-packages/seaborn/_oldcore.py:1119: FutureWarning: use_inf_as_na option is deprecated and will be removed in a future version. Convert inf values to NaN before operating instead.\n",
      "  with pd.option_context('mode.use_inf_as_na', True):\n"
     ]
    },
    {
     "data": {
      "image/png": "[encoded data removed]",
      "text/plain": [
       "<Figure size 640x480 with 1 Axes>"
      ]
     },
     "metadata": {},
     "output_type": "display_data"
    },
    {
     "name": "stderr",
     "output_type": "stream",
     "text": [
      "/opt/anaconda3/lib/python3.11/site-packages/seaborn/_oldcore.py:1119: FutureWarning: use_inf_as_na option is deprecated and will be removed in a future version. Convert inf values to NaN before operating instead.\n",
      "  with pd.option_context('mode.use_inf_as_na', True):\n"
     ]
    },
    {
     "data": {
      "image/png": "[encoded data removed]",
      "text/plain": [
       "<Figure size 640x480 with 1 Axes>"
      ]
     },
     "metadata": {},
     "output_type": "display_data"
    },
    {
     "name": "stderr",
     "output_type": "stream",
     "text": [
      "/opt/anaconda3/lib/python3.11/site-packages/seaborn/_oldcore.py:1119: FutureWarning: use_inf_as_na option is deprecated and will be removed in a future version. Convert inf values to NaN before operating instead.\n",
      "  with pd.option_context('mode.use_inf_as_na', True):\n"
     ]
    },
    {
     "data": {
      "image/png": "[encoded data removed]",
      "text/plain": [
       "<Figure size 640x480 with 1 Axes>"
      ]
     },
     "metadata": {},
     "output_type": "display_data"
    }
   ],
   "source": [
    "sns.histplot(df['case_location'], kde=True)\n",
    "plt.title('Case Location')\n",
    "plt.show()\n",
    "sns.histplot(df['gender'], kde=True)\n",
    "plt.title('Gender')\n",
    "plt.show()\n",
    "sns.histplot(df['contagion_type'], kde=True)\n",
    "plt.title('Contagion Type')\n",
    "plt.show()"
   ]
  },
  {
   "cell_type": "code",
   "execution_count": 33,
   "metadata": {},
   "outputs": [
    {
     "data": {
      "text/plain": [
       "case_location\n",
       "Casa         30123\n",
       "Fallecido    18565\n",
       "casa           104\n",
       "Hospital         5\n",
       "Name: count, dtype: int64"
      ]
     },
     "execution_count": 33,
     "metadata": {},
     "output_type": "execute_result"
    }
   ],
   "source": [
    "df['case_location'].value_counts()"
   ]
  },
  {
   "cell_type": "code",
   "execution_count": 34,
   "metadata": {},
   "outputs": [
    {
     "data": {
      "text/plain": [
       "contagion_type\n",
       "Comunitaria    35937\n",
       "Relacionado    12821\n",
       "Importado         39\n",
       "Name: count, dtype: int64"
      ]
     },
     "execution_count": 34,
     "metadata": {},
     "output_type": "execute_result"
    }
   ],
   "source": [
    "df['contagion_type'].value_counts()"
   ]
  },
  {
   "cell_type": "markdown",
   "metadata": {},
   "source": [
    "### Dropping records with 'casa' and 'Hospital' as Case location, and with 'Importado' as Contagion Type because they are insignificant"
   ]
  },
  {
   "cell_type": "code",
   "execution_count": 35,
   "metadata": {},
   "outputs": [],
   "source": [
    "df = df[~df['case_location'].isin(['casa', 'Hospital'])]\n",
    "df = df[df['contagion_type'] != 'Importado']"
   ]
  },
  {
   "cell_type": "markdown",
   "metadata": {},
   "source": [
    "### Encoding categorical variables"
   ]
  },
  {
   "cell_type": "code",
   "execution_count": 36,
   "metadata": {},
   "outputs": [],
   "source": [
    "label_encoder = LabelEncoder()\n",
    "df['gender'] = label_encoder.fit_transform(df['gender'])\n",
    "df['contagion_type'] = label_encoder.fit_transform(df['contagion_type'])\n",
    "df['case_location'] = label_encoder.fit_transform(df['case_location'])\n",
    "\n",
    "df['symptom_start_date'] = label_encoder.fit_transform(df['symptom_start_date'])\n",
    "df['diagnosis_date'] = label_encoder.fit_transform(df['diagnosis_date'])\n",
    "df['is_dead'] = label_encoder.fit_transform(df['is_dead'])"
   ]
  },
  {
   "cell_type": "markdown",
   "metadata": {},
   "source": [
    "### Normalizing numeric features"
   ]
  },
  {
   "cell_type": "code",
   "execution_count": 37,
   "metadata": {},
   "outputs": [],
   "source": [
    "scaler = StandardScaler()\n",
    "df['age'] = scaler.fit_transform(df[['age']])"
   ]
  },
  {
   "cell_type": "code",
   "execution_count": 38,
   "metadata": {},
   "outputs": [
    {
     "data": {
      "text/html": [
       "<div>\n",
       "<style scoped>\n",
       "    .dataframe tbody tr th:only-of-type {\n",
       "        vertical-align: middle;\n",
       "    }\n",
       "\n",
       "    .dataframe tbody tr th {\n",
       "        vertical-align: top;\n",
       "    }\n",
       "\n",
       "    .dataframe thead th {\n",
       "        text-align: right;\n",
       "    }\n",
       "</style>\n",
       "<table border=\"1\" class=\"dataframe\">\n",
       "  <thead>\n",
       "    <tr style=\"text-align: right;\">\n",
       "      <th></th>\n",
       "      <th>department_code</th>\n",
       "      <th>age</th>\n",
       "      <th>gender</th>\n",
       "      <th>contagion_type</th>\n",
       "      <th>case_location</th>\n",
       "      <th>symptom_start_date</th>\n",
       "      <th>diagnosis_date</th>\n",
       "      <th>is_dead</th>\n",
       "    </tr>\n",
       "  </thead>\n",
       "  <tbody>\n",
       "    <tr>\n",
       "      <th>0</th>\n",
       "      <td>76</td>\n",
       "      <td>0.282246</td>\n",
       "      <td>0</td>\n",
       "      <td>0</td>\n",
       "      <td>0</td>\n",
       "      <td>425</td>\n",
       "      <td>423</td>\n",
       "      <td>0</td>\n",
       "    </tr>\n",
       "    <tr>\n",
       "      <th>1</th>\n",
       "      <td>68</td>\n",
       "      <td>1.428915</td>\n",
       "      <td>1</td>\n",
       "      <td>1</td>\n",
       "      <td>0</td>\n",
       "      <td>195</td>\n",
       "      <td>196</td>\n",
       "      <td>1</td>\n",
       "    </tr>\n",
       "    <tr>\n",
       "      <th>2</th>\n",
       "      <td>8</td>\n",
       "      <td>-0.599808</td>\n",
       "      <td>0</td>\n",
       "      <td>1</td>\n",
       "      <td>0</td>\n",
       "      <td>363</td>\n",
       "      <td>365</td>\n",
       "      <td>0</td>\n",
       "    </tr>\n",
       "    <tr>\n",
       "      <th>3</th>\n",
       "      <td>11</td>\n",
       "      <td>-0.820321</td>\n",
       "      <td>1</td>\n",
       "      <td>0</td>\n",
       "      <td>0</td>\n",
       "      <td>656</td>\n",
       "      <td>419</td>\n",
       "      <td>0</td>\n",
       "    </tr>\n",
       "    <tr>\n",
       "      <th>4</th>\n",
       "      <td>44</td>\n",
       "      <td>-1.570067</td>\n",
       "      <td>0</td>\n",
       "      <td>0</td>\n",
       "      <td>0</td>\n",
       "      <td>672</td>\n",
       "      <td>676</td>\n",
       "      <td>0</td>\n",
       "    </tr>\n",
       "  </tbody>\n",
       "</table>\n",
       "</div>"
      ],
      "text/plain": [
       "   department_code       age  gender  contagion_type  case_location  \\\n",
       "0               76  0.282246       0               0              0   \n",
       "1               68  1.428915       1               1              0   \n",
       "2                8 -0.599808       0               1              0   \n",
       "3               11 -0.820321       1               0              0   \n",
       "4               44 -1.570067       0               0              0   \n",
       "\n",
       "   symptom_start_date  diagnosis_date  is_dead  \n",
       "0                 425             423        0  \n",
       "1                 195             196        1  \n",
       "2                 363             365        0  \n",
       "3                 656             419        0  \n",
       "4                 672             676        0  "
      ]
     },
     "execution_count": 38,
     "metadata": {},
     "output_type": "execute_result"
    }
   ],
   "source": [
    "df.head()"
   ]
  },
  {
   "cell_type": "markdown",
   "metadata": {},
   "source": [
    "### Making sure the variables are not too much correlated"
   ]
  },
  {
   "cell_type": "code",
   "execution_count": 39,
   "metadata": {},
   "outputs": [
    {
     "data": {
      "image/png": "[encoded data removed]",
      "text/plain": [
       "<Figure size 800x600 with 2 Axes>"
      ]
     },
     "metadata": {},
     "output_type": "display_data"
    }
   ],
   "source": [
    "numeric_cols_selected = df.select_dtypes(include=['float64', 'int64']).columns\n",
    "correlation_matrix_selected = df[numeric_cols_selected].corr()\n",
    "\n",
    "# Visualize\n",
    "plt.figure(figsize=(8, 6))\n",
    "sns.heatmap(correlation_matrix_selected, annot=True, cmap='coolwarm')\n",
    "plt.title('Correlation Matrix After Feature Selection')\n",
    "plt.show()"
   ]
  },
  {
   "cell_type": "markdown",
   "metadata": {},
   "source": [
    "### symptom_start_date & diagnosis_date are too much correlated, let's keep only one of them"
   ]
  },
  {
   "cell_type": "code",
   "execution_count": 40,
   "metadata": {},
   "outputs": [],
   "source": [
    "df.drop(columns=['symptom_start_date'], axis=1, inplace=True)"
   ]
  },
  {
   "cell_type": "markdown",
   "metadata": {},
   "source": [
    "## 4. Data split"
   ]
  },
  {
   "cell_type": "code",
   "execution_count": 41,
   "metadata": {},
   "outputs": [],
   "source": [
    "X = df.drop(columns=['is_dead'])\n",
    "y = df['is_dead']\n",
    "\n",
    "X_train, X_test, y_train, y_test = train_test_split(X, y, test_size=0.3, random_state=42)"
   ]
  },
  {
   "cell_type": "markdown",
   "metadata": {},
   "source": [
    "## 5. KNN: Death prediction in Colombia due to covid-19."
   ]
  },
  {
   "cell_type": "markdown",
   "metadata": {},
   "source": [
    "### Standardization, to put all the features on a comparable scale"
   ]
  },
  {
   "cell_type": "code",
   "execution_count": 42,
   "metadata": {},
   "outputs": [],
   "source": [
    "scaler = StandardScaler()\n",
    "\n",
    "X_train = scaler.fit_transform(X_train)\n",
    "X_test = scaler.transform(X_test)"
   ]
  },
  {
   "cell_type": "markdown",
   "metadata": {},
   "source": [
    "### Data Training"
   ]
  },
  {
   "cell_type": "code",
   "execution_count": 43,
   "metadata": {},
   "outputs": [
    {
     "data": {
      "text/html": [
       "<style>#sk-container-id-1 {color: black;background-color: white;}#sk-container-id-1 pre{padding: 0;}#sk-container-id-1 div.sk-toggleable {background-color: white;}#sk-container-id-1 label.sk-toggleable__label {cursor: pointer;display: block;width: 100%;margin-bottom: 0;padding: 0.3em;box-sizing: border-box;text-align: center;}#sk-container-id-1 label.sk-toggleable__label-arrow:before {content: \"▸\";float: left;margin-right: 0.25em;color: #696969;}#sk-container-id-1 label.sk-toggleable__label-arrow:hover:before {color: black;}#sk-container-id-1 div.sk-estimator:hover label.sk-toggleable__label-arrow:before {color: black;}#sk-container-id-1 div.sk-toggleable__content {max-height: 0;max-width: 0;overflow: hidden;text-align: left;background-color: #f0f8ff;}#sk-container-id-1 div.sk-toggleable__content pre {margin: 0.2em;color: black;border-radius: 0.25em;background-color: #f0f8ff;}#sk-container-id-1 input.sk-toggleable__control:checked~div.sk-toggleable__content {max-height: 200px;max-width: 100%;overflow: auto;}#sk-container-id-1 input.sk-toggleable__control:checked~label.sk-toggleable__label-arrow:before {content: \"▾\";}#sk-container-id-1 div.sk-estimator input.sk-toggleable__control:checked~label.sk-toggleable__label {background-color: #d4ebff;}#sk-container-id-1 div.sk-label input.sk-toggleable__control:checked~label.sk-toggleable__label {background-color: #d4ebff;}#sk-container-id-1 input.sk-hidden--visually {border: 0;clip: rect(1px 1px 1px 1px);clip: rect(1px, 1px, 1px, 1px);height: 1px;margin: -1px;overflow: hidden;padding: 0;position: absolute;width: 1px;}#sk-container-id-1 div.sk-estimator {font-family: monospace;background-color: #f0f8ff;border: 1px dotted black;border-radius: 0.25em;box-sizing: border-box;margin-bottom: 0.5em;}#sk-container-id-1 div.sk-estimator:hover {background-color: #d4ebff;}#sk-container-id-1 div.sk-parallel-item::after {content: \"\";width: 100%;border-bottom: 1px solid gray;flex-grow: 1;}#sk-container-id-1 div.sk-label:hover label.sk-toggleable__label {background-color: #d4ebff;}#sk-container-id-1 div.sk-serial::before {content: \"\";position: absolute;border-left: 1px solid gray;box-sizing: border-box;top: 0;bottom: 0;left: 50%;z-index: 0;}#sk-container-id-1 div.sk-serial {display: flex;flex-direction: column;align-items: center;background-color: white;padding-right: 0.2em;padding-left: 0.2em;position: relative;}#sk-container-id-1 div.sk-item {position: relative;z-index: 1;}#sk-container-id-1 div.sk-parallel {display: flex;align-items: stretch;justify-content: center;background-color: white;position: relative;}#sk-container-id-1 div.sk-item::before, #sk-container-id-1 div.sk-parallel-item::before {content: \"\";position: absolute;border-left: 1px solid gray;box-sizing: border-box;top: 0;bottom: 0;left: 50%;z-index: -1;}#sk-container-id-1 div.sk-parallel-item {display: flex;flex-direction: column;z-index: 1;position: relative;background-color: white;}#sk-container-id-1 div.sk-parallel-item:first-child::after {align-self: flex-end;width: 50%;}#sk-container-id-1 div.sk-parallel-item:last-child::after {align-self: flex-start;width: 50%;}#sk-container-id-1 div.sk-parallel-item:only-child::after {width: 0;}#sk-container-id-1 div.sk-dashed-wrapped {border: 1px dashed gray;margin: 0 0.4em 0.5em 0.4em;box-sizing: border-box;padding-bottom: 0.4em;background-color: white;}#sk-container-id-1 div.sk-label label {font-family: monospace;font-weight: bold;display: inline-block;line-height: 1.2em;}#sk-container-id-1 div.sk-label-container {text-align: center;}#sk-container-id-1 div.sk-container {/* jupyter's `normalize.less` sets `[hidden] { display: none; }` but bootstrap.min.css set `[hidden] { display: none !important; }` so we also need the `!important` here to be able to override the default hidden behavior on the sphinx rendered scikit-learn.org. See: https://github.com/scikit-learn/scikit-learn/issues/21755 */display: inline-block !important;position: relative;}#sk-container-id-1 div.sk-text-repr-fallback {display: none;}</style><div id=\"sk-container-id-1\" class=\"sk-top-container\"><div class=\"sk-text-repr-fallback\"><pre>KNeighborsClassifier()</pre><b>In a Jupyter environment, please rerun this cell to show the HTML representation or trust the notebook. <br />On GitHub, the HTML representation is unable to render, please try loading this page with nbviewer.org.</b></div><div class=\"sk-container\" hidden><div class=\"sk-item\"><div class=\"sk-estimator sk-toggleable\"><input class=\"sk-toggleable__control sk-hidden--visually\" id=\"sk-estimator-id-1\" type=\"checkbox\" checked><label for=\"sk-estimator-id-1\" class=\"sk-toggleable__label sk-toggleable__label-arrow\">KNeighborsClassifier</label><div class=\"sk-toggleable__content\"><pre>KNeighborsClassifier()</pre></div></div></div></div></div>"
      ],
      "text/plain": [
       "KNeighborsClassifier()"
      ]
     },
     "execution_count": 43,
     "metadata": {},
     "output_type": "execute_result"
    }
   ],
   "source": [
    "knn = KNeighborsClassifier(n_neighbors=5)\n",
    "\n",
    "knn.fit(X_train, y_train)"
   ]
  },
  {
   "cell_type": "markdown",
   "metadata": {},
   "source": [
    "### Data Testing/Evaluation before HP Tuning"
   ]
  },
  {
   "cell_type": "markdown",
   "metadata": {},
   "source": [
    "#### Accuracy, precision, recall, f1 score"
   ]
  },
  {
   "cell_type": "code",
   "execution_count": 44,
   "metadata": {},
   "outputs": [
    {
     "name": "stdout",
     "output_type": "stream",
     "text": [
      "KNN - Accuracy: 91.751.\n",
      "KNN - Precision: 0.918.\n",
      "KNN - Recall: 0.918.\n",
      "KNN - F1_Score: 0.918.\n",
      "\n",
      "KNN-Classification report:\n",
      "              precision    recall  f1-score   support\n",
      "\n",
      "           0       0.90      0.94      0.92      7342\n",
      "           1       0.94      0.89      0.92      7253\n",
      "\n",
      "    accuracy                           0.92     14595\n",
      "   macro avg       0.92      0.92      0.92     14595\n",
      "weighted avg       0.92      0.92      0.92     14595\n",
      "\n"
     ]
    }
   ],
   "source": [
    "y_pred = knn.predict(X_test)\n",
    "train_accuracy = accuracy_score(y_train, knn.predict(X_train))\n",
    "test_accuracy = accuracy_score(y_test, knn.predict(X_test))\n",
    "\n",
    "knn_acc = accuracy_score(y_test, y_pred)*100\n",
    "knn_pre = precision_score(y_test, y_pred, average = 'micro')\n",
    "knn_recall = recall_score(y_test, y_pred, average = 'micro')\n",
    "knn_f1_ = f1_score(y_test, y_pred, average = 'micro')\n",
    "\n",
    "print(\"KNN - Accuracy: {:.3f}.\".format(knn_acc))\n",
    "print(\"KNN - Precision: {:.3f}.\".format(knn_pre))\n",
    "print(\"KNN - Recall: {:.3f}.\".format(knn_recall))\n",
    "print(\"KNN - F1_Score: {:.3f}.\".format(knn_f1_))\n",
    "\n",
    "print(\"\\nKNN-Classification report:\")\n",
    "print(classification_report(y_test, y_pred))"
   ]
  },
  {
   "cell_type": "markdown",
   "metadata": {},
   "source": [
    "We remarked that the accuracy is very high, so we wanted to check if our model is not overfitting by comparing the training and test accuracy"
   ]
  },
  {
   "cell_type": "code",
   "execution_count": 45,
   "metadata": {},
   "outputs": [
    {
     "name": "stdout",
     "output_type": "stream",
     "text": [
      "KNN-Training Accuracy:  94.0 %\n",
      "KNN-Test Accuracy:  92.0 %\n"
     ]
    }
   ],
   "source": [
    "train_accuracy = round(accuracy_score(y_train, knn.predict(X_train)), 2) * 100\n",
    "test_accuracy = round(accuracy_score(y_test, knn.predict(X_test)), 2) * 100\n",
    "\n",
    "print('KNN-Training Accuracy: ', train_accuracy, '%')\n",
    "print('KNN-Test Accuracy: ', test_accuracy, '%')"
   ]
  },
  {
   "cell_type": "markdown",
   "metadata": {},
   "source": [
    "#### Confusion Matrix"
   ]
  },
  {
   "cell_type": "code",
   "execution_count": 46,
   "metadata": {},
   "outputs": [
    {
     "name": "stdout",
     "output_type": "stream",
     "text": [
      "Confusion matrix:\n",
      "[[6906  436]\n",
      " [ 768 6485]]\n"
     ]
    },
    {
     "data": {
      "image/png": "[encoded data removed]",
      "text/plain": [
       "<Figure size 300x300 with 2 Axes>"
      ]
     },
     "metadata": {},
     "output_type": "display_data"
    }
   ],
   "source": [
    "print(\"Confusion matrix:\")\n",
    "cm = confusion_matrix(y_test, y_pred)\n",
    "print(cm)\n",
    "\n",
    "plt.figure(figsize=(3,3))\n",
    "sns.heatmap(cm, annot=True, linewidths=.5, square = True, cmap = 'PuBuGn');\n",
    "plt.xlabel('Predicted label');\n",
    "plt.ylabel('Actual label');\n",
    "plt.title(\"Consfusion Matrix\", size = 12);"
   ]
  },
  {
   "cell_type": "markdown",
   "metadata": {},
   "source": [
    "### HP Tuning"
   ]
  },
  {
   "cell_type": "code",
   "execution_count": 47,
   "metadata": {},
   "outputs": [
    {
     "name": "stdout",
     "output_type": "stream",
     "text": [
      "Fitting 10 folds for each of 640 candidates, totalling 6400 fits\n"
     ]
    },
    {
     "name": "stderr",
     "output_type": "stream",
     "text": [
      "\n",
      "KeyboardInterrupt\n",
      "\n"
     ]
    }
   ],
   "source": [
    "parameters = {\n",
    "    'n_neighbors': np.arange(5, 7, 1),\n",
    "    'weights' : ['uniform', 'distance'],\n",
    "    'algorithm' : ['auto', 'ball_tree', 'kd_tree', 'brute'],\n",
    "    'leaf_size': np.arange(30, 50, 1),\n",
    "    'p' : (1,2) # p=1 for manhattan_distance and p=2 for euclidean_distance\n",
    "}\n",
    "\n",
    "knn_grid = GridSearchCV(estimator = knn, param_grid = parameters, cv = 10, verbose = 1)\n",
    "\n",
    "# Fit the grid search model\n",
    "knn_grid.fit(X_train, y_train)\n",
    "\n",
    "print(\"\\nBest Parameters: \", knn_grid.best_params_)\n",
    "print(\"Best Scores: \", knn_grid.best_score_) \n",
    "\n",
    "y_pred = knn_grid.predict(X_test)"
   ]
  },
  {
   "cell_type": "markdown",
   "metadata": {},
   "source": [
    "### Data Testing/Evaluation after HP Tuning"
   ]
  },
  {
   "cell_type": "markdown",
   "metadata": {},
   "source": [
    "#### Accuracy, precision, recall, f1 score"
   ]
  },
  {
   "cell_type": "code",
   "execution_count": null,
   "metadata": {},
   "outputs": [],
   "source": [
    "knn_acc = accuracy_score(y_test, y_pred)*100\n",
    "knn_pre = precision_score(y_test, y_pred, average = 'micro')\n",
    "knn_recall = recall_score(y_test, y_pred, average = 'micro')\n",
    "knn_f1_ = f1_score(y_test, y_pred, average = 'micro')\n",
    "\n",
    "print(\"KNN - Accuracy: {:.3f}.\".format(knn_acc))\n",
    "print(\"KNN - Precision: {:.3f}.\".format(knn_pre))\n",
    "print(\"KNN - Recall: {:.3f}.\".format(knn_recall))\n",
    "print(\"KNN - F1_Score: {:.3f}.\".format(knn_f1_))\n",
    "\n",
    "print(\"\\nClassification report:\")\n",
    "print(classification_report(y_test, y_pred))"
   ]
  },
  {
   "cell_type": "markdown",
   "metadata": {},
   "source": [
    "#### Confusion Matrix"
   ]
  },
  {
   "cell_type": "code",
   "execution_count": null,
   "metadata": {
    "vscode": {
     "languageId": "javascript"
    }
   },
   "outputs": [],
   "source": [
    "print(\"Confusion matrix:\")\n",
    "cm = confusion_matrix(y_test, y_pred)\n",
    "print(cm)\n",
    "\n",
    "plt.figure(figsize=(3,3))\n",
    "sns.heatmap(cm, annot=True, linewidths=.5, square = True, cmap = 'PuBuGn');\n",
    "plt.xlabel('Predicted label');\n",
    "plt.ylabel('Actual label');\n",
    "plt.title(\"Consfusion Matrix\", size = 12);"
   ]
  },
  {
   "cell_type": "markdown",
   "metadata": {},
   "source": [
    "### Cross validation"
   ]
  },
  {
   "cell_type": "code",
   "execution_count": null,
   "metadata": {
    "vscode": {
     "languageId": "javascript"
    }
   },
   "outputs": [
    {
     "ename": "NameError",
     "evalue": "name 'cross_val_score' is not defined",
     "output_type": "error",
     "traceback": [
      "\u001b[1;31m---------------------------------------------------------------------------\u001b[0m",
      "\u001b[1;31mNameError\u001b[0m                                 Traceback (most recent call last)",
      "Cell \u001b[1;32mIn[1], line 1\u001b[0m\n\u001b[1;32m----> 1\u001b[0m cv_scores \u001b[38;5;241m=\u001b[39m \u001b[43mcross_val_score\u001b[49m(knn, X, y, cv\u001b[38;5;241m=\u001b[39m\u001b[38;5;241m10\u001b[39m, scoring\u001b[38;5;241m=\u001b[39m\u001b[38;5;124m'\u001b[39m\u001b[38;5;124maccuracy\u001b[39m\u001b[38;5;124m'\u001b[39m)\n\u001b[0;32m      2\u001b[0m \u001b[38;5;28mprint\u001b[39m(\u001b[38;5;124mf\u001b[39m\u001b[38;5;124m\"\u001b[39m\u001b[38;5;124mCross-validation Accuracy: \u001b[39m\u001b[38;5;132;01m{\u001b[39;00mcv_scores\u001b[38;5;241m.\u001b[39mmean()\u001b[38;5;132;01m:\u001b[39;00m\u001b[38;5;124m.2f\u001b[39m\u001b[38;5;132;01m}\u001b[39;00m\u001b[38;5;124m\"\u001b[39m)\n",
      "\u001b[1;31mNameError\u001b[0m: name 'cross_val_score' is not defined"
     ]
    }
   ],
   "source": [
    "cv_scores = cross_val_score(knn, X, y, cv=10, scoring='accuracy')\n",
    "print(f\"Cross-validation Accuracy: {cv_scores.mean():.2f}\")"
   ]
  },
  {
   "cell_type": "markdown",
   "metadata": {},
   "source": [
    "## 6. Logistic Regression: Death prediction in Colombia due to covid-19."
   ]
  },
  {
   "cell_type": "markdown",
   "metadata": {},
   "source": [
    "### Data training"
   ]
  },
  {
   "cell_type": "code",
   "execution_count": 56,
   "metadata": {},
   "outputs": [
    {
     "data": {
      "text/html": [
       "<style>#sk-container-id-3 {color: black;background-color: white;}#sk-container-id-3 pre{padding: 0;}#sk-container-id-3 div.sk-toggleable {background-color: white;}#sk-container-id-3 label.sk-toggleable__label {cursor: pointer;display: block;width: 100%;margin-bottom: 0;padding: 0.3em;box-sizing: border-box;text-align: center;}#sk-container-id-3 label.sk-toggleable__label-arrow:before {content: \"▸\";float: left;margin-right: 0.25em;color: #696969;}#sk-container-id-3 label.sk-toggleable__label-arrow:hover:before {color: black;}#sk-container-id-3 div.sk-estimator:hover label.sk-toggleable__label-arrow:before {color: black;}#sk-container-id-3 div.sk-toggleable__content {max-height: 0;max-width: 0;overflow: hidden;text-align: left;background-color: #f0f8ff;}#sk-container-id-3 div.sk-toggleable__content pre {margin: 0.2em;color: black;border-radius: 0.25em;background-color: #f0f8ff;}#sk-container-id-3 input.sk-toggleable__control:checked~div.sk-toggleable__content {max-height: 200px;max-width: 100%;overflow: auto;}#sk-container-id-3 input.sk-toggleable__control:checked~label.sk-toggleable__label-arrow:before {content: \"▾\";}#sk-container-id-3 div.sk-estimator input.sk-toggleable__control:checked~label.sk-toggleable__label {background-color: #d4ebff;}#sk-container-id-3 div.sk-label input.sk-toggleable__control:checked~label.sk-toggleable__label {background-color: #d4ebff;}#sk-container-id-3 input.sk-hidden--visually {border: 0;clip: rect(1px 1px 1px 1px);clip: rect(1px, 1px, 1px, 1px);height: 1px;margin: -1px;overflow: hidden;padding: 0;position: absolute;width: 1px;}#sk-container-id-3 div.sk-estimator {font-family: monospace;background-color: #f0f8ff;border: 1px dotted black;border-radius: 0.25em;box-sizing: border-box;margin-bottom: 0.5em;}#sk-container-id-3 div.sk-estimator:hover {background-color: #d4ebff;}#sk-container-id-3 div.sk-parallel-item::after {content: \"\";width: 100%;border-bottom: 1px solid gray;flex-grow: 1;}#sk-container-id-3 div.sk-label:hover label.sk-toggleable__label {background-color: #d4ebff;}#sk-container-id-3 div.sk-serial::before {content: \"\";position: absolute;border-left: 1px solid gray;box-sizing: border-box;top: 0;bottom: 0;left: 50%;z-index: 0;}#sk-container-id-3 div.sk-serial {display: flex;flex-direction: column;align-items: center;background-color: white;padding-right: 0.2em;padding-left: 0.2em;position: relative;}#sk-container-id-3 div.sk-item {position: relative;z-index: 1;}#sk-container-id-3 div.sk-parallel {display: flex;align-items: stretch;justify-content: center;background-color: white;position: relative;}#sk-container-id-3 div.sk-item::before, #sk-container-id-3 div.sk-parallel-item::before {content: \"\";position: absolute;border-left: 1px solid gray;box-sizing: border-box;top: 0;bottom: 0;left: 50%;z-index: -1;}#sk-container-id-3 div.sk-parallel-item {display: flex;flex-direction: column;z-index: 1;position: relative;background-color: white;}#sk-container-id-3 div.sk-parallel-item:first-child::after {align-self: flex-end;width: 50%;}#sk-container-id-3 div.sk-parallel-item:last-child::after {align-self: flex-start;width: 50%;}#sk-container-id-3 div.sk-parallel-item:only-child::after {width: 0;}#sk-container-id-3 div.sk-dashed-wrapped {border: 1px dashed gray;margin: 0 0.4em 0.5em 0.4em;box-sizing: border-box;padding-bottom: 0.4em;background-color: white;}#sk-container-id-3 div.sk-label label {font-family: monospace;font-weight: bold;display: inline-block;line-height: 1.2em;}#sk-container-id-3 div.sk-label-container {text-align: center;}#sk-container-id-3 div.sk-container {/* jupyter's `normalize.less` sets `[hidden] { display: none; }` but bootstrap.min.css set `[hidden] { display: none !important; }` so we also need the `!important` here to be able to override the default hidden behavior on the sphinx rendered scikit-learn.org. See: https://github.com/scikit-learn/scikit-learn/issues/21755 */display: inline-block !important;position: relative;}#sk-container-id-3 div.sk-text-repr-fallback {display: none;}</style><div id=\"sk-container-id-3\" class=\"sk-top-container\"><div class=\"sk-text-repr-fallback\"><pre>LogisticRegression(class_weight=&#x27;balanced&#x27;, max_iter=10000, solver=&#x27;saga&#x27;)</pre><b>In a Jupyter environment, please rerun this cell to show the HTML representation or trust the notebook. <br />On GitHub, the HTML representation is unable to render, please try loading this page with nbviewer.org.</b></div><div class=\"sk-container\" hidden><div class=\"sk-item\"><div class=\"sk-estimator sk-toggleable\"><input class=\"sk-toggleable__control sk-hidden--visually\" id=\"sk-estimator-id-3\" type=\"checkbox\" checked><label for=\"sk-estimator-id-3\" class=\"sk-toggleable__label sk-toggleable__label-arrow\">LogisticRegression</label><div class=\"sk-toggleable__content\"><pre>LogisticRegression(class_weight=&#x27;balanced&#x27;, max_iter=10000, solver=&#x27;saga&#x27;)</pre></div></div></div></div></div>"
      ],
      "text/plain": [
       "LogisticRegression(class_weight='balanced', max_iter=10000, solver='saga')"
      ]
     },
     "execution_count": 56,
     "metadata": {},
     "output_type": "execute_result"
    }
   ],
   "source": [
    "log_reg = LogisticRegression(max_iter = 10000, solver='saga' , class_weight = 'balanced')\n",
    "\n",
    "#Fitting Logistic Regression\n",
    "log_reg.fit(X_train, y_train)"
   ]
  },
  {
   "cell_type": "markdown",
   "metadata": {},
   "source": [
    "### Data Testing/Evaluation before HP Tuning"
   ]
  },
  {
   "cell_type": "markdown",
   "metadata": {},
   "source": [
    "#### Prediction"
   ]
  },
  {
   "cell_type": "code",
   "execution_count": 57,
   "metadata": {},
   "outputs": [],
   "source": [
    "y_pred = log_reg.predict(X_test)"
   ]
  },
  {
   "cell_type": "markdown",
   "metadata": {},
   "source": [
    "#### Accuracy, precision, recall, f1 score"
   ]
  },
  {
   "cell_type": "code",
   "execution_count": 58,
   "metadata": {},
   "outputs": [
    {
     "name": "stdout",
     "output_type": "stream",
     "text": [
      "LR-Accuracy:  93.0 %\n",
      "LR-Precision:  0.93\n",
      "LR-Recall:  0.93\n",
      "LR-F1 Score:  0.93\n"
     ]
    },
    {
     "name": "stdout",
     "output_type": "stream",
     "text": [
      "\n",
      " LR-Clasification Report:\n",
      "               precision    recall  f1-score   support\n",
      "\n",
      "           0       0.90      0.96      0.93      7342\n",
      "           1       0.95      0.90      0.92      7253\n",
      "\n",
      "    accuracy                           0.93     14595\n",
      "   macro avg       0.93      0.93      0.93     14595\n",
      "weighted avg       0.93      0.93      0.93     14595\n",
      "\n"
     ]
    }
   ],
   "source": [
    "print ('LR-Accuracy: ', round(accuracy_score(y_test, y_pred), 2)*100,'%')\n",
    "print ('LR-Precision: ', round(precision_score(y_test, y_pred, average = 'micro'), 2)) \n",
    "print ('LR-Recall: ', round(recall_score(y_test, y_pred, average = 'micro'), 2)) \n",
    "print ('LR-F1 Score: ', round(f1_score(y_test, y_pred, average = 'micro'), 2)) \n",
    "print ('\\n LR-Clasification Report:\\n', classification_report(y_test, y_pred))"
   ]
  },
  {
   "cell_type": "markdown",
   "metadata": {},
   "source": [
    "We remarked that the accuracy is very high, so we wanted to check if our model is not overfitting by comparing the training and test accuracy"
   ]
  },
  {
   "cell_type": "code",
   "execution_count": 59,
   "metadata": {},
   "outputs": [
    {
     "name": "stdout",
     "output_type": "stream",
     "text": [
      "LR-Training Accuracy:  93.0 %\n",
      "LR-Test Accuracy:  93.0 %\n"
     ]
    }
   ],
   "source": [
    "train_accuracy = round(accuracy_score(y_train, log_reg.predict(X_train)), 2) * 100\n",
    "test_accuracy = round(accuracy_score(y_test, log_reg.predict(X_test)), 2) * 100\n",
    "\n",
    "print('LR-Training Accuracy: ', train_accuracy, '%')\n",
    "print('LR-Test Accuracy: ', test_accuracy, '%')"
   ]
  },
  {
   "cell_type": "markdown",
   "metadata": {},
   "source": [
    "#### Confusion Matrix"
   ]
  },
  {
   "cell_type": "code",
   "execution_count": 60,
   "metadata": {},
   "outputs": [
    {
     "name": "stdout",
     "output_type": "stream",
     "text": [
      "[[7021  321]\n",
      " [ 755 6498]]\n"
     ]
    },
    {
     "data": {
      "image/png": "[encoded data removed]",
      "text/plain": [
       "<Figure size 400x400 with 2 Axes>"
      ]
     },
     "metadata": {},
     "output_type": "display_data"
    }
   ],
   "source": [
    "cm = confusion_matrix(y_test, y_pred)\n",
    "print(cm)\n",
    "plt.figure(figsize=(4,4))\n",
    "sns.heatmap(cm, annot=True, linewidths=.5, square = True, cmap = 'Blues_r');\n",
    "plt.xlabel('Actual label');\n",
    "plt.ylabel('Predicted label');\n",
    "plt.title(\"LR-Confusion Matrix\", size = 10);"
   ]
  },
  {
   "cell_type": "markdown",
   "metadata": {},
   "source": [
    "#### Plot ROC Curve"
   ]
  },
  {
   "cell_type": "code",
   "execution_count": 61,
   "metadata": {},
   "outputs": [
    {
     "data": {
      "image/png": "[encoded data removed]",
      "text/plain": [
       "<Figure size 800x600 with 1 Axes>"
      ]
     },
     "metadata": {},
     "output_type": "display_data"
    }
   ],
   "source": [
    "def plot_roc (fpr, tpr, auc):\n",
    "    plt.figure(figsize=(8, 6))\n",
    "    plt.plot([0, 1], [0, 1], 'k--', label='Random Guess')\n",
    "    plt.plot(fpr, tpr, label=f'ROC curve (AUC = {auc:.3f})', color='blue')\n",
    "    plt.xlabel('False Positive Rate')\n",
    "    plt.ylabel('True Positive Rate')\n",
    "    plt.title('Receiver Operating Characteristic (ROC) Curve')\n",
    "    plt.legend(loc='best')\n",
    "    plt.grid()\n",
    "    plt.show()\n",
    "\n",
    "y_proba = log_reg.predict_proba(X_test)[:, 1]\n",
    "\n",
    "fpr, tpr, thresholds = roc_curve(y_test, y_proba)\n",
    "auc = roc_auc_score(y_test, y_proba)\n",
    "\n",
    "plot_roc(fpr, tpr, auc)"
   ]
  },
  {
   "cell_type": "markdown",
   "metadata": {},
   "source": [
    "### HP Tuning"
   ]
  },
  {
   "cell_type": "code",
   "execution_count": 63,
   "metadata": {},
   "outputs": [
    {
     "name": "stdout",
     "output_type": "stream",
     "text": [
      "Fitting 5 folds for each of 72 candidates, totalling 360 fits\n"
     ]
    },
    {
     "name": "stderr",
     "output_type": "stream",
     "text": [
      "/opt/anaconda3/lib/python3.11/site-packages/sklearn/linear_model/_sag.py:350: ConvergenceWarning: The max_iter was reached which means the coef_ did not converge\n",
      "  warnings.warn(\n",
      "/opt/anaconda3/lib/python3.11/site-packages/sklearn/linear_model/_sag.py:350: ConvergenceWarning: The max_iter was reached which means the coef_ did not converge\n",
      "  warnings.warn(\n",
      "/opt/anaconda3/lib/python3.11/site-packages/sklearn/linear_model/_sag.py:350: ConvergenceWarning: The max_iter was reached which means the coef_ did not converge\n",
      "  warnings.warn(\n",
      "/opt/anaconda3/lib/python3.11/site-packages/sklearn/linear_model/_sag.py:350: ConvergenceWarning: The max_iter was reached which means the coef_ did not converge\n",
      "  warnings.warn(\n",
      "/opt/anaconda3/lib/python3.11/site-packages/sklearn/linear_model/_sag.py:350: ConvergenceWarning: The max_iter was reached which means the coef_ did not converge\n",
      "  warnings.warn(\n",
      "/opt/anaconda3/lib/python3.11/site-packages/sklearn/linear_model/_sag.py:350: ConvergenceWarning: The max_iter was reached which means the coef_ did not converge\n",
      "  warnings.warn(\n",
      "/opt/anaconda3/lib/python3.11/site-packages/sklearn/linear_model/_sag.py:350: ConvergenceWarning: The max_iter was reached which means the coef_ did not converge\n",
      "  warnings.warn(\n",
      "/opt/anaconda3/lib/python3.11/site-packages/sklearn/linear_model/_sag.py:350: ConvergenceWarning: The max_iter was reached which means the coef_ did not converge\n",
      "  warnings.warn(\n",
      "/opt/anaconda3/lib/python3.11/site-packages/sklearn/linear_model/_sag.py:350: ConvergenceWarning: The max_iter was reached which means the coef_ did not converge\n",
      "  warnings.warn(\n",
      "/opt/anaconda3/lib/python3.11/site-packages/sklearn/linear_model/_sag.py:350: ConvergenceWarning: The max_iter was reached which means the coef_ did not converge\n",
      "  warnings.warn(\n",
      "/opt/anaconda3/lib/python3.11/site-packages/sklearn/linear_model/_sag.py:350: ConvergenceWarning: The max_iter was reached which means the coef_ did not converge\n",
      "  warnings.warn(\n",
      "/opt/anaconda3/lib/python3.11/site-packages/sklearn/linear_model/_sag.py:350: ConvergenceWarning: The max_iter was reached which means the coef_ did not converge\n",
      "  warnings.warn(\n",
      "/opt/anaconda3/lib/python3.11/site-packages/sklearn/linear_model/_sag.py:350: ConvergenceWarning: The max_iter was reached which means the coef_ did not converge\n",
      "  warnings.warn(\n",
      "/opt/anaconda3/lib/python3.11/site-packages/sklearn/linear_model/_sag.py:350: ConvergenceWarning: The max_iter was reached which means the coef_ did not converge\n",
      "  warnings.warn(\n",
      "/opt/anaconda3/lib/python3.11/site-packages/sklearn/linear_model/_sag.py:350: ConvergenceWarning: The max_iter was reached which means the coef_ did not converge\n",
      "  warnings.warn(\n",
      "/opt/anaconda3/lib/python3.11/site-packages/sklearn/linear_model/_sag.py:350: ConvergenceWarning: The max_iter was reached which means the coef_ did not converge\n",
      "  warnings.warn(\n",
      "/opt/anaconda3/lib/python3.11/site-packages/sklearn/linear_model/_sag.py:350: ConvergenceWarning: The max_iter was reached which means the coef_ did not converge\n",
      "  warnings.warn(\n",
      "/opt/anaconda3/lib/python3.11/site-packages/sklearn/linear_model/_sag.py:350: ConvergenceWarning: The max_iter was reached which means the coef_ did not converge\n",
      "  warnings.warn(\n",
      "/opt/anaconda3/lib/python3.11/site-packages/sklearn/linear_model/_sag.py:350: ConvergenceWarning: The max_iter was reached which means the coef_ did not converge\n",
      "  warnings.warn(\n",
      "/opt/anaconda3/lib/python3.11/site-packages/sklearn/linear_model/_sag.py:350: ConvergenceWarning: The max_iter was reached which means the coef_ did not converge\n",
      "  warnings.warn(\n",
      "/opt/anaconda3/lib/python3.11/site-packages/sklearn/linear_model/_sag.py:350: ConvergenceWarning: The max_iter was reached which means the coef_ did not converge\n",
      "  warnings.warn(\n",
      "/opt/anaconda3/lib/python3.11/site-packages/sklearn/linear_model/_sag.py:350: ConvergenceWarning: The max_iter was reached which means the coef_ did not converge\n",
      "  warnings.warn(\n",
      "/opt/anaconda3/lib/python3.11/site-packages/sklearn/linear_model/_sag.py:350: ConvergenceWarning: The max_iter was reached which means the coef_ did not converge\n",
      "  warnings.warn(\n",
      "/opt/anaconda3/lib/python3.11/site-packages/sklearn/linear_model/_sag.py:350: ConvergenceWarning: The max_iter was reached which means the coef_ did not converge\n",
      "  warnings.warn(\n",
      "/opt/anaconda3/lib/python3.11/site-packages/sklearn/linear_model/_sag.py:350: ConvergenceWarning: The max_iter was reached which means the coef_ did not converge\n",
      "  warnings.warn(\n"
     ]
    },
    {
     "name": "stdout",
     "output_type": "stream",
     "text": [
      "Best Hyperparameters: {'C': 1, 'max_iter': 100, 'penalty': 'l2', 'solver': 'liblinear'}\n",
      "Best Cross-Validation Score: 0.9258\n",
      "LR-Training Accuracy (Randomized Search): 93.0%\n",
      "LR-Test Accuracy (Randomized Search): 93.0%\n"
     ]
    }
   ],
   "source": [
    "#HP Tuning using grid search\n",
    "\n",
    "param_grid = {\n",
    "    'C': [0.001, 0.01, 0.1, 1, 10, 100],  # Regularization strength\n",
    "    'solver': ['liblinear', 'saga'],      # Solver options\n",
    "    'penalty': ['l1', 'l2'],              # Regularization type\n",
    "    'max_iter': [100, 500, 1000]          # Number of iterations\n",
    "}\n",
    "\n",
    "grid_search = GridSearchCV(log_reg, param_grid, cv=5, n_jobs=-1, verbose=1)\n",
    "grid_search.fit(X_train, y_train)\n",
    "\n",
    "best_params = grid_search.best_params_\n",
    "print(f\"Best Hyperparameters: {best_params}\")\n",
    "print(f\"Best Cross-Validation Score: {grid_search.best_score_:.4f}\")\n",
    "\n",
    "best_model = grid_search.best_estimator_\n",
    "y_pred = best_model.predict(X_test)\n",
    "\n",
    "train_accuracy_random = round(accuracy_score(y_train, best_model.predict(X_train)), 2) * 100\n",
    "test_accuracy_random = round(accuracy_score(y_test, y_pred), 2) * 100\n",
    "\n",
    "print(f\"LR-Training Accuracy (Randomized Search): {train_accuracy_random}%\")\n",
    "print(f\"LR-Test Accuracy (Randomized Search): {test_accuracy_random}%\")\n"
   ]
  },
  {
   "cell_type": "markdown",
   "metadata": {},
   "source": [
    "The HP Tuning didn't change a thing. In this case we don't need to re-do the Data Evaluation. "
   ]
  },
  {
   "cell_type": "markdown",
   "metadata": {},
   "source": [
    "### Cross Validation"
   ]
  },
  {
   "cell_type": "code",
   "execution_count": 64,
   "metadata": {},
   "outputs": [
    {
     "name": "stdout",
     "output_type": "stream",
     "text": [
      "Cross-validation Accuracy: 0.93 ± 0.00\n"
     ]
    }
   ],
   "source": [
    "cv_scores = cross_val_score(log_reg, X_train, y_train, cv=5, scoring='accuracy')\n",
    "print(f\"Cross-validation Accuracy: {cv_scores.mean():.2f} ± {cv_scores.std():.2f}\")"
   ]
  }
 ],
 "metadata": {
  "kernelspec": {
   "display_name": "Python 3",
   "language": "python",
   "name": "python3"
  },
  "language_info": {
   "codemirror_mode": {
    "name": "ipython",
    "version": 3
   },
   "file_extension": ".py",
   "mimetype": "text/x-python",
   "name": "python",
   "nbconvert_exporter": "python",
   "pygments_lexer": "ipython3",
   "version": "3.11.7"
  }
 },
 "nbformat": 4,
 "nbformat_minor": 2
}
